{
 "cells": [
  {
   "cell_type": "markdown",
   "id": "71ffd9f6",
   "metadata": {},
   "source": [
    "env ml_py37"
   ]
  },
  {
   "cell_type": "markdown",
   "id": "d5bb180a",
   "metadata": {},
   "source": [
    "# Regression"
   ]
  },
  {
   "cell_type": "markdown",
   "id": "335106b2",
   "metadata": {},
   "source": [
    "![Regression](regression.png)"
   ]
  },
  {
   "cell_type": "markdown",
   "id": "98c32b14",
   "metadata": {},
   "source": [
    "## Section 1"
   ]
  },
  {
   "cell_type": "code",
   "execution_count": 12,
   "id": "6d82ce46",
   "metadata": {},
   "outputs": [],
   "source": [
    "from sklearn.datasets import load_diabetes\n",
    "from sklearn.linear_model import LinearRegression\n",
    "from sklearn import metrics\n",
    "import numpy as np\n",
    "import pandas as pd"
   ]
  },
  {
   "cell_type": "markdown",
   "id": "195486a5",
   "metadata": {},
   "source": [
    "$$ A = \\pi r^2 $$"
   ]
  },
  {
   "cell_type": "markdown",
   "id": "be607faa",
   "metadata": {},
   "source": [
    "### Regression"
   ]
  },
  {
   "cell_type": "code",
   "execution_count": 2,
   "id": "57c4e671",
   "metadata": {},
   "outputs": [],
   "source": [
    "diabeties = load_diabetes()"
   ]
  },
  {
   "cell_type": "markdown",
   "id": "2d364911",
   "metadata": {},
   "source": [
    "## Section 2"
   ]
  },
  {
   "cell_type": "code",
   "execution_count": 4,
   "id": "f915ac77",
   "metadata": {},
   "outputs": [],
   "source": [
    "#diabeties"
   ]
  },
  {
   "cell_type": "code",
   "execution_count": 6,
   "id": "f841fbc3",
   "metadata": {},
   "outputs": [],
   "source": [
    "# split the data\n",
    "train_x, train_y = diabeties.data[:400], diabeties.target[:400]\n",
    "test_x, test_y = diabeties.data[400:], diabeties.target[400:]"
   ]
  },
  {
   "cell_type": "markdown",
   "id": "270d2ce6",
   "metadata": {},
   "source": [
    "## Section 3"
   ]
  },
  {
   "cell_type": "code",
   "execution_count": 7,
   "id": "be1d96d0",
   "metadata": {},
   "outputs": [],
   "source": [
    "ols = LinearRegression()\n",
    "ols.fit(train_x, train_y)\n",
    "err = metrics.mean_squared_error(test_y, ols.predict(test_x))\n",
    "r2 = metrics.r2_score(test_y, ols.predict(test_x))"
   ]
  },
  {
   "cell_type": "markdown",
   "id": "7ed07cbe",
   "metadata": {},
   "source": [
    "## Section 4"
   ]
  },
  {
   "cell_type": "markdown",
   "id": "768f50a5",
   "metadata": {},
   "source": [
    "![Step 4](regression_step4.png)"
   ]
  },
  {
   "cell_type": "code",
   "execution_count": 14,
   "id": "c5a4043f",
   "metadata": {},
   "outputs": [
    {
     "name": "stdout",
     "output_type": "stream",
     "text": [
      "---OLS on diabeties dataset---\n",
      "Coefficents: \n",
      "Intecept (b): 152.73\n",
      "age0: 5.03\n",
      "sex0: -238.41\n",
      "bmi0: 521.63\n",
      "bp0: 299.94\n",
      "s10: -752.12\n",
      "s20: 445.15\n",
      "s30: 83.51\n",
      "s40: 185.58\n",
      "s50: 706.47\n",
      "s60: 88.68\n",
      "--------------------\n",
      "R squared: 0.70  MSE: 1668.75 \n",
      "  RMSE: 40.85 \n",
      "\n"
     ]
    }
   ],
   "source": [
    "print(\"---OLS on diabeties dataset---\")\n",
    "print(\"Coefficents: \")\n",
    "print(\"Intecept (b): %.2f\"%ols.intercept_)\n",
    "for i in range(len(diabeties.feature_names)):\n",
    "    print(diabeties.feature_names[i]+\"0: %.2f\" %ols.coef_[i])\n",
    "print(\"-\"*20)\n",
    "rmse = np.sqrt(err)\n",
    "print(\"R squared: %.2f\"%r2, ' MSE: %.2f \\n' %err, ' RMSE: %.2f \\n' %rmse)    "
   ]
  },
  {
   "cell_type": "markdown",
   "id": "ec3ab992",
   "metadata": {},
   "source": [
    "## Logistic Regression"
   ]
  },
  {
   "cell_type": "markdown",
   "id": "9d3d2fa2",
   "metadata": {},
   "source": [
    "![Logistics Regression](logistics_regression.png)"
   ]
  },
  {
   "cell_type": "markdown",
   "id": "54e4f3fd",
   "metadata": {},
   "source": [
    "$$p(X) = \\frac{1}{1 + e^{-z}}$$"
   ]
  },
  {
   "cell_type": "code",
   "execution_count": 22,
   "id": "57b254d9",
   "metadata": {},
   "outputs": [],
   "source": [
    "from sklearn.datasets import load_breast_cancer\n",
    "from sklearn.linear_model import LogisticRegression\n",
    "bc = load_breast_cancer()"
   ]
  },
  {
   "cell_type": "code",
   "execution_count": 23,
   "id": "684559c5",
   "metadata": {},
   "outputs": [],
   "source": [
    "# split the data\n",
    "train_x, train_y = bc.data[:400], bc.target[:400]\n",
    "test_x, test_y = bc.data[400:], bc.target[400:]"
   ]
  },
  {
   "cell_type": "code",
   "execution_count": 25,
   "id": "aa15ac2c",
   "metadata": {},
   "outputs": [],
   "source": [
    "logit = LogisticRegression()\n",
    "logit.fit(train_x, train_y)\n",
    "err = metrics.mean_squared_error(test_y, logit.predict(test_x))\n",
    "r2 = metrics.r2_score(test_y, logit.predict(test_x))"
   ]
  },
  {
   "cell_type": "code",
   "execution_count": 32,
   "id": "5fdd64cb",
   "metadata": {},
   "outputs": [
    {
     "name": "stdout",
     "output_type": "stream",
     "text": [
      "---OLS on diabeties dataset---\n",
      "Coefficents: \n",
      "Intecept (b): 0.31\n",
      "mean radius0: 1.70\n",
      "mean texture0: 0.02\n",
      "mean perimeter0: 0.22\n",
      "mean area0: -0.01\n",
      "mean smoothness0: -0.11\n",
      "mean compactness0: -0.31\n",
      "mean concavity0: -0.43\n",
      "mean concave points0: -0.24\n",
      "mean symmetry0: -0.12\n",
      "mean fractal dimension0: -0.02\n",
      "radius error0: -0.00\n",
      "texture error0: 1.03\n",
      "perimeter error0: -0.09\n",
      "area error0: -0.09\n",
      "smoothness error0: -0.01\n",
      "compactness error0: -0.01\n",
      "concavity error0: -0.04\n",
      "concave points error0: -0.03\n",
      "symmetry error0: -0.03\n",
      "fractal dimension error0: 0.00\n",
      "worst radius0: 1.27\n",
      "worst texture0: -0.33\n",
      "worst perimeter0: -0.28\n",
      "worst area0: -0.02\n",
      "worst smoothness0: -0.19\n",
      "worst compactness0: -0.99\n",
      "worst concavity0: -1.24\n",
      "worst concave points0: -0.49\n",
      "worst symmetry0: -0.44\n",
      "worst fractal dimension0: -0.10\n",
      "--------------------\n",
      "R squared: 0.70  MSE: 0.05 \n",
      "  RMSE: 0.23 \n",
      "\n"
     ]
    }
   ],
   "source": [
    "print(\"---OLS on diabeties dataset---\")\n",
    "print(\"Coefficents: \")\n",
    "print(\"Intecept (b): %.2f\"%logit.intercept_)\n",
    "for i in range(len(bc.feature_names)):\n",
    "    print(bc.feature_names[i]+\"0: %.2f\" %logit.coef_[0][i])\n",
    "print(\"-\"*20)\n",
    "rmse = np.sqrt(err)\n",
    "print(\"R squared: %.2f\"%r2, ' MSE: %.2f \\n' %err, ' RMSE: %.2f \\n' %rmse)   "
   ]
  },
  {
   "cell_type": "code",
   "execution_count": null,
   "id": "08feb324",
   "metadata": {},
   "outputs": [],
   "source": []
  }
 ],
 "metadata": {
  "kernelspec": {
   "display_name": "Python 3 (ipykernel)",
   "language": "python",
   "name": "python3"
  },
  "language_info": {
   "codemirror_mode": {
    "name": "ipython",
    "version": 3
   },
   "file_extension": ".py",
   "mimetype": "text/x-python",
   "name": "python",
   "nbconvert_exporter": "python",
   "pygments_lexer": "ipython3",
   "version": "3.7.0"
  }
 },
 "nbformat": 4,
 "nbformat_minor": 5
}
