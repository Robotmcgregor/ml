{
 "cells": [
  {
   "cell_type": "code",
   "execution_count": 1,
   "metadata": {
    "collapsed": true
   },
   "outputs": [],
   "source": [
    "%matplotlib inline\n",
    "import pandas as pd\n",
    "import numpy as np\n",
    "import matplotlib.pyplot as plt\n",
    "import geopandas as gpd\n",
    "pd.set_option('chained_assignment',None)\n",
    "from __future__ import division\n",
    "#pd.set_option('precision', 8)"
   ]
  },
  {
   "cell_type": "code",
   "execution_count": 2,
   "metadata": {
    "collapsed": true
   },
   "outputs": [],
   "source": [
    "# this note book will take in the combined training and validation data which has been combined and produces the \n",
    "# \n",
    "# ratios and vegetation indices for Landsat-8 (use the one written for the sentinel-2) and converts them to int32 bit data \n",
    "# \n",
    "# and reduces the significant figures to 8 decimal places. Comment out the relevent input csv file at the start and finish\n",
    "#"
   ]
  },
  {
   "cell_type": "code",
   "execution_count": 5,
   "metadata": {},
   "outputs": [
    {
     "name": "stdout",
     "output_type": "stream",
     "text": [
      "['Unnamed: 0', 'Unnamed: 0.1', 'site', 'x', 'y', 'chm', 'std_1', 'Min_1', 'Max_1', 'count_1', 'perc5_1', 'perc10_1', 'perc25_1', 'perc50_1', 'perc75_1', 'perc80_1', 'perc95_1', 'perc99_1', 'cov', 'psB1a', 'psB2a', 'psB3a', 'psB4a', 'psB5a', 'psB6a', 'psB1d', 'psB2d', 'psB3d', 'psB4d', 'psB5d', 'psB6d', 'zone']\n",
      "(44666, 32)\n"
     ]
    }
   ],
   "source": [
    "# read in the zonal stats results\n",
    "a = pd.read_csv(\"combined_val_data_l8_fp_lidar_psBands.csv\", header=0)\n",
    "print (list(a))\n",
    "print (a.shape)"
   ]
  },
  {
   "cell_type": "code",
   "execution_count": 6,
   "metadata": {
    "collapsed": true
   },
   "outputs": [],
   "source": [
    "# read in the zonal stats results\n",
    "#a = pd.read_csv(\"combined_val_data_l8.csv\", header=0)\n",
    "#print (list(a))"
   ]
  },
  {
   "cell_type": "code",
   "execution_count": 7,
   "metadata": {
    "collapsed": true
   },
   "outputs": [],
   "source": [
    "# converts interger stage code dbg surface reflectance data for landsat 5 & 7 \n",
    "# to floating point for analysis of the vegetation index, blue band not used\n",
    "\n",
    "blue =((a['psB1a'].astype('int16')*0.0001)+0.0)\n",
    "\n",
    "green =((a['psB2a'].astype('int16')*0.0001)+0.0)\n",
    "red = ((a['psB3a'].astype('int16')*0.0001)+0.0)\n",
    "nir = ((a['psB4a'].astype('int16')*0.0001)+0.0)\n",
    "swir1 =((a['psB5a'].astype('int16')*0.0001)+0.0)\n",
    "swir2 =((a['psB6a'].astype('int16')*0.0001)+0.0)"
   ]
  },
  {
   "cell_type": "code",
   "execution_count": 8,
   "metadata": {
    "collapsed": true
   },
   "outputs": [],
   "source": [
    "# calculate the band ratios\n",
    "\n",
    "a['ratio32fa'] = (a['psB3a'] / a['psB2a'])\n",
    "a['ratio42fa'] = (a['psB4a'] / a['psB2a'])\n",
    "a['ratio43fa'] = (a['psB4a'] / a['psB3a'])\n",
    "a['ratio52fa'] = (a['psB5a'] / a['psB2a'])\n",
    "a['ratio53fa'] = (a['psB5a'] / a['psB3a'])\n",
    "a['ratio54fa'] = (a['psB5a'] / a['psB4a'])\n",
    "a['ratio62fa'] = (a['psB6a'] / a['psB2a'])\n",
    "a['ratio63fa'] = (a['psB6a'] / a['psB3a'])\n",
    "a['ratio64fa'] = (a['psB6a'] / a['psB4a'])\n",
    "a['ratio65fa'] = (a['psB6a'] / a['psB5a'])\n",
    "\n",
    "# calculate the band ratios and convert them to int32 bit at 7 decimal places\n",
    "\n",
    "a['ratio32a'] = np.int32(np.around(a['ratio32fa'] * 10 ** 7))\n",
    "\n",
    "a['ratio42a'] = np.int32(np.around(a['ratio42fa'] * 10 ** 7))\n",
    "\n",
    "a['ratio43a'] = np.int32(np.around(a['ratio43fa'] * 10 ** 7))\n",
    "\n",
    "a['ratio52a'] = np.int32(np.around(a['ratio52fa'] * 10 ** 7))\n",
    "\n",
    "a['ratio53a'] = np.int32(np.around(a['ratio53fa'] * 10 ** 7))\n",
    "\n",
    "a['ratio54a'] = np.int32(np.around(a['ratio54fa'] * 10 ** 7))\n",
    "\n",
    "a['ratio62a'] = np.int32(np.around(a['ratio62fa'] * 10 ** 7))\n",
    "\n",
    "a['ratio63a'] = np.int32(np.around(a['ratio63fa'] * 10 ** 7))\n",
    "\n",
    "a['ratio64a'] = np.int32(np.around(a['ratio64fa'] * 10 ** 7))\n",
    "\n",
    "a['ratio65a'] = np.int32(np.around(a['ratio65fa'] * 10 ** 7))"
   ]
  },
  {
   "cell_type": "code",
   "execution_count": 9,
   "metadata": {
    "collapsed": true
   },
   "outputs": [],
   "source": [
    "# calculate the vegetation indices\n",
    "a['GSAVIfa'] = ((nir-green)/(nir+green+0.5))*(1.5)\n",
    "a['GSAVIa'] = np.int32(np.around(a['GSAVIfa'] * 10 ** 7))\n",
    "\n",
    "a['GNDVIfa'] = (nir-green)/(nir+green)\n",
    "a['GNDVIa'] = np.int32(np.around(a['GNDVIfa'] * 10 ** 7))\n",
    "\n",
    "a['CVIfa']= (nir/green)*(red/green)\n",
    "a['CVIa'] = np.int32(np.around(a['CVIfa'] * 10 ** 7))\n",
    "\n",
    "a['NDGIfa']= (green-red)/(green+red)\n",
    "a['NDGIa'] = np.int32(np.around(a['NDGIfa'] * 10 ** 7))\n",
    "\n",
    "a['RIfa']= (red-green)/(red+green)\n",
    "a['RIa'] = np.int32(np.around(a['RIfa'] * 10 ** 7))\n",
    "\n",
    "a['NBRfa']= (nir-swir2)/(nir+swir2)\n",
    "a['NBRa'] = np.int32(np.around(a['NBRfa'] * 10 ** 7))\n",
    "\n",
    "a['NDIIfa']= (nir-swir1)/(nir+swir1)\n",
    "a['NDIIa'] = np.int32(np.around(a['NDIIfa'] * 10 ** 7))\n",
    "\n",
    "a['GDVIfa']= (nir-green)\n",
    "a['GDVIa'] = np.int32(np.around(a['GDVIfa'] * 10 ** 7))\n",
    "\n",
    "a['MSAVIfa'] = (2 * nir + 1 - np.sqrt((np.power(((2*nir)+1) , 2)) - (8 * (nir-red))))/2\n",
    "a['MSAVIa'] = np.int32(np.around(a['MSAVIfa'] * 10 ** 7))\n",
    "\n",
    "a['DVIfa'] = (nir-red)\n",
    "a['DVIa'] = np.int32(np.around(a['DVIfa'] * 10 ** 7))\n",
    "\n",
    "a['SAVIfa']= ((nir-red)/(nir+red+0.5))*(1+0.5)\n",
    "a['SAVIa'] = np.int32(np.around(a['SAVIfa'] * 10 ** 7))\n",
    "\n",
    "a['NDVIfa']= (nir-red)/(nir+red)\n",
    "a['NDVIa'] = np.int32(np.around(a['NDVIfa'] * 10 ** 7))\n",
    "\n",
    "a['MSRfa']= (((nir/red)-1)/((np.sqrt(nir/red))+1))\n",
    "a['MSRa'] = np.int32(np.around(a['MSRfa'] * 10 ** 7))"
   ]
  },
  {
   "cell_type": "code",
   "execution_count": null,
   "metadata": {
    "collapsed": true
   },
   "outputs": [],
   "source": []
  },
  {
   "cell_type": "code",
   "execution_count": 10,
   "metadata": {
    "collapsed": true
   },
   "outputs": [],
   "source": [
    "# converts interger stage code dbg surface reflectance data for landsat 5 & 7 \n",
    "# to floating point for analysis of the vegetation index, blue band not used\n",
    "\n",
    "blued =((a['psB1d'].astype('int16')*0.0001)+0.0)\n",
    "\n",
    "greend =((a['psB2d'].astype('int16')*0.0001)+0.0)\n",
    "redd = ((a['psB3d'].astype('int16')*0.0001)+0.0)\n",
    "nird = ((a['psB4d'].astype('int16')*0.0001)+0.0)\n",
    "swir1d =((a['psB5d'].astype('int16')*0.0001)+0.0)\n",
    "swir2d =((a['psB6d'].astype('int16')*0.0001)+0.0)"
   ]
  },
  {
   "cell_type": "code",
   "execution_count": 11,
   "metadata": {
    "collapsed": true
   },
   "outputs": [],
   "source": [
    "# calculate the band ratios\n",
    "\n",
    "a['ratio32fd'] = (a['psB3d'] / a['psB2d'])\n",
    "a['ratio42fd'] = (a['psB4d'] / a['psB2d'])\n",
    "a['ratio43fd'] = (a['psB4d'] / a['psB3d'])\n",
    "a['ratio52fd'] = (a['psB5d'] / a['psB2d'])\n",
    "a['ratio53fd'] = (a['psB5d'] / a['psB3d'])\n",
    "a['ratio54fd'] = (a['psB5d'] / a['psB4d'])\n",
    "a['ratio62fd'] = (a['psB6d'] / a['psB2d'])\n",
    "a['ratio63fd'] = (a['psB6d'] / a['psB3d'])\n",
    "a['ratio64fd'] = (a['psB6d'] / a['psB4d'])\n",
    "a['ratio65fd'] = (a['psB6d'] / a['psB5d'])\n",
    "\n",
    "# calculate the band ratios and convert them to int32 bit at 7 decimal places\n",
    "\n",
    "a['ratio32d'] = np.int32(np.around(a['ratio32fd'] * 10 ** 7))\n",
    "\n",
    "a['ratio42d'] = np.int32(np.around(a['ratio42fd'] * 10 ** 7))\n",
    "\n",
    "a['ratio43d'] = np.int32(np.around(a['ratio43fd'] * 10 ** 7))\n",
    "\n",
    "a['ratio52d'] = np.int32(np.around(a['ratio52fd'] * 10 ** 7))\n",
    "\n",
    "a['ratio53d'] = np.int32(np.around(a['ratio53fd'] * 10 ** 7))\n",
    "\n",
    "a['ratio54d'] = np.int32(np.around(a['ratio54fd'] * 10 ** 7))\n",
    "\n",
    "a['ratio62d'] = np.int32(np.around(a['ratio62fd'] * 10 ** 7))\n",
    "\n",
    "a['ratio63d'] = np.int32(np.around(a['ratio63fd'] * 10 ** 7))\n",
    "\n",
    "a['ratio64d'] = np.int32(np.around(a['ratio64fd'] * 10 ** 7))\n",
    "\n",
    "a['ratio65d'] = np.int32(np.around(a['ratio65fd'] * 10 ** 7))"
   ]
  },
  {
   "cell_type": "code",
   "execution_count": 12,
   "metadata": {
    "collapsed": true
   },
   "outputs": [],
   "source": [
    "# calculate the vegetation indices\n",
    "a['GSAVIfd'] = ((nird-greend)/(nird+greend+0.5))*(1.5)\n",
    "a['GSAVId'] = np.int32(np.around(a['GSAVIfd'] * 10 ** 7))\n",
    "\n",
    "a['GNDVIfd'] = (nird-greend)/(nird+greend)\n",
    "a['GNDVId'] = np.int32(np.around(a['GNDVIfd'] * 10 ** 7))\n",
    "\n",
    "a['CVIfd']= (nird/greend)*(redd/greend)\n",
    "a['CVId'] = np.int32(np.around(a['CVIfd'] * 10 ** 7))\n",
    "\n",
    "a['NDGIfd']= (greend-redd)/(greend+redd)\n",
    "a['NDGId'] = np.int32(np.around(a['NDGIfd'] * 10 ** 7))\n",
    "\n",
    "a['RIfd']= (redd-greend)/(redd+greend)\n",
    "a['RId'] = np.int32(np.around(a['RIfd'] * 10 ** 7))\n",
    "\n",
    "a['NBRfd']= (nird-swir2d)/(nird+swir2d)\n",
    "a['NBRd'] = np.int32(np.around(a['NBRfd'] * 10 ** 7))\n",
    "\n",
    "a['NDIIfd']= (nird-swir1d)/(nird+swir1d)\n",
    "a['NDIId'] = np.int32(np.around(a['NDIIfd'] * 10 ** 7))\n",
    "\n",
    "a['GDVIfd']= (nird-greend)\n",
    "a['GDVId'] = np.int32(np.around(a['GDVIfd'] * 10 ** 7))\n",
    "\n",
    "a['MSAVIfd'] = (2 * nird + 1 - np.sqrt((np.power(((2*nird)+1) , 2)) - (8 * (nird-redd))))/2\n",
    "a['MSAVId'] = np.int32(np.around(a['MSAVIfd'] * 10 ** 7))\n",
    "\n",
    "a['DVIfd'] = (nird-redd)\n",
    "a['DVId'] = np.int32(np.around(a['DVIfd'] * 10 ** 7))\n",
    "\n",
    "a['SAVIfd']= ((nird-redd)/(nird+redd+0.5))*(1+0.5)\n",
    "a['SAVId'] = np.int32(np.around(a['SAVIfa'] * 10 ** 7))\n",
    "\n",
    "a['NDVIfd']= (nird-redd)/(nird+redd)\n",
    "a['NDVId'] = np.int32(np.around(a['NDVIfd'] * 10 ** 7))\n",
    "\n",
    "a['MSRfd']= (((nird/redd)-1)/((np.sqrt(nird/redd))+1))\n",
    "a['MSRd'] = np.int32(np.around(a['MSRfd'] * 10 ** 7))"
   ]
  },
  {
   "cell_type": "code",
   "execution_count": 13,
   "metadata": {},
   "outputs": [
    {
     "name": "stdout",
     "output_type": "stream",
     "text": [
      "['Unnamed: 0', 'Unnamed: 0.1', 'site', 'x', 'y', 'chm', 'std_1', 'Min_1', 'Max_1', 'count_1', 'perc5_1', 'perc10_1', 'perc25_1', 'perc50_1', 'perc75_1', 'perc80_1', 'perc95_1', 'perc99_1', 'cov', 'psB1a', 'psB2a', 'psB3a', 'psB4a', 'psB5a', 'psB6a', 'psB1d', 'psB2d', 'psB3d', 'psB4d', 'psB5d', 'psB6d', 'zone', 'ratio32fa', 'ratio42fa', 'ratio43fa', 'ratio52fa', 'ratio53fa', 'ratio54fa', 'ratio62fa', 'ratio63fa', 'ratio64fa', 'ratio65fa', 'ratio32a', 'ratio42a', 'ratio43a', 'ratio52a', 'ratio53a', 'ratio54a', 'ratio62a', 'ratio63a', 'ratio64a', 'ratio65a', 'GSAVIfa', 'GSAVIa', 'GNDVIfa', 'GNDVIa', 'CVIfa', 'CVIa', 'NDGIfa', 'NDGIa', 'RIfa', 'RIa', 'NBRfa', 'NBRa', 'NDIIfa', 'NDIIa', 'GDVIfa', 'GDVIa', 'MSAVIfa', 'MSAVIa', 'DVIfa', 'DVIa', 'SAVIfa', 'SAVIa', 'NDVIfa', 'NDVIa', 'MSRfa', 'MSRa', 'ratio32fd', 'ratio42fd', 'ratio43fd', 'ratio52fd', 'ratio53fd', 'ratio54fd', 'ratio62fd', 'ratio63fd', 'ratio64fd', 'ratio65fd', 'ratio32d', 'ratio42d', 'ratio43d', 'ratio52d', 'ratio53d', 'ratio54d', 'ratio62d', 'ratio63d', 'ratio64d', 'ratio65d', 'GSAVIfd', 'GSAVId', 'GNDVIfd', 'GNDVId', 'CVIfd', 'CVId', 'NDGIfd', 'NDGId', 'RIfd', 'RId', 'NBRfd', 'NBRd', 'NDIIfd', 'NDIId', 'GDVIfd', 'GDVId', 'MSAVIfd', 'MSAVId', 'DVIfd', 'DVId', 'SAVIfd', 'SAVId', 'NDVIfd', 'NDVId', 'MSRfd', 'MSRd']\n"
     ]
    }
   ],
   "source": [
    "print (list(a))"
   ]
  },
  {
   "cell_type": "code",
   "execution_count": 14,
   "metadata": {
    "collapsed": true
   },
   "outputs": [],
   "source": [
    "tr = a[['site', 'x', 'y', 'chm', 'std_1', 'Min_1', 'Max_1', 'count_1', 'perc5_1', 'perc10_1', 'perc25_1', 'perc50_1', \n",
    "        'perc75_1', 'perc80_1', 'perc95_1', 'perc99_1', 'cov', 'psB1a', 'psB2a', 'psB3a', 'psB4a', 'psB5a', 'psB6a', \n",
    "        'psB1d', 'psB2d', 'psB3d', 'psB4d', 'psB5d', 'psB6d','ratio32a', 'ratio42a', 'ratio43a', 'ratio52a', 'ratio53a',\n",
    "        'ratio54a', 'ratio62a', 'ratio63a', 'ratio64a', 'ratio65a','GSAVIa', 'GNDVIa', 'CVIa', 'NDGIa', 'RIa', 'NBRa', \n",
    "        'NDIIa', 'GDVIa',  'MSAVIa', 'DVIa','SAVIa', 'NDVIa', 'MSRa', 'ratio32d', 'ratio42d', 'ratio43d', 'ratio52d', \n",
    "        'ratio53d', 'ratio54d','ratio62d', 'ratio63d', 'ratio64d','ratio65d', 'GSAVId', 'GNDVId',  'CVId', 'NDGId', \n",
    "        'RId',  'NBRd', 'NDIId',  'GDVId', 'MSAVId','DVId',  'SAVId', 'NDVId',  'MSRd','zone',]]"
   ]
  },
  {
   "cell_type": "code",
   "execution_count": 15,
   "metadata": {
    "collapsed": true
   },
   "outputs": [],
   "source": [
    "val = tr.sample(37000)"
   ]
  },
  {
   "cell_type": "code",
   "execution_count": 16,
   "metadata": {},
   "outputs": [
    {
     "data": {
      "text/plain": [
       "(37000, 76)"
      ]
     },
     "execution_count": 16,
     "metadata": {},
     "output_type": "execute_result"
    }
   ],
   "source": [
    "val.shape"
   ]
  },
  {
   "cell_type": "code",
   "execution_count": 18,
   "metadata": {},
   "outputs": [],
   "source": [
    "val.to_csv('combined_val_data_l8_int_version_n37000.csv')"
   ]
  },
  {
   "cell_type": "code",
   "execution_count": null,
   "metadata": {
    "collapsed": true
   },
   "outputs": [],
   "source": []
  }
 ],
 "metadata": {
  "anaconda-cloud": {},
  "kernelspec": {
   "display_name": "Python 3",
   "language": "python",
   "name": "python3"
  },
  "language_info": {
   "codemirror_mode": {
    "name": "ipython",
    "version": 3
   },
   "file_extension": ".py",
   "mimetype": "text/x-python",
   "name": "python",
   "nbconvert_exporter": "python",
   "pygments_lexer": "ipython3",
   "version": "3.7.4"
  }
 },
 "nbformat": 4,
 "nbformat_minor": 2
}
