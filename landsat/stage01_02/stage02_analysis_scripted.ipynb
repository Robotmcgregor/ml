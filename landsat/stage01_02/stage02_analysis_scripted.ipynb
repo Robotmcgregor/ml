{
 "cells": [
  {
   "cell_type": "code",
   "execution_count": 1,
   "metadata": {},
   "outputs": [
    {
     "name": "stdout",
     "output_type": "stream",
     "text": [
      "Populating the interactive namespace from numpy and matplotlib\n"
     ]
    }
   ],
   "source": [
    "%pylab inline\n",
    "import pandas as pd\n",
    "import numpy as np\n",
    "import matplotlib.pyplot as plt\n",
    "from pandas.tools.plotting import scatter_matrix\n",
    "from scipy.stats import gaussian_kde\n",
    "from pydoc import help\n",
    "from scipy.stats.stats import pearsonr\n",
    "from sklearn.metrics import explained_variance_score\n",
    "from scipy.stats import wilcoxon\n",
    "import warnings\n",
    "import os\n",
    "import glob\n",
    "warnings.filterwarnings('ignore')\n",
    "from __future__ import print_function, division"
   ]
  },
  {
   "cell_type": "code",
   "execution_count": 2,
   "metadata": {
    "collapsed": true
   },
   "outputs": [],
   "source": [
    "# change the variables to the parameter being modelled"
   ]
  },
  {
   "cell_type": "code",
   "execution_count": 3,
   "metadata": {
    "collapsed": true
   },
   "outputs": [],
   "source": [
    "hpar = 'h99'\n",
    "hpar2 = 'perc99_1'"
   ]
  },
  {
   "cell_type": "code",
   "execution_count": 4,
   "metadata": {
    "collapsed": true
   },
   "outputs": [],
   "source": [
    "direc = './'\n",
    "\n",
    "# empty list to store the list of csv files\n",
    "filelist =[]\n",
    "\n",
    "# empty lists to put the results into\n",
    "n_trees = []\n",
    "r2_list = []\n",
    "rmse_list = []\n",
    "pRMSE_list = []\n",
    "variance_list = []\n",
    "Bias_list = []\n",
    "n_samples =[]\n",
    "\n",
    "\n",
    "# file pattern to search for in the directory.\n",
    "pattern = \"%sPredictedANDobserved_*\" % direc\n",
    "\n",
    "# return a list of files matching the pattern \"csv\" in the directry \n",
    "file1 = glob.glob(pattern)\n",
    "\n",
    "for path in file1:\n",
    "    a = path[2:]\n",
    "    filelist.append(a)\n",
    "\n",
    "# loop through the list of csv files and opens them as dataframes and selectes the rmse results and transforms them and returns them to a list\n",
    "for filename in filelist:\n",
    "\n",
    "\n",
    "    # import the raw results and calculate the statstics\n",
    "    n_t = int(filename[22:-4])\n",
    "    n_trees.append(n_t)\n",
    "    dfa = pd.read_csv(filename, header=None)# reads the csv file\n",
    "    # sort out the outputs into two colums of data to calculate the stats\n",
    "    pred =  dfa[dfa.columns[0:20]]\n",
    "    obs = dfa[dfa.columns[20:]]\n",
    "    \n",
    "    # stack the results of the 20 runs on top of each other \n",
    "    st_pred = pred.stack()\n",
    "    st_obs = obs.stack()\n",
    "    \n",
    "    a = st_pred.values\n",
    "    b = st_obs.values\n",
    "    \n",
    "    df = pd.DataFrame([a,b]).T\n",
    "    df.columns=['predicted','observed']\n",
    "    \n",
    "    # selects the model using the spectral predictor variables \n",
    "    y = df.observed.values\n",
    "    x = df.predicted.values\n",
    "    df['res_L5'] = df['observed'] - df['predicted']\n",
    "    sumRes = df['res_L5'].sum()\n",
    "    \"\"\"\n",
    "    code to calculate the pearson's correlation coefficient and the coefficient of determination, \n",
    "    the for loop extracts out the correlatin coeffiecent score which is a tuple containing the R and p value \n",
    "    \"\"\"\n",
    "    r = pearsonr(x,y)\n",
    "    r2 = r[0:1]\n",
    "    personsr = []\n",
    "    for i in r:\n",
    "        personsr.append(i)\n",
    "    r2 = personsr[0]**2\n",
    "    r2s = str(r2)\n",
    "\n",
    "    # calculates the variance \n",
    "    meanN13error = df['res_L5'].mean()\n",
    "    n1 = len(df['predicted'])-1 \n",
    "    df['var1_l5'] = (df['res_L5']-meanN13error)**2\n",
    "    vari_n13 = str(df['var1_l5'].sum()/n1)\n",
    "\n",
    "    # formats the stats into strings to enable them to be put in as text in the plot\n",
    "    r2s = str(format(r2, '.2f'))\n",
    "    r2_list.append(r2s)\n",
    "    rmseS = str(format(np.sqrt(np.mean((y - x) ** 2)), '.3f'))\n",
    "    rmse_list.append(rmseS)\n",
    "    var_n13 = str(format(df['var1_l5'].sum()/n1,'.3f'))\n",
    "    variance_list.append(var_n13)\n",
    "    biasS = str(format(sumRes /len(y), '.3f'))\n",
    "    Bias_list.append(biasS)\n",
    "    nS = str(len(x))\n",
    "    n_samples.append(nS)\n",
    "    # calculate the RMSE expressed as a percentage of the observed mean (RMSE%) for each response variable.\n",
    "\n",
    "    rRMSE = str(format((np.sqrt(np.mean((y - x) ** 2))/np.mean(y))*100,'.2f'))\n",
    "    pRMSE_list.append(rRMSE)\n",
    "    \n",
    "# create a data frame with the results and export to csv\n",
    "df_res = pd.DataFrame([n_trees,r2_list,rmse_list, pRMSE_list,variance_list, Bias_list, n_samples]).T\n",
    "df_res.columns= ['n_trees', 'R2', 'RMSE', 'RMSE%','Variance','Bias','n_samples']\n",
    "clean_res = df_res.sort_values(by=['n_trees'])\n",
    "clean_res.to_csv(\"l8_30m_n_trees_results_\" + hpar + \"_CanopyHeight.csv\")"
   ]
  },
  {
   "cell_type": "code",
   "execution_count": 5,
   "metadata": {},
   "outputs": [
    {
     "data": {
      "text/html": [
       "<div>\n",
       "<style>\n",
       "    .dataframe thead tr:only-child th {\n",
       "        text-align: right;\n",
       "    }\n",
       "\n",
       "    .dataframe thead th {\n",
       "        text-align: left;\n",
       "    }\n",
       "\n",
       "    .dataframe tbody tr th {\n",
       "        vertical-align: top;\n",
       "    }\n",
       "</style>\n",
       "<table border=\"1\" class=\"dataframe\">\n",
       "  <thead>\n",
       "    <tr style=\"text-align: right;\">\n",
       "      <th></th>\n",
       "      <th>n_trees</th>\n",
       "      <th>R2</th>\n",
       "      <th>RMSE</th>\n",
       "      <th>RMSE%</th>\n",
       "      <th>Variance</th>\n",
       "      <th>Bias</th>\n",
       "      <th>n_samples</th>\n",
       "    </tr>\n",
       "  </thead>\n",
       "  <tbody>\n",
       "    <tr>\n",
       "      <th>0</th>\n",
       "      <td>512</td>\n",
       "      <td>0.75</td>\n",
       "      <td>3.154</td>\n",
       "      <td>23.40</td>\n",
       "      <td>9.947</td>\n",
       "      <td>-0.026</td>\n",
       "      <td>296000</td>\n",
       "    </tr>\n",
       "  </tbody>\n",
       "</table>\n",
       "</div>"
      ],
      "text/plain": [
       "  n_trees    R2   RMSE  RMSE% Variance    Bias n_samples\n",
       "0     512  0.75  3.154  23.40    9.947  -0.026    296000"
      ]
     },
     "execution_count": 5,
     "metadata": {},
     "output_type": "execute_result"
    }
   ],
   "source": [
    "#results of the n trees analysis \n",
    "clean_res"
   ]
  },
  {
   "cell_type": "code",
   "execution_count": 6,
   "metadata": {},
   "outputs": [
    {
     "name": "stdout",
     "output_type": "stream",
     "text": [
      "(56, 6)\n"
     ]
    }
   ],
   "source": [
    "# read in the selected n_trees band importance scores list\n",
    "impS = pd.read_csv('FeatureImportance_Band_Score_n512.csv',header=0)\n",
    "print (shape(impS))"
   ]
  },
  {
   "cell_type": "code",
   "execution_count": 7,
   "metadata": {},
   "outputs": [
    {
     "name": "stdout",
     "output_type": "stream",
     "text": [
      "56\n"
     ]
    },
    {
     "data": {
      "text/plain": [
       "array(['CVId', 'ratio63d', 'ratio63a', 'ratio52a', 'psB5a', 'psB5d',\n",
       "       'ratio52d', 'ratio53d', 'psB6d', 'NDVId', 'ratio54d', 'ratio53a',\n",
       "       'ratio43d', 'NDIId', 'MSRd', 'NDIIa', 'ratio54a', 'GNDVId',\n",
       "       'ratio42d', 'CVIa', 'ratio43a', 'psB2a', 'MSRa', 'NDVIa',\n",
       "       'ratio62a', 'psB2d', 'psB6a', 'ratio62d', 'psB3a', 'ratio64d',\n",
       "       'NBRd', 'psB3d', 'RId', 'ratio32d', 'NDGId', 'ratio65d', 'ratio65a',\n",
       "       'ratio42a', 'GNDVIa', 'NBRa', 'ratio64a', 'ratio32a', 'RIa',\n",
       "       'NDGIa', 'GSAVIa', 'psB4a', 'GDVIa', 'MSAVId', 'psB4d', 'SAVId',\n",
       "       'SAVIa', 'GSAVId', 'MSAVIa', 'GDVId', 'DVIa', 'DVId'], dtype=object)"
      ]
     },
     "execution_count": 7,
     "metadata": {},
     "output_type": "execute_result"
    }
   ],
   "source": [
    "list_var = (impS['band'].values)\n",
    "print (len(list_var))\n",
    "list_var"
   ]
  },
  {
   "cell_type": "code",
   "execution_count": 8,
   "metadata": {},
   "outputs": [
    {
     "name": "stdout",
     "output_type": "stream",
     "text": [
      "56\n"
     ]
    }
   ],
   "source": [
    "conv_list = list_var.tolist()\n",
    "variables2 = conv_list\n",
    "print (len(variables2))"
   ]
  },
  {
   "cell_type": "code",
   "execution_count": 9,
   "metadata": {},
   "outputs": [
    {
     "name": "stdout",
     "output_type": "stream",
     "text": [
      "['CVId', 'ratio63d', 'ratio63a', 'ratio52a', 'psB5a', 'psB5d', 'ratio52d', 'ratio53d', 'psB6d', 'NDVId', 'ratio54d', 'ratio53a', 'ratio43d', 'NDIId', 'MSRd', 'NDIIa', 'ratio54a', 'GNDVId', 'ratio42d', 'CVIa', 'ratio43a', 'psB2a', 'MSRa', 'NDVIa', 'ratio62a', 'psB2d', 'psB6a', 'ratio62d', 'psB3a', 'ratio64d', 'NBRd', 'psB3d', 'RId', 'ratio32d', 'NDGId', 'ratio65d', 'ratio65a', 'ratio42a', 'GNDVIa', 'NBRa', 'ratio64a', 'ratio32a', 'RIa', 'NDGIa', 'GSAVIa', 'psB4a', 'GDVIa', 'MSAVId', 'psB4d', 'SAVId', 'SAVIa', 'GSAVId', 'MSAVIa', 'GDVId', 'DVIa', 'DVId']\n"
     ]
    }
   ],
   "source": [
    "print (variables2)"
   ]
  },
  {
   "cell_type": "code",
   "execution_count": 10,
   "metadata": {
    "collapsed": true
   },
   "outputs": [],
   "source": [
    "# iterate over the list and remove the bands that are transformatons of themselves based on the order of importance"
   ]
  },
  {
   "cell_type": "code",
   "execution_count": 11,
   "metadata": {},
   "outputs": [
    {
     "name": "stdout",
     "output_type": "stream",
     "text": [
      "42\n",
      "['CVId', 'ratio63d', 'ratio63a', 'ratio52a', 'psB5a', 'psB5d', 'ratio52d', 'ratio53d', 'psB6d', 'NDVId', 'ratio54d', 'ratio53a', 'NDIIa', 'GNDVId', 'CVIa', 'ratio43a', 'psB2a', 'ratio62a', 'psB2d', 'psB6a', 'ratio62d', 'psB3a', 'ratio64d', 'psB3d', 'RId', 'ratio65d', 'ratio65a', 'ratio42a', 'NBRa', 'ratio32a', 'GSAVIa', 'psB4a', 'GDVIa', 'MSAVId', 'psB4d', 'SAVId', 'SAVIa', 'GSAVId', 'MSAVIa', 'GDVId', 'DVIa', 'DVId']\n"
     ]
    }
   ],
   "source": [
    "for var in variables2:\n",
    "    #print (var)\n",
    "    if var in variables2:\n",
    "        \n",
    "        # 'GNDVId''ratio42d'\n",
    "        if var == 'GNDVId':\n",
    "            variables2.remove('ratio42d')\n",
    "    \n",
    "        elif var == 'ratio42d':\n",
    "                variables2.remove('GNDVId')\n",
    "\n",
    "        ##################################################\n",
    "        ##################################################            \n",
    "            \n",
    "        # 'GNDVIa''ratio42a'\n",
    "        if var == 'GNDVIa':\n",
    "            variables2.remove('ratio42a')\n",
    "    \n",
    "        elif var == 'ratio42a':\n",
    "                variables2.remove('GNDVIa')\n",
    "\n",
    "        ##################################################\n",
    "        ##################################################    \n",
    "\n",
    "\n",
    "        # 'ratio43a', 'NDVIa',MSRa      \n",
    "        elif var == 'ratio43a':\n",
    "                variables2.remove('NDVIa')\n",
    "                variables2.remove('MSRa')\n",
    "\n",
    "        elif var == 'NDVIa':\n",
    "                variables2.remove('ratio43a')\n",
    "                variables2.remove('MSRa')  \n",
    "\n",
    "        elif var == 'MSRa':\n",
    "                    variables2.remove('ratio43a')\n",
    "                    variables2.remove('NDVIa')\n",
    "       \n",
    "        ##################################################\n",
    "        ##################################################            \n",
    "\n",
    "        # 'NDGId', 'ratio32d',RId            \n",
    "        elif var == 'NDGId':\n",
    "                variables2.remove('ratio32d')\n",
    "                variables2.remove('RId') \n",
    "      \n",
    "        elif var == 'ratio32d':\n",
    "                variables2.remove('NDGId')\n",
    "                variables2.remove('RId')\n",
    "                     \n",
    "\n",
    "        elif var == 'RId':\n",
    "                variables2.remove('ratio32d')\n",
    "                variables2.remove('NDGId')\n",
    "\n",
    "        ##################################################\n",
    "        ##################################################            \n",
    "\n",
    "        # 'NDGIa','RIa',ratio32a           \n",
    "        elif var == 'NDGIa':\n",
    "                variables2.remove('ratio32a')\n",
    "                variables2.remove('RIa')\n",
    "       \n",
    "        elif var == 'ratio32a':\n",
    "                variables2.remove('NDGIa')\n",
    "                variables2.remove('RIa')\n",
    "\n",
    "        elif var == 'RIa':\n",
    "                variables2.remove('ratio32a')\n",
    "                variables2.remove('NDGIa') \n",
    "\n",
    "        ##################################################\n",
    "        ################################################## \n",
    "\n",
    "        #'MSRd','ratio43d',NDVId\n",
    "\n",
    "        elif var == 'ratio43d':\n",
    "                variables2.remove('NDVId')\n",
    "                variables2.remove('MSRd')\n",
    "\n",
    "        elif var == 'NDVId':\n",
    "                variables2.remove('ratio43d')\n",
    "                variables2.remove('MSRd')\n",
    "\n",
    "        elif var == 'MSRd':\n",
    "                variables2.remove('ratio43d')\n",
    "                variables2.remove('NDVId')\n",
    "\n",
    "        ##################################################\n",
    "        ################################################## \n",
    "                   \n",
    "        # 'NBRa', ratio104a  \n",
    "\n",
    "        elif var == 'NBRa':\n",
    "                variables2.remove('ratio64a')\n",
    "\n",
    "        elif var == 'ratio64a':\n",
    "                variables2.remove('NBRa')\n",
    "\n",
    "        ##################################################\n",
    "        ##################################################             \n",
    "\n",
    "        # 'ratio104d',NBRd  \n",
    "\n",
    "        elif var == 'NBRd':\n",
    "                variables2.remove('ratio64d')\n",
    "\n",
    "        elif var == 'ratio64d':\n",
    "                variables2.remove('NBRd')            \n",
    "\n",
    "        ##################################################\n",
    "        ##################################################     \n",
    "\n",
    "        # 'NDIIa', - ratio54a\n",
    "\n",
    "        elif var == 'NDIIa':\n",
    "                variables2.remove('ratio54a')\n",
    "\n",
    "        elif var == 'ratio54a':\n",
    "                variables2.remove('NDIIa')            \n",
    "\n",
    "        ##################################################\n",
    "        ################################################## \n",
    "        \n",
    "        # 'NDIIa', - ratio54a\n",
    "\n",
    "        elif var == 'NDIId':\n",
    "                variables2.remove('ratio54d')\n",
    "\n",
    "        elif var == 'ratio54d':\n",
    "                variables2.remove('NDIId')            \n",
    "\n",
    "        ##################################################\n",
    "        ################################################## \n",
    "                \n",
    "print (len(variables2))\n",
    "print (variables2)"
   ]
  },
  {
   "cell_type": "code",
   "execution_count": 12,
   "metadata": {},
   "outputs": [
    {
     "name": "stdout",
     "output_type": "stream",
     "text": [
      "(148000, 77)\n"
     ]
    }
   ],
   "source": [
    "# read in the training data to assess the relationship between the top 30 variables \n",
    "df = pd.read_csv('C:/Users/grants/code/old_growth/sen2_l8/l8_combined/l8_model_dev/stage01_02/combined_training_data_l8_int_version_n148000.csv', header=0)\n",
    "print (shape(df))"
   ]
  },
  {
   "cell_type": "code",
   "execution_count": 13,
   "metadata": {
    "collapsed": true
   },
   "outputs": [],
   "source": [
    "pred_vars = df[variables2]\n",
    "\n",
    "pred_vars.to_csv('predict_vars_correlation.csv')"
   ]
  },
  {
   "cell_type": "code",
   "execution_count": 14,
   "metadata": {},
   "outputs": [
    {
     "name": "stdout",
     "output_type": "stream",
     "text": [
      "(148000, 42)\n",
      "['CVId', 'ratio63d', 'ratio63a', 'ratio52a', 'psB5a', 'psB5d', 'ratio52d', 'ratio53d', 'psB6d', 'NDVId', 'ratio54d', 'ratio53a', 'NDIIa', 'GNDVId', 'CVIa', 'ratio43a', 'psB2a', 'ratio62a', 'psB2d', 'psB6a', 'ratio62d', 'psB3a', 'ratio64d', 'psB3d', 'RId', 'ratio65d', 'ratio65a', 'ratio42a', 'NBRa', 'ratio32a', 'GSAVIa', 'psB4a', 'GDVIa', 'MSAVId', 'psB4d', 'SAVId', 'SAVIa', 'GSAVId', 'MSAVIa', 'GDVId', 'DVIa', 'DVId']\n"
     ]
    }
   ],
   "source": [
    "print (pred_vars.shape)\n",
    "print (list(pred_vars))"
   ]
  },
  {
   "cell_type": "code",
   "execution_count": 15,
   "metadata": {
    "collapsed": true
   },
   "outputs": [],
   "source": [
    "import pandas as pd\n",
    "import os\n",
    "\n",
    "def corre(data,n):\n",
    "    \"\"\"\n",
    "    This code performs the calculations and sorts the results. \n",
    "    \"\"\"\n",
    "    cor = data.corr().abs() # pearsons correlation coefficient\n",
    "    cus = cor.unstack() # sort the data\n",
    "    r_sort = cus.sort_values(kind=\"quicksort\",ascending=False) # sort the data in accending order based on the highest r2 value\n",
    "       \n",
    "    return r_sort\n",
    "\n",
    "def read_Data():\n",
    "    \"\"\"\n",
    "    This reads in the csv file containing the test and train data and selects the colums for analysis.\n",
    "    \"\"\"\n",
    "    df  = pd.read_csv('predict_vars_correlation.csv', header=0)\n",
    "    df.dropna()\n",
    "    data = df[df.columns[1:]]\n",
    "    n = len(data.columns)\n",
    "    \n",
    "    return data,n\n",
    "    \n",
    "def mainRoutine():\n",
    "    \n",
    "    data,n = read_Data()\n",
    "   \n",
    "    r_sort = corre(data,n) \n",
    "    \n",
    "    r_sort.to_csv('temp.csv')\n",
    "    \n",
    "    df = pd.read_csv('temp.csv',header=None)\n",
    "    \n",
    "    df.columns = ['b1','b2','corr'] # give the df headers\n",
    "    \n",
    "    df2 = df[df['b1'] != df['b2']] # remove all the self correlated data by comparing the band names in the two columns\n",
    "      \n",
    "    df2.to_csv('Var_corr_results_L5_all_vars.csv') # reads out the results with new header names\n",
    "    \n",
    "    os.remove('temp.csv') # delete the temp csv file\n",
    "    \n",
    "if __name__ == \"__main__\":\n",
    "    mainRoutine()   "
   ]
  },
  {
   "cell_type": "code",
   "execution_count": 16,
   "metadata": {},
   "outputs": [
    {
     "name": "stdout",
     "output_type": "stream",
     "text": [
      "['Unnamed: 0', 'b1', 'b2', 'corr']\n",
      "(1722, 4)\n"
     ]
    }
   ],
   "source": [
    "df2 = pd.read_csv('Var_corr_results_L5_all_vars.csv',header=0)\n",
    "print (list(df2))\n",
    "print (shape(df2))"
   ]
  },
  {
   "cell_type": "code",
   "execution_count": 17,
   "metadata": {},
   "outputs": [
    {
     "name": "stdout",
     "output_type": "stream",
     "text": [
      "['SAVId', 'SAVIa', 'MSAVIa', 'DVIa', 'DVId', 'MSAVId', 'GSAVIa', 'GDVIa', 'psB5a', 'psB5d', 'psB3d', 'psB3a', 'GDVId', 'GSAVId', 'psB6a', 'psB6d', 'NBRa', 'NDIIa', 'psB2a', 'psB2d', 'ratio54d', 'ratio64d']\n"
     ]
    }
   ],
   "source": [
    "# find all the highly correlated variables and get a list to produce a scatter matix \n",
    "\n",
    "h_corr = df2[df2['corr'] >= .95] #finds all correlation values % or greater\n",
    "h_corr_list = h_corr['b1'].unique() # returns a list of the bands and prints them. \n",
    "\n",
    "newlist = []\n",
    "\n",
    "for i in h_corr_list:\n",
    "    newlist.append(i)\n",
    "print (newlist)"
   ]
  },
  {
   "cell_type": "code",
   "execution_count": 18,
   "metadata": {},
   "outputs": [
    {
     "name": "stdout",
     "output_type": "stream",
     "text": [
      "42\n",
      "['CVId', 'ratio63d', 'ratio63a', 'ratio52a', 'psB5a', 'psB5d', 'ratio52d', 'ratio53d', 'psB6d', 'NDVId', 'ratio54d', 'ratio53a', 'NDIIa', 'GNDVId', 'CVIa', 'ratio43a', 'psB2a', 'ratio62a', 'psB2d', 'psB6a', 'ratio62d', 'psB3a', 'ratio64d', 'psB3d', 'RId', 'ratio65d', 'ratio65a', 'ratio42a', 'NBRa', 'ratio32a', 'GSAVIa', 'psB4a', 'GDVIa', 'MSAVId', 'psB4d', 'SAVId', 'SAVIa', 'GSAVId', 'MSAVIa', 'GDVId', 'DVIa', 'DVId']\n"
     ]
    }
   ],
   "source": [
    "# get a copy of the predictor variables after the band transformations have been removed\n",
    "\n",
    "vari = variables2\n",
    "print (len(vari))\n",
    "print (list(vari))"
   ]
  },
  {
   "cell_type": "code",
   "execution_count": 19,
   "metadata": {},
   "outputs": [
    {
     "name": "stdout",
     "output_type": "stream",
     "text": [
      "30\n",
      "['CVId', 'ratio63d', 'ratio63a', 'ratio52a', 'psB5a', 'ratio52d', 'ratio53d', 'psB6d', 'NDVId', 'ratio54d', 'ratio53a', 'NDIIa', 'GNDVId', 'CVIa', 'ratio43a', 'psB2a', 'ratio62a', 'ratio62d', 'psB3d', 'RId', 'ratio65d', 'ratio65a', 'ratio42a', 'ratio32a', 'GSAVIa', 'psB4a', 'MSAVId', 'psB4d', 'SAVId', 'GSAVId']\n"
     ]
    }
   ],
   "source": [
    "\"\"\"\n",
    "this block of code iterates over the list of predictor variables in order of importance\n",
    "and removes the highly correlated variables to output as a new df\n",
    "\n",
    "\"\"\"\n",
    "removed_variables = []\n",
    "\n",
    "for v in vari:\n",
    "    # take the variable in order of importance and query the correlation assessment \n",
    "    # data frame and identify the variables that are highly correlated\n",
    "    data3 = h_corr[h_corr['b1'] == v] \n",
    "\n",
    "    \n",
    "    # convert the highly correlated variables into a list to enable \n",
    "    # them to be iterated over and removed from the vari2 list\n",
    "    \n",
    "    values = (data3['b2'].values)\n",
    "    values_list = [values]\n",
    "    \n",
    "    for varCom in values_list:\n",
    "        \n",
    "        # iterate over the new list of variables and remove them from the vari list\n",
    "        \n",
    "        for var in varCom:\n",
    "                        \n",
    "            if var in vari:\n",
    "                removed_variables.append(var)\n",
    "                vari.remove(var)\n",
    "                \n",
    "print (len(vari))                \n",
    "print (vari)"
   ]
  },
  {
   "cell_type": "code",
   "execution_count": 20,
   "metadata": {
    "collapsed": true
   },
   "outputs": [],
   "source": [
    "final_list = vari\n",
    "final_list.insert(0,hpar2)"
   ]
  },
  {
   "cell_type": "code",
   "execution_count": 21,
   "metadata": {},
   "outputs": [
    {
     "name": "stdout",
     "output_type": "stream",
     "text": [
      "['perc99_1', 'CVId', 'ratio63d', 'ratio63a', 'ratio52a', 'psB5a', 'ratio52d', 'ratio53d', 'psB6d', 'NDVId', 'ratio54d', 'ratio53a', 'NDIIa', 'GNDVId', 'CVIa', 'ratio43a', 'psB2a', 'ratio62a', 'ratio62d', 'psB3d', 'RId', 'ratio65d', 'ratio65a', 'ratio42a', 'ratio32a', 'GSAVIa', 'psB4a', 'MSAVId', 'psB4d', 'SAVId', 'GSAVId']\n"
     ]
    }
   ],
   "source": [
    "print (list(final_list))"
   ]
  },
  {
   "cell_type": "code",
   "execution_count": 22,
   "metadata": {},
   "outputs": [
    {
     "name": "stdout",
     "output_type": "stream",
     "text": [
      "31\n"
     ]
    }
   ],
   "source": [
    "final_list2 = df[final_list]\n",
    "print (len(list(final_list2)))"
   ]
  },
  {
   "cell_type": "code",
   "execution_count": 23,
   "metadata": {
    "collapsed": true
   },
   "outputs": [],
   "source": [
    "final_list2.to_csv(\"l8_30m_\" + hpar + \"_pred_vars_stage2_allvars.csv\")"
   ]
  },
  {
   "cell_type": "code",
   "execution_count": 24,
   "metadata": {},
   "outputs": [
    {
     "name": "stdout",
     "output_type": "stream",
     "text": [
      "['psB5d', 'psB6a', 'ratio64d', 'NBRa', 'psB2d', 'psB3a', 'GDVIa', 'DVIa', 'DVId', 'SAVIa', 'MSAVIa', 'GDVId']\n",
      "12\n"
     ]
    }
   ],
   "source": [
    "print (removed_variables)\n",
    "print (len(removed_variables))"
   ]
  },
  {
   "cell_type": "code",
   "execution_count": null,
   "metadata": {
    "collapsed": true
   },
   "outputs": [],
   "source": []
  },
  {
   "cell_type": "code",
   "execution_count": null,
   "metadata": {
    "collapsed": true
   },
   "outputs": [],
   "source": []
  }
 ],
 "metadata": {
  "anaconda-cloud": {},
  "kernelspec": {
   "display_name": "Python [conda env:rsgislib35]",
   "language": "python",
   "name": "conda-env-rsgislib35-py"
  },
  "language_info": {
   "codemirror_mode": {
    "name": "ipython",
    "version": 3
   },
   "file_extension": ".py",
   "mimetype": "text/x-python",
   "name": "python",
   "nbconvert_exporter": "python",
   "pygments_lexer": "ipython3",
   "version": "3.5.4"
  }
 },
 "nbformat": 4,
 "nbformat_minor": 1
}
