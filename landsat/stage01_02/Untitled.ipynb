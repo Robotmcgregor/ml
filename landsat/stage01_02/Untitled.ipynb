{
 "cells": [
  {
   "cell_type": "code",
   "execution_count": 1,
   "metadata": {},
   "outputs": [
    {
     "name": "stdout",
     "output_type": "stream",
     "text": [
      " Volume in drive C is System\n",
      " Volume Serial Number is 12FA-D4D7\n",
      "\n",
      " Directory of C:\\Users\\grants\\code\\old_growth\\sen2_l8\\l8_combined\\l8_model_dev\\stage01_02\n",
      "\n",
      "06/04/2019  06:12 PM    <DIR>          .\n",
      "06/04/2019  06:12 PM    <DIR>          ..\n",
      "06/04/2019  06:12 PM    <DIR>          .ipynb_checkpoints\n",
      "06/04/2019  06:04 PM    <DIR>          25\n",
      "12/01/2019  02:35 PM    <DIR>          50\n",
      "06/04/2019  06:04 PM    <DIR>          75\n",
      "12/01/2019  01:19 PM    <DIR>          80\n",
      "06/04/2019  06:04 PM    <DIR>          95\n",
      "06/04/2019  05:38 PM    <DIR>          99\n",
      "06/04/2019  03:20 PM       108,757,207 combined_training_data_l8_int_version_stage01.csv\n",
      "06/04/2019  06:07 PM    <DIR>          cov\n",
      "06/04/2019  06:05 PM    <DIR>          hmc\n",
      "06/04/2019  05:25 PM            10,456 n_estimator_rfr_py27.py\n",
      "06/04/2019  04:52 PM            10,306 n_estimator_rfr_py35.py\n",
      "06/04/2019  06:06 PM    <DIR>          std\n",
      "06/04/2019  06:12 PM                72 Untitled.ipynb\n",
      "               4 File(s)    108,778,041 bytes\n",
      "              12 Dir(s)   3,376,250,880 bytes free\n"
     ]
    }
   ],
   "source": [
    "ls"
   ]
  },
  {
   "cell_type": "code",
   "execution_count": 2,
   "metadata": {},
   "outputs": [
    {
     "name": "stdout",
     "output_type": "stream",
     "text": [
      "usage: n_estimator_rfr_py27.py [-h] [--datafile DATAFILE]\n",
      "                               [--nskipcols NSKIPCOLS] [--outDir OUTDIR]\n",
      "                               [--itera ITERA] [--yvar YVAR] [--njobs NJOBS]\n",
      "\n",
      "optional arguments:\n",
      "  -h, --help            show this help message and exit\n",
      "  --datafile DATAFILE   Input data file\n",
      "  --nskipcols NSKIPCOLS\n",
      "                        Skip the first <nskipcols> columns in the data file\n",
      "                        (default=2)\n",
      "  --outDir OUTDIR       directory to output the csv file with the results\n",
      "  --itera ITERA         number of iterations of the model (default=20)\n",
      "  --yvar YVAR           variable being predicted (default=chm)\n",
      "  --njobs NJOBS         This defines the number of cores used default is 1\n",
      "                        core, dont use -1 on the qld system as it uses all the\n",
      "                        cores avaialble and people get upset (default=-1)\n"
     ]
    }
   ],
   "source": [
    "%run n_estimator_rfr_py27.py -h"
   ]
  },
  {
   "cell_type": "code",
   "execution_count": 5,
   "metadata": {
    "scrolled": true
   },
   "outputs": [
    {
     "name": "stdout",
     "output_type": "stream",
     "text": [
      "512\n",
      "1\n",
      "56\n",
      "(160580, 56) (160580,)\n",
      "(17843, 56) (17843,)\n",
      "Fitted model r2 = 0.96\n",
      "Fitted model mse = 0.93\n",
      "n = 160580\n",
      "Predicted data r2 = 0.746393023671\n",
      "MSE = 6.675\n",
      "RMSE = 2.584\n",
      "explained_var = 0.746\n",
      "bias = -0.040\n",
      "n = 17843\n",
      "2\n",
      "56\n",
      "(160580, 56) (160580,)\n",
      "(17843, 56) (17843,)\n",
      "Fitted model r2 = 0.96\n",
      "Fitted model mse = 0.93\n",
      "n = 160580\n",
      "Predicted data r2 = 0.741173190924\n",
      "MSE = 6.731\n",
      "RMSE = 2.594\n",
      "explained_var = 0.741\n",
      "bias = -0.024\n",
      "n = 17843\n",
      "3\n",
      "56\n",
      "(160580, 56) (160580,)\n",
      "(17843, 56) (17843,)\n",
      "Fitted model r2 = 0.96\n",
      "Fitted model mse = 0.93\n",
      "n = 160580\n",
      "Predicted data r2 = 0.745749940548\n",
      "MSE = 6.760\n",
      "RMSE = 2.600\n",
      "explained_var = 0.746\n",
      "bias = 0.003\n",
      "n = 17843\n",
      "4\n",
      "56\n",
      "(160580, 56) (160580,)\n",
      "(17843, 56) (17843,)\n",
      "Fitted model r2 = 0.96\n",
      "Fitted model mse = 0.93\n",
      "n = 160580\n",
      "Predicted data r2 = 0.750878755917\n",
      "MSE = 6.605\n",
      "RMSE = 2.570\n",
      "explained_var = 0.751\n",
      "bias = 0.013\n",
      "n = 17843\n",
      "5\n",
      "56\n",
      "(160580, 56) (160580,)\n",
      "(17843, 56) (17843,)\n",
      "Fitted model r2 = 0.96\n",
      "Fitted model mse = 0.93\n",
      "n = 160580\n",
      "Predicted data r2 = 0.744546375437\n",
      "MSE = 6.773\n",
      "RMSE = 2.603\n",
      "explained_var = 0.745\n",
      "bias = -0.027\n",
      "n = 17843\n",
      "6\n",
      "56\n",
      "(160580, 56) (160580,)\n",
      "(17843, 56) (17843,)\n",
      "Fitted model r2 = 0.97\n",
      "Fitted model mse = 0.93\n",
      "n = 160580\n",
      "Predicted data r2 = 0.737343530858\n",
      "MSE = 6.915\n",
      "RMSE = 2.630\n",
      "explained_var = 0.737\n",
      "bias = -0.015\n",
      "n = 17843\n",
      "7\n",
      "56\n",
      "(160580, 56) (160580,)\n",
      "(17843, 56) (17843,)\n",
      "Fitted model r2 = 0.96\n",
      "Fitted model mse = 0.93\n",
      "n = 160580\n",
      "Predicted data r2 = 0.747013591648\n",
      "MSE = 6.722\n",
      "RMSE = 2.593\n",
      "explained_var = 0.747\n",
      "bias = -0.051\n",
      "n = 17843\n",
      "8\n",
      "56\n",
      "(160580, 56) (160580,)\n",
      "(17843, 56) (17843,)\n",
      "Fitted model r2 = 0.97\n",
      "Fitted model mse = 0.92\n",
      "n = 160580\n",
      "Predicted data r2 = 0.736915091399\n",
      "MSE = 7.035\n",
      "RMSE = 2.652\n",
      "explained_var = 0.737\n",
      "bias = -0.003\n",
      "n = 17843\n",
      "9\n",
      "56\n",
      "(160580, 56) (160580,)\n",
      "(17843, 56) (17843,)\n",
      "Fitted model r2 = 0.96\n",
      "Fitted model mse = 0.93\n",
      "n = 160580\n",
      "Predicted data r2 = 0.743883233897\n",
      "MSE = 6.796\n",
      "RMSE = 2.607\n",
      "explained_var = 0.744\n",
      "bias = -0.010\n",
      "n = 17843\n",
      "10\n",
      "56\n",
      "(160580, 56) (160580,)\n",
      "(17843, 56) (17843,)\n"
     ]
    },
    {
     "ename": "KeyboardInterrupt",
     "evalue": "",
     "output_type": "error",
     "traceback": [
      "\u001b[1;31m---------------------------------------------------------------------------\u001b[0m",
      "\u001b[1;31mKeyboardInterrupt\u001b[0m                         Traceback (most recent call last)",
      "\u001b[1;32m~\\code\\old_growth\\sen2_l8\\l8_combined\\l8_model_dev\\stage01_02\\n_estimator_rfr_py27.py\u001b[0m in \u001b[0;36m<module>\u001b[1;34m()\u001b[0m\n\u001b[0;32m    266\u001b[0m \u001b[1;33m\u001b[0m\u001b[0m\n\u001b[0;32m    267\u001b[0m \u001b[1;32mif\u001b[0m \u001b[0m__name__\u001b[0m \u001b[1;33m==\u001b[0m \u001b[1;34m\"__main__\"\u001b[0m\u001b[1;33m:\u001b[0m\u001b[1;33m\u001b[0m\u001b[0m\n\u001b[1;32m--> 268\u001b[1;33m     \u001b[0mmainRoutine\u001b[0m\u001b[1;33m(\u001b[0m\u001b[1;33m)\u001b[0m\u001b[1;33m\u001b[0m\u001b[0m\n\u001b[0m\u001b[0;32m    269\u001b[0m \u001b[1;33m\u001b[0m\u001b[0m\n\u001b[0;32m    270\u001b[0m \u001b[1;33m\u001b[0m\u001b[0m\n",
      "\u001b[1;32m~\\code\\old_growth\\sen2_l8\\l8_combined\\l8_model_dev\\stage01_02\\n_estimator_rfr_py27.py\u001b[0m in \u001b[0;36mmainRoutine\u001b[1;34m()\u001b[0m\n\u001b[0;32m    177\u001b[0m             \u001b[0mprint\u001b[0m \u001b[1;33m(\u001b[0m\u001b[0mi\u001b[0m\u001b[1;33m+\u001b[0m\u001b[1;36m1\u001b[0m\u001b[1;33m)\u001b[0m\u001b[1;33m\u001b[0m\u001b[0m\n\u001b[0;32m    178\u001b[0m             \u001b[1;31m# appends the out put of the last run of the model to the lists\u001b[0m\u001b[1;33m\u001b[0m\u001b[1;33m\u001b[0m\u001b[0m\n\u001b[1;32m--> 179\u001b[1;33m             \u001b[0mscore\u001b[0m\u001b[1;33m,\u001b[0m \u001b[0mband\u001b[0m\u001b[1;33m,\u001b[0m \u001b[0mfmr4\u001b[0m\u001b[1;33m,\u001b[0m \u001b[0mfmMSE4\u001b[0m\u001b[1;33m,\u001b[0m \u001b[0mtmr4\u001b[0m\u001b[1;33m,\u001b[0m \u001b[0mtmRMSE4\u001b[0m\u001b[1;33m,\u001b[0m \u001b[0my2_predict\u001b[0m\u001b[1;33m,\u001b[0m \u001b[0my_2\u001b[0m\u001b[1;33m,\u001b[0m \u001b[0mlenP\u001b[0m \u001b[1;33m=\u001b[0m \u001b[0mRFRmodel\u001b[0m\u001b[1;33m(\u001b[0m\u001b[0mcmdargs\u001b[0m\u001b[1;33m,\u001b[0m \u001b[0mn_est\u001b[0m\u001b[1;33m,\u001b[0m\u001b[0myvar\u001b[0m\u001b[1;33m)\u001b[0m\u001b[1;33m\u001b[0m\u001b[0m\n\u001b[0m\u001b[0;32m    180\u001b[0m             \u001b[0mfi_s2\u001b[0m\u001b[1;33m.\u001b[0m\u001b[0mappend\u001b[0m\u001b[1;33m(\u001b[0m\u001b[0mscore\u001b[0m\u001b[1;33m)\u001b[0m\u001b[1;33m\u001b[0m\u001b[0m\n\u001b[0;32m    181\u001b[0m             \u001b[0mfi_b2\u001b[0m\u001b[1;33m.\u001b[0m\u001b[0mappend\u001b[0m\u001b[1;33m(\u001b[0m\u001b[0mband\u001b[0m\u001b[1;33m)\u001b[0m\u001b[1;33m\u001b[0m\u001b[0m\n",
      "\u001b[1;32m~\\code\\old_growth\\sen2_l8\\l8_combined\\l8_model_dev\\stage01_02\\n_estimator_rfr_py27.py\u001b[0m in \u001b[0;36mRFRmodel\u001b[1;34m(cmdargs, n_est, yvar)\u001b[0m\n\u001b[0;32m    102\u001b[0m     \u001b[0mrfrModel_1\u001b[0m \u001b[1;33m=\u001b[0m \u001b[0mrfr\u001b[0m\u001b[1;33m(\u001b[0m\u001b[0mn_estimators\u001b[0m\u001b[1;33m=\u001b[0m\u001b[0mn_est\u001b[0m\u001b[1;33m,\u001b[0m \u001b[0moob_score\u001b[0m\u001b[1;33m=\u001b[0m\u001b[1;32mTrue\u001b[0m\u001b[1;33m,\u001b[0m  \u001b[0mmax_features\u001b[0m \u001b[1;33m=\u001b[0m \u001b[1;34m'log2'\u001b[0m\u001b[1;33m,\u001b[0m \u001b[0mmin_samples_split\u001b[0m\u001b[1;33m=\u001b[0m\u001b[1;36m1\u001b[0m\u001b[1;33m,\u001b[0m \u001b[0mn_jobs\u001b[0m\u001b[1;33m=\u001b[0m \u001b[0mcmdargs\u001b[0m\u001b[1;33m.\u001b[0m\u001b[0mnjobs\u001b[0m\u001b[1;33m)\u001b[0m \u001b[1;31m# n_jobs=-1 dont use n_jobs on the qld system people get upset!!\u001b[0m\u001b[1;33m\u001b[0m\u001b[0m\n\u001b[0;32m    103\u001b[0m \u001b[1;33m\u001b[0m\u001b[0m\n\u001b[1;32m--> 104\u001b[1;33m     \u001b[0mrfrLCHM\u001b[0m \u001b[1;33m=\u001b[0m \u001b[0mrfrModel_1\u001b[0m\u001b[1;33m.\u001b[0m\u001b[0mfit\u001b[0m\u001b[1;33m(\u001b[0m\u001b[0mX_1\u001b[0m\u001b[1;33m,\u001b[0m \u001b[0my_1\u001b[0m\u001b[1;33m)\u001b[0m\u001b[1;33m\u001b[0m\u001b[0m\n\u001b[0m\u001b[0;32m    105\u001b[0m \u001b[1;33m\u001b[0m\u001b[0m\n\u001b[0;32m    106\u001b[0m     \u001b[1;31m#feature_importance = rfrModel_1.feature_importances_\u001b[0m\u001b[1;33m\u001b[0m\u001b[1;33m\u001b[0m\u001b[0m\n",
      "\u001b[1;32m~\\AppData\\Local\\Continuum\\miniconda3\\envs\\rsgislib35\\lib\\site-packages\\sklearn\\ensemble\\forest.py\u001b[0m in \u001b[0;36mfit\u001b[1;34m(self, X, y, sample_weight)\u001b[0m\n\u001b[0;32m    288\u001b[0m                     \u001b[0mt\u001b[0m\u001b[1;33m,\u001b[0m \u001b[0mself\u001b[0m\u001b[1;33m,\u001b[0m \u001b[0mX\u001b[0m\u001b[1;33m,\u001b[0m \u001b[0my\u001b[0m\u001b[1;33m,\u001b[0m \u001b[0msample_weight\u001b[0m\u001b[1;33m,\u001b[0m \u001b[0mi\u001b[0m\u001b[1;33m,\u001b[0m \u001b[0mlen\u001b[0m\u001b[1;33m(\u001b[0m\u001b[0mtrees\u001b[0m\u001b[1;33m)\u001b[0m\u001b[1;33m,\u001b[0m\u001b[1;33m\u001b[0m\u001b[0m\n\u001b[0;32m    289\u001b[0m                     verbose=self.verbose, class_weight=self.class_weight)\n\u001b[1;32m--> 290\u001b[1;33m                 for i, t in enumerate(trees))\n\u001b[0m\u001b[0;32m    291\u001b[0m \u001b[1;33m\u001b[0m\u001b[0m\n\u001b[0;32m    292\u001b[0m             \u001b[1;31m# Collect newly grown trees\u001b[0m\u001b[1;33m\u001b[0m\u001b[1;33m\u001b[0m\u001b[0m\n",
      "\u001b[1;32m~\\AppData\\Local\\Continuum\\miniconda3\\envs\\rsgislib35\\lib\\site-packages\\sklearn\\externals\\joblib\\parallel.py\u001b[0m in \u001b[0;36m__call__\u001b[1;34m(self, iterable)\u001b[0m\n\u001b[0;32m    808\u001b[0m                 \u001b[1;31m# consumption.\u001b[0m\u001b[1;33m\u001b[0m\u001b[1;33m\u001b[0m\u001b[0m\n\u001b[0;32m    809\u001b[0m                 \u001b[0mself\u001b[0m\u001b[1;33m.\u001b[0m\u001b[0m_iterating\u001b[0m \u001b[1;33m=\u001b[0m \u001b[1;32mFalse\u001b[0m\u001b[1;33m\u001b[0m\u001b[0m\n\u001b[1;32m--> 810\u001b[1;33m             \u001b[0mself\u001b[0m\u001b[1;33m.\u001b[0m\u001b[0mretrieve\u001b[0m\u001b[1;33m(\u001b[0m\u001b[1;33m)\u001b[0m\u001b[1;33m\u001b[0m\u001b[0m\n\u001b[0m\u001b[0;32m    811\u001b[0m             \u001b[1;31m# Make sure that we get a last message telling us we are done\u001b[0m\u001b[1;33m\u001b[0m\u001b[1;33m\u001b[0m\u001b[0m\n\u001b[0;32m    812\u001b[0m             \u001b[0melapsed_time\u001b[0m \u001b[1;33m=\u001b[0m \u001b[0mtime\u001b[0m\u001b[1;33m.\u001b[0m\u001b[0mtime\u001b[0m\u001b[1;33m(\u001b[0m\u001b[1;33m)\u001b[0m \u001b[1;33m-\u001b[0m \u001b[0mself\u001b[0m\u001b[1;33m.\u001b[0m\u001b[0m_start_time\u001b[0m\u001b[1;33m\u001b[0m\u001b[0m\n",
      "\u001b[1;32m~\\AppData\\Local\\Continuum\\miniconda3\\envs\\rsgislib35\\lib\\site-packages\\sklearn\\externals\\joblib\\parallel.py\u001b[0m in \u001b[0;36mretrieve\u001b[1;34m(self)\u001b[0m\n\u001b[0;32m    725\u001b[0m                 \u001b[0mjob\u001b[0m \u001b[1;33m=\u001b[0m \u001b[0mself\u001b[0m\u001b[1;33m.\u001b[0m\u001b[0m_jobs\u001b[0m\u001b[1;33m.\u001b[0m\u001b[0mpop\u001b[0m\u001b[1;33m(\u001b[0m\u001b[1;36m0\u001b[0m\u001b[1;33m)\u001b[0m\u001b[1;33m\u001b[0m\u001b[0m\n\u001b[0;32m    726\u001b[0m             \u001b[1;32mtry\u001b[0m\u001b[1;33m:\u001b[0m\u001b[1;33m\u001b[0m\u001b[0m\n\u001b[1;32m--> 727\u001b[1;33m                 \u001b[0mself\u001b[0m\u001b[1;33m.\u001b[0m\u001b[0m_output\u001b[0m\u001b[1;33m.\u001b[0m\u001b[0mextend\u001b[0m\u001b[1;33m(\u001b[0m\u001b[0mjob\u001b[0m\u001b[1;33m.\u001b[0m\u001b[0mget\u001b[0m\u001b[1;33m(\u001b[0m\u001b[1;33m)\u001b[0m\u001b[1;33m)\u001b[0m\u001b[1;33m\u001b[0m\u001b[0m\n\u001b[0m\u001b[0;32m    728\u001b[0m             \u001b[1;32mexcept\u001b[0m \u001b[0mtuple\u001b[0m\u001b[1;33m(\u001b[0m\u001b[0mself\u001b[0m\u001b[1;33m.\u001b[0m\u001b[0mexceptions\u001b[0m\u001b[1;33m)\u001b[0m \u001b[1;32mas\u001b[0m \u001b[0mexception\u001b[0m\u001b[1;33m:\u001b[0m\u001b[1;33m\u001b[0m\u001b[0m\n\u001b[0;32m    729\u001b[0m                 \u001b[1;31m# Stop dispatching any new job in the async callback thread\u001b[0m\u001b[1;33m\u001b[0m\u001b[1;33m\u001b[0m\u001b[0m\n",
      "\u001b[1;32m~\\AppData\\Local\\Continuum\\miniconda3\\envs\\rsgislib35\\lib\\multiprocessing\\pool.py\u001b[0m in \u001b[0;36mget\u001b[1;34m(self, timeout)\u001b[0m\n\u001b[0;32m    636\u001b[0m \u001b[1;33m\u001b[0m\u001b[0m\n\u001b[0;32m    637\u001b[0m     \u001b[1;32mdef\u001b[0m \u001b[0mget\u001b[0m\u001b[1;33m(\u001b[0m\u001b[0mself\u001b[0m\u001b[1;33m,\u001b[0m \u001b[0mtimeout\u001b[0m\u001b[1;33m=\u001b[0m\u001b[1;32mNone\u001b[0m\u001b[1;33m)\u001b[0m\u001b[1;33m:\u001b[0m\u001b[1;33m\u001b[0m\u001b[0m\n\u001b[1;32m--> 638\u001b[1;33m         \u001b[0mself\u001b[0m\u001b[1;33m.\u001b[0m\u001b[0mwait\u001b[0m\u001b[1;33m(\u001b[0m\u001b[0mtimeout\u001b[0m\u001b[1;33m)\u001b[0m\u001b[1;33m\u001b[0m\u001b[0m\n\u001b[0m\u001b[0;32m    639\u001b[0m         \u001b[1;32mif\u001b[0m \u001b[1;32mnot\u001b[0m \u001b[0mself\u001b[0m\u001b[1;33m.\u001b[0m\u001b[0mready\u001b[0m\u001b[1;33m(\u001b[0m\u001b[1;33m)\u001b[0m\u001b[1;33m:\u001b[0m\u001b[1;33m\u001b[0m\u001b[0m\n\u001b[0;32m    640\u001b[0m             \u001b[1;32mraise\u001b[0m \u001b[0mTimeoutError\u001b[0m\u001b[1;33m\u001b[0m\u001b[0m\n",
      "\u001b[1;32m~\\AppData\\Local\\Continuum\\miniconda3\\envs\\rsgislib35\\lib\\multiprocessing\\pool.py\u001b[0m in \u001b[0;36mwait\u001b[1;34m(self, timeout)\u001b[0m\n\u001b[0;32m    633\u001b[0m \u001b[1;33m\u001b[0m\u001b[0m\n\u001b[0;32m    634\u001b[0m     \u001b[1;32mdef\u001b[0m \u001b[0mwait\u001b[0m\u001b[1;33m(\u001b[0m\u001b[0mself\u001b[0m\u001b[1;33m,\u001b[0m \u001b[0mtimeout\u001b[0m\u001b[1;33m=\u001b[0m\u001b[1;32mNone\u001b[0m\u001b[1;33m)\u001b[0m\u001b[1;33m:\u001b[0m\u001b[1;33m\u001b[0m\u001b[0m\n\u001b[1;32m--> 635\u001b[1;33m         \u001b[0mself\u001b[0m\u001b[1;33m.\u001b[0m\u001b[0m_event\u001b[0m\u001b[1;33m.\u001b[0m\u001b[0mwait\u001b[0m\u001b[1;33m(\u001b[0m\u001b[0mtimeout\u001b[0m\u001b[1;33m)\u001b[0m\u001b[1;33m\u001b[0m\u001b[0m\n\u001b[0m\u001b[0;32m    636\u001b[0m \u001b[1;33m\u001b[0m\u001b[0m\n\u001b[0;32m    637\u001b[0m     \u001b[1;32mdef\u001b[0m \u001b[0mget\u001b[0m\u001b[1;33m(\u001b[0m\u001b[0mself\u001b[0m\u001b[1;33m,\u001b[0m \u001b[0mtimeout\u001b[0m\u001b[1;33m=\u001b[0m\u001b[1;32mNone\u001b[0m\u001b[1;33m)\u001b[0m\u001b[1;33m:\u001b[0m\u001b[1;33m\u001b[0m\u001b[0m\n",
      "\u001b[1;32m~\\AppData\\Local\\Continuum\\miniconda3\\envs\\rsgislib35\\lib\\threading.py\u001b[0m in \u001b[0;36mwait\u001b[1;34m(self, timeout)\u001b[0m\n\u001b[0;32m    547\u001b[0m             \u001b[0msignaled\u001b[0m \u001b[1;33m=\u001b[0m \u001b[0mself\u001b[0m\u001b[1;33m.\u001b[0m\u001b[0m_flag\u001b[0m\u001b[1;33m\u001b[0m\u001b[0m\n\u001b[0;32m    548\u001b[0m             \u001b[1;32mif\u001b[0m \u001b[1;32mnot\u001b[0m \u001b[0msignaled\u001b[0m\u001b[1;33m:\u001b[0m\u001b[1;33m\u001b[0m\u001b[0m\n\u001b[1;32m--> 549\u001b[1;33m                 \u001b[0msignaled\u001b[0m \u001b[1;33m=\u001b[0m \u001b[0mself\u001b[0m\u001b[1;33m.\u001b[0m\u001b[0m_cond\u001b[0m\u001b[1;33m.\u001b[0m\u001b[0mwait\u001b[0m\u001b[1;33m(\u001b[0m\u001b[0mtimeout\u001b[0m\u001b[1;33m)\u001b[0m\u001b[1;33m\u001b[0m\u001b[0m\n\u001b[0m\u001b[0;32m    550\u001b[0m             \u001b[1;32mreturn\u001b[0m \u001b[0msignaled\u001b[0m\u001b[1;33m\u001b[0m\u001b[0m\n\u001b[0;32m    551\u001b[0m \u001b[1;33m\u001b[0m\u001b[0m\n",
      "\u001b[1;32m~\\AppData\\Local\\Continuum\\miniconda3\\envs\\rsgislib35\\lib\\threading.py\u001b[0m in \u001b[0;36mwait\u001b[1;34m(self, timeout)\u001b[0m\n\u001b[0;32m    291\u001b[0m         \u001b[1;32mtry\u001b[0m\u001b[1;33m:\u001b[0m    \u001b[1;31m# restore state no matter what (e.g., KeyboardInterrupt)\u001b[0m\u001b[1;33m\u001b[0m\u001b[0m\n\u001b[0;32m    292\u001b[0m             \u001b[1;32mif\u001b[0m \u001b[0mtimeout\u001b[0m \u001b[1;32mis\u001b[0m \u001b[1;32mNone\u001b[0m\u001b[1;33m:\u001b[0m\u001b[1;33m\u001b[0m\u001b[0m\n\u001b[1;32m--> 293\u001b[1;33m                 \u001b[0mwaiter\u001b[0m\u001b[1;33m.\u001b[0m\u001b[0macquire\u001b[0m\u001b[1;33m(\u001b[0m\u001b[1;33m)\u001b[0m\u001b[1;33m\u001b[0m\u001b[0m\n\u001b[0m\u001b[0;32m    294\u001b[0m                 \u001b[0mgotit\u001b[0m \u001b[1;33m=\u001b[0m \u001b[1;32mTrue\u001b[0m\u001b[1;33m\u001b[0m\u001b[0m\n\u001b[0;32m    295\u001b[0m             \u001b[1;32melse\u001b[0m\u001b[1;33m:\u001b[0m\u001b[1;33m\u001b[0m\u001b[0m\n",
      "\u001b[1;31mKeyboardInterrupt\u001b[0m: "
     ]
    }
   ],
   "source": [
    "%run n_estimator_rfr_py27.py --datafile combined_training_data_l8_int_version_stage01.csv \\\n",
    "--nskipcols 18 --outDir ./75/ --yvar perc75_1 --njobs 3"
   ]
  },
  {
   "cell_type": "code",
   "execution_count": null,
   "metadata": {
    "collapsed": true
   },
   "outputs": [],
   "source": []
  }
 ],
 "metadata": {
  "anaconda-cloud": {},
  "kernelspec": {
   "display_name": "Python [conda env:rsgislib35]",
   "language": "python",
   "name": "conda-env-rsgislib35-py"
  },
  "language_info": {
   "codemirror_mode": {
    "name": "ipython",
    "version": 3
   },
   "file_extension": ".py",
   "mimetype": "text/x-python",
   "name": "python",
   "nbconvert_exporter": "python",
   "pygments_lexer": "ipython3",
   "version": "3.5.4"
  }
 },
 "nbformat": 4,
 "nbformat_minor": 1
}
