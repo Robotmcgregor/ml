{
 "cells": [
  {
   "cell_type": "markdown",
   "metadata": {
    "id": "Tce3stUlHN0L"
   },
   "source": [
    "##### Copyright 2022 The TensorFlow Authors."
   ]
  },
  {
   "cell_type": "code",
   "execution_count": 1,
   "metadata": {
    "cellView": "form",
    "execution": {
     "iopub.execute_input": "2024-01-31T12:09:33.820037Z",
     "iopub.status.busy": "2024-01-31T12:09:33.819642Z",
     "iopub.status.idle": "2024-01-31T12:09:33.823304Z",
     "shell.execute_reply": "2024-01-31T12:09:33.822723Z"
    },
    "id": "tuOe1ymfHZPu"
   },
   "outputs": [],
   "source": [
    "#@title Licensed under the Apache License, Version 2.0 (the \"License\");\n",
    "# you may not use this file except in compliance with the License.\n",
    "# You may obtain a copy of the License at\n",
    "#\n",
    "# https://www.apache.org/licenses/LICENSE-2.0\n",
    "#\n",
    "# Unless required by applicable law or agreed to in writing, software\n",
    "# distributed under the License is distributed on an \"AS IS\" BASIS,\n",
    "# WITHOUT WARRANTIES OR CONDITIONS OF ANY KIND, either express or implied.\n",
    "# See the License for the specific language governing permissions and\n",
    "# limitations under the License."
   ]
  },
  {
   "cell_type": "markdown",
   "metadata": {
    "id": "36EdAGhThQov"
   },
   "source": [
    "# Learning to Rank with Decision Forests\n",
    "\n",
    "<table class=\"tfo-notebook-buttons\" align=\"left\">\n",
    "  <td>\n",
    "    <a target=\"_blank\" href=\"https://www.tensorflow.org/decision_forests/tutorials/ranking_colab\"><img src=\"https://www.tensorflow.org/images/tf_logo_32px.png\" />View on TensorFlow.org</a>\n",
    "  </td>\n",
    "  <td>\n",
    "    <a target=\"_blank\" href=\"https://colab.research.google.com/github/tensorflow/decision-forests/blob/main/documentation/tutorials/ranking_colab.ipynb\"><img src=\"https://www.tensorflow.org/images/colab_logo_32px.png\" />Run in Google Colab</a>\n",
    "  </td>\n",
    "  <td>\n",
    "    <a target=\"_blank\" href=\"https://github.com/tensorflow/decision-forests/blob/main/documentation/tutorials/ranking_colab.ipynb\"><img src=\"https://www.tensorflow.org/images/GitHub-Mark-32px.png\" />View on GitHub</a>\n",
    "  </td>\n",
    "  <td>\n",
    "    <a href=\"https://storage.googleapis.com/tensorflow_docs/decision-forests/documentation/tutorials/ranking_colab.ipynb\"><img src=\"https://www.tensorflow.org/images/download_logo_32px.png\" />Download notebook</a>\n",
    "  </td>\n",
    "</table>\n"
   ]
  },
  {
   "cell_type": "markdown",
   "metadata": {
    "id": "kvvDY0LVhuaW"
   },
   "source": [
    "Welcome to the **Learning to Rank Colab** for **TensorFlow Decision Forests** (**TF-DF**).\n",
    "In this colab, you will learn how to use **TF-DF** for ranking.\n",
    "\n",
    "This colab assumes you are familiar with the concepts presented the [Beginner colab](beginner_colab.ipynb), notably about the installation about TF-DF.\n",
    "\n",
    "In this colab, you will:\n",
    "\n",
    "1. Learn what a ranking model is.\n",
    "1. Train a Gradient Boosted Trees models on the LETOR3 dataset.\n",
    "1. Evaluate the quality of this model."
   ]
  },
  {
   "cell_type": "markdown",
   "metadata": {
    "id": "jK9tCTcwqq4k"
   },
   "source": [
    "## Installing TensorFlow Decision Forests\n",
    "\n",
    "Install TF-DF by running the following cell."
   ]
  },
  {
   "cell_type": "code",
   "execution_count": 2,
   "metadata": {
    "execution": {
     "iopub.execute_input": "2024-01-31T12:09:33.826572Z",
     "iopub.status.busy": "2024-01-31T12:09:33.826361Z",
     "iopub.status.idle": "2024-01-31T12:09:38.335148Z",
     "shell.execute_reply": "2024-01-31T12:09:38.334278Z"
    },
    "id": "Pa1Pf37RhEYN"
   },
   "outputs": [
    {
     "name": "stdout",
     "output_type": "stream",
     "text": [
      "Collecting tensorflow_decision_forests\r\n",
      "  Using cached tensorflow_decision_forests-1.8.1-cp39-cp39-manylinux_2_17_x86_64.manylinux2014_x86_64.whl.metadata (6.0 kB)\r\n",
      "Requirement already satisfied: numpy in /tmpfs/src/tf_docs_env/lib/python3.9/site-packages (from tensorflow_decision_forests) (1.26.3)\r\n",
      "Requirement already satisfied: pandas in /tmpfs/src/tf_docs_env/lib/python3.9/site-packages (from tensorflow_decision_forests) (2.2.0)\r\n",
      "Requirement already satisfied: tensorflow~=2.15.0 in /tmpfs/src/tf_docs_env/lib/python3.9/site-packages (from tensorflow_decision_forests) (2.15.0.post1)\r\n",
      "Requirement already satisfied: six in /tmpfs/src/tf_docs_env/lib/python3.9/site-packages (from tensorflow_decision_forests) (1.16.0)\r\n",
      "Requirement already satisfied: absl-py in /tmpfs/src/tf_docs_env/lib/python3.9/site-packages (from tensorflow_decision_forests) (1.4.0)\r\n",
      "Requirement already satisfied: wheel in /tmpfs/src/tf_docs_env/lib/python3.9/site-packages (from tensorflow_decision_forests) (0.41.2)\r\n"
     ]
    },
    {
     "name": "stdout",
     "output_type": "stream",
     "text": [
      "Collecting wurlitzer (from tensorflow_decision_forests)\r\n",
      "  Using cached wurlitzer-3.0.3-py3-none-any.whl (7.3 kB)\r\n",
      "Requirement already satisfied: astunparse>=1.6.0 in /tmpfs/src/tf_docs_env/lib/python3.9/site-packages (from tensorflow~=2.15.0->tensorflow_decision_forests) (1.6.3)\r\n",
      "Requirement already satisfied: flatbuffers>=23.5.26 in /tmpfs/src/tf_docs_env/lib/python3.9/site-packages (from tensorflow~=2.15.0->tensorflow_decision_forests) (23.5.26)\r\n",
      "Requirement already satisfied: gast!=0.5.0,!=0.5.1,!=0.5.2,>=0.2.1 in /tmpfs/src/tf_docs_env/lib/python3.9/site-packages (from tensorflow~=2.15.0->tensorflow_decision_forests) (0.5.4)\r\n",
      "Requirement already satisfied: google-pasta>=0.1.1 in /tmpfs/src/tf_docs_env/lib/python3.9/site-packages (from tensorflow~=2.15.0->tensorflow_decision_forests) (0.2.0)\r\n",
      "Requirement already satisfied: h5py>=2.9.0 in /tmpfs/src/tf_docs_env/lib/python3.9/site-packages (from tensorflow~=2.15.0->tensorflow_decision_forests) (3.10.0)\r\n",
      "Requirement already satisfied: libclang>=13.0.0 in /tmpfs/src/tf_docs_env/lib/python3.9/site-packages (from tensorflow~=2.15.0->tensorflow_decision_forests) (16.0.6)\r\n",
      "Requirement already satisfied: ml-dtypes~=0.2.0 in /tmpfs/src/tf_docs_env/lib/python3.9/site-packages (from tensorflow~=2.15.0->tensorflow_decision_forests) (0.2.0)\r\n",
      "Requirement already satisfied: opt-einsum>=2.3.2 in /tmpfs/src/tf_docs_env/lib/python3.9/site-packages (from tensorflow~=2.15.0->tensorflow_decision_forests) (3.3.0)\r\n",
      "Requirement already satisfied: packaging in /tmpfs/src/tf_docs_env/lib/python3.9/site-packages (from tensorflow~=2.15.0->tensorflow_decision_forests) (23.2)\r\n",
      "Requirement already satisfied: protobuf!=4.21.0,!=4.21.1,!=4.21.2,!=4.21.3,!=4.21.4,!=4.21.5,<5.0.0dev,>=3.20.3 in /tmpfs/src/tf_docs_env/lib/python3.9/site-packages (from tensorflow~=2.15.0->tensorflow_decision_forests) (3.20.3)\r\n",
      "Requirement already satisfied: setuptools in /tmpfs/src/tf_docs_env/lib/python3.9/site-packages (from tensorflow~=2.15.0->tensorflow_decision_forests) (69.0.3)\r\n",
      "Requirement already satisfied: termcolor>=1.1.0 in /tmpfs/src/tf_docs_env/lib/python3.9/site-packages (from tensorflow~=2.15.0->tensorflow_decision_forests) (2.4.0)\r\n",
      "Requirement already satisfied: typing-extensions>=3.6.6 in /tmpfs/src/tf_docs_env/lib/python3.9/site-packages (from tensorflow~=2.15.0->tensorflow_decision_forests) (4.9.0)\r\n",
      "Requirement already satisfied: wrapt<1.15,>=1.11.0 in /tmpfs/src/tf_docs_env/lib/python3.9/site-packages (from tensorflow~=2.15.0->tensorflow_decision_forests) (1.14.1)\r\n",
      "Requirement already satisfied: tensorflow-io-gcs-filesystem>=0.23.1 in /tmpfs/src/tf_docs_env/lib/python3.9/site-packages (from tensorflow~=2.15.0->tensorflow_decision_forests) (0.35.0)\r\n"
     ]
    },
    {
     "name": "stdout",
     "output_type": "stream",
     "text": [
      "Requirement already satisfied: grpcio<2.0,>=1.24.3 in /tmpfs/src/tf_docs_env/lib/python3.9/site-packages (from tensorflow~=2.15.0->tensorflow_decision_forests) (1.60.0)\r\n",
      "Requirement already satisfied: tensorboard<2.16,>=2.15 in /tmpfs/src/tf_docs_env/lib/python3.9/site-packages (from tensorflow~=2.15.0->tensorflow_decision_forests) (2.15.1)\r\n",
      "Requirement already satisfied: tensorflow-estimator<2.16,>=2.15.0 in /tmpfs/src/tf_docs_env/lib/python3.9/site-packages (from tensorflow~=2.15.0->tensorflow_decision_forests) (2.15.0)\r\n",
      "Requirement already satisfied: keras<2.16,>=2.15.0 in /tmpfs/src/tf_docs_env/lib/python3.9/site-packages (from tensorflow~=2.15.0->tensorflow_decision_forests) (2.15.0)\r\n"
     ]
    },
    {
     "name": "stdout",
     "output_type": "stream",
     "text": [
      "Requirement already satisfied: python-dateutil>=2.8.2 in /tmpfs/src/tf_docs_env/lib/python3.9/site-packages (from pandas->tensorflow_decision_forests) (2.8.2)\r\n",
      "Requirement already satisfied: pytz>=2020.1 in /tmpfs/src/tf_docs_env/lib/python3.9/site-packages (from pandas->tensorflow_decision_forests) (2023.4)\r\n",
      "Requirement already satisfied: tzdata>=2022.7 in /tmpfs/src/tf_docs_env/lib/python3.9/site-packages (from pandas->tensorflow_decision_forests) (2023.4)\r\n"
     ]
    },
    {
     "name": "stdout",
     "output_type": "stream",
     "text": [
      "Requirement already satisfied: google-auth<3,>=1.6.3 in /tmpfs/src/tf_docs_env/lib/python3.9/site-packages (from tensorboard<2.16,>=2.15->tensorflow~=2.15.0->tensorflow_decision_forests) (2.27.0)\r\n",
      "Requirement already satisfied: google-auth-oauthlib<2,>=0.5 in /tmpfs/src/tf_docs_env/lib/python3.9/site-packages (from tensorboard<2.16,>=2.15->tensorflow~=2.15.0->tensorflow_decision_forests) (1.2.0)\r\n",
      "Requirement already satisfied: markdown>=2.6.8 in /tmpfs/src/tf_docs_env/lib/python3.9/site-packages (from tensorboard<2.16,>=2.15->tensorflow~=2.15.0->tensorflow_decision_forests) (3.5.2)\r\n",
      "Requirement already satisfied: requests<3,>=2.21.0 in /tmpfs/src/tf_docs_env/lib/python3.9/site-packages (from tensorboard<2.16,>=2.15->tensorflow~=2.15.0->tensorflow_decision_forests) (2.31.0)\r\n",
      "Requirement already satisfied: tensorboard-data-server<0.8.0,>=0.7.0 in /tmpfs/src/tf_docs_env/lib/python3.9/site-packages (from tensorboard<2.16,>=2.15->tensorflow~=2.15.0->tensorflow_decision_forests) (0.7.2)\r\n",
      "Requirement already satisfied: werkzeug>=1.0.1 in /tmpfs/src/tf_docs_env/lib/python3.9/site-packages (from tensorboard<2.16,>=2.15->tensorflow~=2.15.0->tensorflow_decision_forests) (3.0.1)\r\n"
     ]
    },
    {
     "name": "stdout",
     "output_type": "stream",
     "text": [
      "Requirement already satisfied: cachetools<6.0,>=2.0.0 in /tmpfs/src/tf_docs_env/lib/python3.9/site-packages (from google-auth<3,>=1.6.3->tensorboard<2.16,>=2.15->tensorflow~=2.15.0->tensorflow_decision_forests) (5.3.2)\r\n",
      "Requirement already satisfied: pyasn1-modules>=0.2.1 in /tmpfs/src/tf_docs_env/lib/python3.9/site-packages (from google-auth<3,>=1.6.3->tensorboard<2.16,>=2.15->tensorflow~=2.15.0->tensorflow_decision_forests) (0.3.0)\r\n",
      "Requirement already satisfied: rsa<5,>=3.1.4 in /tmpfs/src/tf_docs_env/lib/python3.9/site-packages (from google-auth<3,>=1.6.3->tensorboard<2.16,>=2.15->tensorflow~=2.15.0->tensorflow_decision_forests) (4.9)\r\n",
      "Requirement already satisfied: requests-oauthlib>=0.7.0 in /tmpfs/src/tf_docs_env/lib/python3.9/site-packages (from google-auth-oauthlib<2,>=0.5->tensorboard<2.16,>=2.15->tensorflow~=2.15.0->tensorflow_decision_forests) (1.3.1)\r\n",
      "Requirement already satisfied: importlib-metadata>=4.4 in /tmpfs/src/tf_docs_env/lib/python3.9/site-packages (from markdown>=2.6.8->tensorboard<2.16,>=2.15->tensorflow~=2.15.0->tensorflow_decision_forests) (7.0.1)\r\n"
     ]
    },
    {
     "name": "stdout",
     "output_type": "stream",
     "text": [
      "Requirement already satisfied: charset-normalizer<4,>=2 in /tmpfs/src/tf_docs_env/lib/python3.9/site-packages (from requests<3,>=2.21.0->tensorboard<2.16,>=2.15->tensorflow~=2.15.0->tensorflow_decision_forests) (3.3.2)\r\n",
      "Requirement already satisfied: idna<4,>=2.5 in /tmpfs/src/tf_docs_env/lib/python3.9/site-packages (from requests<3,>=2.21.0->tensorboard<2.16,>=2.15->tensorflow~=2.15.0->tensorflow_decision_forests) (3.6)\r\n",
      "Requirement already satisfied: urllib3<3,>=1.21.1 in /tmpfs/src/tf_docs_env/lib/python3.9/site-packages (from requests<3,>=2.21.0->tensorboard<2.16,>=2.15->tensorflow~=2.15.0->tensorflow_decision_forests) (2.2.0)\r\n",
      "Requirement already satisfied: certifi>=2017.4.17 in /tmpfs/src/tf_docs_env/lib/python3.9/site-packages (from requests<3,>=2.21.0->tensorboard<2.16,>=2.15->tensorflow~=2.15.0->tensorflow_decision_forests) (2023.11.17)\r\n",
      "Requirement already satisfied: MarkupSafe>=2.1.1 in /tmpfs/src/tf_docs_env/lib/python3.9/site-packages (from werkzeug>=1.0.1->tensorboard<2.16,>=2.15->tensorflow~=2.15.0->tensorflow_decision_forests) (2.1.4)\r\n"
     ]
    },
    {
     "name": "stdout",
     "output_type": "stream",
     "text": [
      "Requirement already satisfied: zipp>=0.5 in /tmpfs/src/tf_docs_env/lib/python3.9/site-packages (from importlib-metadata>=4.4->markdown>=2.6.8->tensorboard<2.16,>=2.15->tensorflow~=2.15.0->tensorflow_decision_forests) (3.17.0)\r\n",
      "Requirement already satisfied: pyasn1<0.6.0,>=0.4.6 in /tmpfs/src/tf_docs_env/lib/python3.9/site-packages (from pyasn1-modules>=0.2.1->google-auth<3,>=1.6.3->tensorboard<2.16,>=2.15->tensorflow~=2.15.0->tensorflow_decision_forests) (0.5.1)\r\n",
      "Requirement already satisfied: oauthlib>=3.0.0 in /tmpfs/src/tf_docs_env/lib/python3.9/site-packages (from requests-oauthlib>=0.7.0->google-auth-oauthlib<2,>=0.5->tensorboard<2.16,>=2.15->tensorflow~=2.15.0->tensorflow_decision_forests) (3.2.2)\r\n"
     ]
    },
    {
     "name": "stdout",
     "output_type": "stream",
     "text": [
      "Using cached tensorflow_decision_forests-1.8.1-cp39-cp39-manylinux_2_17_x86_64.manylinux2014_x86_64.whl (15.3 MB)\r\n"
     ]
    },
    {
     "name": "stdout",
     "output_type": "stream",
     "text": [
      "Installing collected packages: wurlitzer, tensorflow_decision_forests\r\n"
     ]
    },
    {
     "name": "stdout",
     "output_type": "stream",
     "text": [
      "Successfully installed tensorflow_decision_forests-1.8.1 wurlitzer-3.0.3\r\n"
     ]
    },
    {
     "name": "stdout",
     "output_type": "stream",
     "text": [
      "Requirement already satisfied: tf_keras in /tmpfs/src/tf_docs_env/lib/python3.9/site-packages (2.15.0)\r\n"
     ]
    }
   ],
   "source": [
    "!pip install tensorflow_decision_forests\n",
    "# TF-DF requires Tensorflow < 2.15 or tf_keras\n",
    "!pip install tf_keras\n"
   ]
  },
  {
   "cell_type": "markdown",
   "metadata": {
    "id": "vZGda2dOe-hH"
   },
   "source": [
    "[Wurlitzer](https://pypi.org/project/wurlitzer/) is needed to display the detailed training logs in Colabs (when using `verbose=2` in the model constructor)."
   ]
  },
  {
   "cell_type": "code",
   "execution_count": 3,
   "metadata": {
    "execution": {
     "iopub.execute_input": "2024-01-31T12:09:38.339536Z",
     "iopub.status.busy": "2024-01-31T12:09:38.339231Z",
     "iopub.status.idle": "2024-01-31T12:09:40.205864Z",
     "shell.execute_reply": "2024-01-31T12:09:40.205014Z"
    },
    "id": "lk26uBSCe8Du"
   },
   "outputs": [
    {
     "name": "stdout",
     "output_type": "stream",
     "text": [
      "Requirement already satisfied: wurlitzer in /tmpfs/src/tf_docs_env/lib/python3.9/site-packages (3.0.3)\r\n"
     ]
    }
   ],
   "source": [
    "!pip install wurlitzer"
   ]
  },
  {
   "cell_type": "markdown",
   "metadata": {
    "id": "3oinwbhXlggd"
   },
   "source": [
    "## Importing libraries"
   ]
  },
  {
   "cell_type": "code",
   "execution_count": 4,
   "metadata": {
    "execution": {
     "iopub.execute_input": "2024-01-31T12:09:40.210501Z",
     "iopub.status.busy": "2024-01-31T12:09:40.209784Z",
     "iopub.status.idle": "2024-01-31T12:09:42.837979Z",
     "shell.execute_reply": "2024-01-31T12:09:42.837139Z"
    },
    "id": "52W45tmDjD64"
   },
   "outputs": [
    {
     "name": "stderr",
     "output_type": "stream",
     "text": [
      "2024-01-31 12:09:40.640091: E external/local_xla/xla/stream_executor/cuda/cuda_dnn.cc:9261] Unable to register cuDNN factory: Attempting to register factory for plugin cuDNN when one has already been registered\n",
      "2024-01-31 12:09:40.640135: E external/local_xla/xla/stream_executor/cuda/cuda_fft.cc:607] Unable to register cuFFT factory: Attempting to register factory for plugin cuFFT when one has already been registered\n",
      "2024-01-31 12:09:40.641564: E external/local_xla/xla/stream_executor/cuda/cuda_blas.cc:1515] Unable to register cuBLAS factory: Attempting to register factory for plugin cuBLAS when one has already been registered\n"
     ]
    }
   ],
   "source": [
    "import os\n",
    "# Keep using Keras 2\n",
    "os.environ['TF_USE_LEGACY_KERAS'] = '1'\n",
    "\n",
    "import tensorflow_decision_forests as tfdf\n",
    "\n",
    "import numpy as np\n",
    "import pandas as pd\n",
    "import tensorflow as tf\n",
    "import tf_keras\n",
    "import math"
   ]
  },
  {
   "cell_type": "markdown",
   "metadata": {
    "id": "0LPPwWxYxtDM"
   },
   "source": [
    "The hidden code cell limits the output height in colab.\n"
   ]
  },
  {
   "cell_type": "code",
   "execution_count": 5,
   "metadata": {
    "cellView": "form",
    "execution": {
     "iopub.execute_input": "2024-01-31T12:09:42.842195Z",
     "iopub.status.busy": "2024-01-31T12:09:42.841772Z",
     "iopub.status.idle": "2024-01-31T12:09:42.846280Z",
     "shell.execute_reply": "2024-01-31T12:09:42.845685Z"
    },
    "id": "2AhqJz3VmQM-"
   },
   "outputs": [],
   "source": [
    "#@title\n",
    "\n",
    "from IPython.core.magic import register_line_magic\n",
    "from IPython.display import Javascript\n",
    "from IPython.display import display as ipy_display\n",
    "\n",
    "# Some of the model training logs can cover the full\n",
    "# screen if not compressed to a smaller viewport.\n",
    "# This magic allows setting a max height for a cell.\n",
    "@register_line_magic\n",
    "def set_cell_height(size):\n",
    "  ipy_display(\n",
    "      Javascript(\"google.colab.output.setIframeHeight(0, true, {maxHeight: \" +\n",
    "                 str(size) + \"})\"))"
   ]
  },
  {
   "cell_type": "code",
   "execution_count": 6,
   "metadata": {
    "execution": {
     "iopub.execute_input": "2024-01-31T12:09:42.849272Z",
     "iopub.status.busy": "2024-01-31T12:09:42.848840Z",
     "iopub.status.idle": "2024-01-31T12:09:42.852308Z",
     "shell.execute_reply": "2024-01-31T12:09:42.851716Z"
    },
    "id": "8gVQ-txtjFU4"
   },
   "outputs": [
    {
     "name": "stdout",
     "output_type": "stream",
     "text": [
      "Found TensorFlow Decision Forests v1.8.1\n"
     ]
    }
   ],
   "source": [
    "# Check the version of TensorFlow Decision Forests\n",
    "print(\"Found TensorFlow Decision Forests v\" + tfdf.__version__)"
   ]
  },
  {
   "cell_type": "markdown",
   "metadata": {
    "id": "S54mR6i9jkhp"
   },
   "source": [
    "## What is a ranking model?\n",
    "\n",
    "The goal of a [ranking](https://en.wikipedia.org/wiki/Learning_to_rank) model is to **correctly order** items. For example, ranking can be used to select the best *documents* to retrieve following a user *query*.\n",
    "\n",
    "A common way to represent a Ranking dataset is with a \"relevance\" score: The order of the elements is defined by their relevance: Items of greater relevance should be before lower relevance items. The cost of a mistake is defined by the difference between the relevance of the predicted item with the relevance of the correct item. For example, misordering two items with respective relevance 3 and 4 is not as bad as misordering two items with respective relevance 1 and 5.\n",
    "\n",
    "TF-DF expects ranking datasets to be presented in a \"flat\" format.\n",
    "A dataset of queries and corresponding documents might look like this:\n",
    "\n",
    "query | document_id | feature_1 | feature_2 | relevance\n",
    "----- | ----------- | --------- | --------- | ---------------\n",
    "cat   | 1           | 0.1       | blue      | 4\n",
    "cat   | 2           | 0.5       | green     | 1\n",
    "cat   | 3           | 0.2       | red       | 2\n",
    "dog   | 4           | NA        | red       | 0\n",
    "dog   | 5           | 0.2       | red       | 0\n",
    "dog   | 6           | 0.6       | green     | 1\n",
    "\n",
    "\n",
    "The *relevance/label* is a floating point numerical value between 0 and 5\n",
    "(generally between 0 and 4) where 0 means \"completely unrelated\", 4 means \"very\n",
    "relevant\" and 5 means \"same as the query\".\n",
    "\n",
    "In this example, Document 1 is very relevant to the query \"cat\", while document 2 is only \"related\" to cats. There are no documents is really talking about \"dog\" (the highest relevance is 1 for the document 6). However, the dog query is still expecting to return document 6 (since this is the document that talks the \"most\" about dogs).\n",
    "\n",
    "Interestingly, decision forests are often good rankers, and many\n",
    "state-of-the-art ranking models are decision forests."
   ]
  },
  {
   "cell_type": "markdown",
   "metadata": {
    "id": "QvcRIhFF0BoN"
   },
   "source": [
    "## Let's train a Ranking model\n",
    "\n",
    "In this example, use a sample of the\n",
    "[LETOR3](https://www.microsoft.com/en-us/research/project/letor-learning-rank-information-retrieval/#!letor-3-0)\n",
    "dataset. More precisely, we want to download the `OHSUMED.zip` from [the LETOR3 repo](https://onedrive.live.com/?authkey=%21ACnoZZSZVfHPJd0&id=8FEADC23D838BDA8%21107&cid=8FEADC23D838BDA8). This dataset is stored in the\n",
    "libsvm format, so we will need to convert it to csv."
   ]
  },
  {
   "cell_type": "code",
   "execution_count": 7,
   "metadata": {
    "execution": {
     "iopub.execute_input": "2024-01-31T12:09:42.855804Z",
     "iopub.status.busy": "2024-01-31T12:09:42.855303Z",
     "iopub.status.idle": "2024-01-31T12:09:45.363923Z",
     "shell.execute_reply": "2024-01-31T12:09:45.363148Z"
    },
    "id": "axD6x1ZivHCS"
   },
   "outputs": [
    {
     "name": "stdout",
     "output_type": "stream",
     "text": [
      "Downloading data from https://download.microsoft.com/download/E/7/E/E7EABEF1-4C7B-4E31-ACE5-73927950ED5E/Letor.zip\n"
     ]
    },
    {
     "name": "stdout",
     "output_type": "stream",
     "text": [
      "\r",
      "    8192/61824018 [..............................] - ETA: 0s"
     ]
    },
    {
     "name": "stdout",
     "output_type": "stream",
     "text": [
      "\b\b\b\b\b\b\b\b\b\b\b\b\b\b\b\b\b\b\b\b\b\b\b\b\b\b\b\b\b\b\b\b\b\b\b\b\b\b\b\b\b\b\b\b\b\b\b\b\b\b\b\b\b\b\b\b\b\b\b\b\r",
      " 2334720/61824018 [>.............................] - ETA: 1s"
     ]
    },
    {
     "name": "stdout",
     "output_type": "stream",
     "text": [
      "\b\b\b\b\b\b\b\b\b\b\b\b\b\b\b\b\b\b\b\b\b\b\b\b\b\b\b\b\b\b\b\b\b\b\b\b\b\b\b\b\b\b\b\b\b\b\b\b\b\b\b\b\b\b\b\b\b\b\b\b\r",
      " 9756672/61824018 [===>..........................] - ETA: 0s"
     ]
    },
    {
     "name": "stdout",
     "output_type": "stream",
     "text": [
      "\b\b\b\b\b\b\b\b\b\b\b\b\b\b\b\b\b\b\b\b\b\b\b\b\b\b\b\b\b\b\b\b\b\b\b\b\b\b\b\b\b\b\b\b\b\b\b\b\b\b\b\b\b\b\b\b\b\b\b\b\r",
      "17424384/61824018 [=======>......................] - ETA: 0s"
     ]
    },
    {
     "name": "stdout",
     "output_type": "stream",
     "text": [
      "\b\b\b\b\b\b\b\b\b\b\b\b\b\b\b\b\b\b\b\b\b\b\b\b\b\b\b\b\b\b\b\b\b\b\b\b\b\b\b\b\b\b\b\b\b\b\b\b\b\b\b\b\b\b\b\b\b\b\b\b\r",
      "25624576/61824018 [===========>..................] - ETA: 0s"
     ]
    },
    {
     "name": "stdout",
     "output_type": "stream",
     "text": [
      "\b\b\b\b\b\b\b\b\b\b\b\b\b\b\b\b\b\b\b\b\b\b\b\b\b\b\b\b\b\b\b\b\b\b\b\b\b\b\b\b\b\b\b\b\b\b\b\b\b\b\b\b\b\b\b\b\b\b\b\b\r",
      "32309248/61824018 [==============>...............] - ETA: 0s"
     ]
    },
    {
     "name": "stdout",
     "output_type": "stream",
     "text": [
      "\b\b\b\b\b\b\b\b\b\b\b\b\b\b\b\b\b\b\b\b\b\b\b\b\b\b\b\b\b\b\b\b\b\b\b\b\b\b\b\b\b\b\b\b\b\b\b\b\b\b\b\b\b\b\b\b\b\b\b\b\r",
      "39116800/61824018 [=================>............] - ETA: 0s"
     ]
    },
    {
     "name": "stdout",
     "output_type": "stream",
     "text": [
      "\b\b\b\b\b\b\b\b\b\b\b\b\b\b\b\b\b\b\b\b\b\b\b\b\b\b\b\b\b\b\b\b\b\b\b\b\b\b\b\b\b\b\b\b\b\b\b\b\b\b\b\b\b\b\b\b\b\b\b\b\r",
      "46145536/61824018 [=====================>........] - ETA: 0s"
     ]
    },
    {
     "name": "stdout",
     "output_type": "stream",
     "text": [
      "\b\b\b\b\b\b\b\b\b\b\b\b\b\b\b\b\b\b\b\b\b\b\b\b\b\b\b\b\b\b\b\b\b\b\b\b\b\b\b\b\b\b\b\b\b\b\b\b\b\b\b\b\b\b\b\b\b\b\b\b\r",
      "54853632/61824018 [=========================>....] - ETA: 0s"
     ]
    },
    {
     "name": "stdout",
     "output_type": "stream",
     "text": [
      "\b\b\b\b\b\b\b\b\b\b\b\b\b\b\b\b\b\b\b\b\b\b\b\b\b\b\b\b\b\b\b\b\b\b\b\b\b\b\b\b\b\b\b\b\b\b\b\b\b\b\b\b\b\b\b\b\b\b\b\b\r",
      "61145088/61824018 [============================>.] - ETA: 0s"
     ]
    },
    {
     "name": "stdout",
     "output_type": "stream",
     "text": [
      "\b\b\b\b\b\b\b\b\b\b\b\b\b\b\b\b\b\b\b\b\b\b\b\b\b\b\b\b\b\b\b\b\b\b\b\b\b\b\b\b\b\b\b\b\b\b\b\b\b\b\b\b\b\b\b\b\b\b\b\b\r",
      "61824018/61824018 [==============================] - 0s 0us/step\n"
     ]
    }
   ],
   "source": [
    "archive_path = tf_keras.utils.get_file(\"letor.zip\",\n",
    "  \"https://download.microsoft.com/download/E/7/E/E7EABEF1-4C7B-4E31-ACE5-73927950ED5E/Letor.zip\",\n",
    "  extract=True)\n",
    "\n",
    "# Path to a ranking ataset using libsvm format.\n",
    "raw_dataset_path = os.path.join(os.path.dirname(archive_path),\"OHSUMED/Data/Fold1/trainingset.txt\")"
   ]
  },
  {
   "cell_type": "markdown",
   "metadata": {
    "id": "f5UB-Kwn6JKK"
   },
   "source": [
    "Here are the first lines of the dataset:"
   ]
  },
  {
   "cell_type": "code",
   "execution_count": 8,
   "metadata": {
    "execution": {
     "iopub.execute_input": "2024-01-31T12:09:45.368880Z",
     "iopub.status.busy": "2024-01-31T12:09:45.368105Z",
     "iopub.status.idle": "2024-01-31T12:09:45.493041Z",
     "shell.execute_reply": "2024-01-31T12:09:45.492249Z"
    },
    "id": "pDjamyHv6K7B"
   },
   "outputs": [
    {
     "name": "stdout",
     "output_type": "stream",
     "text": [
      "2 qid:1 1:3.00000000 2:2.07944154 3:0.27272727 4:0.26103413 5:37.33056511 6:11.43124125 7:37.29975005 8:1.13865735 9:15.52428944 10:8.83129655 11:12.00000000 12:5.37527841 13:0.08759124 14:0.08649364 15:28.30306459 16:9.34002375 17:24.80878473 18:0.39309068 19:57.41651698 20:3.29489291 21:25.02310000 22:3.21979940 23:-3.87098000 24:-3.90273000 25:-3.87512000 #docid = 40626\r",
      "\r\n",
      "0 qid:1 1:3.00000000 2:2.07944154 3:0.42857143 4:0.40059418 5:37.33056511 6:11.43124125 7:37.29975005 8:1.81447983 9:17.45499227 10:11.61793065 11:10.00000000 12:5.19295685 13:0.08547009 14:0.08453711 15:28.30306459 16:9.34002375 17:24.80878473 18:0.34920457 19:43.24062605 20:2.65472417 21:23.49030000 22:3.15658757 23:-3.96838000 24:-4.00865000 25:-3.98670000 #docid = 11852\r",
      "\r\n",
      "2 qid:1 1:0.00000000 2:0.00000000 3:0.00000000 4:0.00000000 5:37.33056511 6:11.43124125 7:37.29975005 8:0.00000000 9:0.00000000 10:0.00000000 11:8.00000000 12:4.38202663 13:0.07692308 14:0.07601813 15:28.30306459 16:9.34002375 17:24.80878473 18:0.24031887 19:25.81698944 20:1.55134225 21:15.86500000 22:2.76411543 23:-4.28166000 24:-4.33313000 25:-4.44161000 #docid = 12693\r",
      "\r\n",
      "2 qid:1 1:4.00000000 2:2.77258872 3:0.33333333 4:0.32017083 5:37.33056511 6:11.43124125 7:37.29975005 8:1.26080803 9:17.97524177 10:8.86378153 11:3.00000000 12:1.79175947 13:0.03409091 14:0.03377241 15:28.30306459 16:9.34002375 17:24.80878473 18:0.11149640 19:10.09242586 20:0.64975836 21:14.27780000 22:2.65870588 23:-4.77772000 24:-4.73563000 25:-4.86759000 #docid = 12694\r",
      "\r\n",
      "0 qid:1 1:0.00000000 2:0.00000000 3:0.00000000 4:0.00000000 5:37.33056511 6:11.43124125 7:37.29975005 8:0.00000000 9:0.00000000 10:0.00000000 11:6.00000000 12:3.87120101 13:0.04761905 14:0.04736907 15:28.30306459 16:9.34002375 17:24.80878473 18:0.18210403 19:23.54629629 20:1.62139253 21:15.27640000 22:2.72630915 23:-4.43073000 24:-4.45985000 25:-4.57053000 #docid = 15450\r",
      "\r\n",
      "1 qid:1 1:1.00000000 2:0.69314718 3:0.14285714 4:0.13353139 5:37.33056511 6:11.43124125 7:37.29975005 8:0.62835774 9:6.12170704 10:4.15689134 11:10.00000000 12:4.43081680 13:0.08333333 14:0.08191707 15:28.30306459 16:9.34002375 17:24.80878473 18:0.32796715 19:43.13226482 20:2.12249256 21:16.33990000 22:2.79360997 23:-4.75652000 24:-4.66814000 25:-4.82965000 #docid = 17665\r",
      "\r\n",
      "0 qid:1 1:0.00000000 2:0.00000000 3:0.00000000 4:0.00000000 5:37.33056511 6:11.43124125 7:37.29975005 8:0.00000000 9:0.00000000 10:0.00000000 11:3.00000000 12:2.07944154 13:0.05357143 14:0.05309873 15:28.30306459 16:9.34002375 17:24.80878473 18:0.25524876 19:14.92698785 20:2.59607100 21:16.00510000 22:2.77290742 23:-4.54349000 24:-4.52334000 25:-4.69865000 #docid = 18432\r",
      "\r\n",
      "0 qid:1 1:1.00000000 2:0.69314718 3:0.50000000 4:0.40546511 5:37.33056511 6:11.43124125 7:37.29975005 8:1.07964603 9:3.88727484 10:3.22375250 11:14.00000000 12:5.19295685 13:0.10000000 14:0.09779062 15:28.30306459 16:9.34002375 17:24.80878473 18:0.41939944 19:65.74099134 20:2.81316484 21:20.37810000 22:3.01446079 23:-4.25087000 24:-4.18235000 25:-4.21824000 #docid = 18540\r",
      "\r\n",
      "0 qid:1 1:3.00000000 2:2.07944154 3:0.60000000 4:0.54696467 5:37.33056511 6:11.43124125 7:37.29975005 8:2.13084866 9:15.65986863 10:10.90521468 11:9.00000000 12:4.68213123 13:0.13043478 14:0.12827973 15:28.30306459 16:9.34002375 17:24.80878473 18:0.44756051 19:33.23097043 20:2.69791902 21:21.26510000 22:3.05706723 23:-4.18472000 24:-4.18399000 25:-4.03491000 #docid = 44695\r",
      "\r\n",
      "0 qid:1 1:0.00000000 2:0.00000000 3:0.00000000 4:0.00000000 5:37.33056511 6:11.43124125 7:37.29975005 8:0.00000000 9:0.00000000 10:0.00000000 11:16.00000000 12:6.10479323 13:0.11510791 14:0.11289797 15:28.30306459 16:9.34002375 17:24.80878473 18:0.37130060 19:55.42216381 20:2.33077909 21:19.21490000 22:2.95568602 23:-4.09988000 24:-4.15679000 25:-4.17349000 #docid = 18541\r",
      "\r\n"
     ]
    }
   ],
   "source": [
    "!head {raw_dataset_path}"
   ]
  },
  {
   "cell_type": "markdown",
   "metadata": {
    "id": "rcManr98ZGID"
   },
   "source": [
    "The first step is to convert this dataset to the \"flat\" format mentioned above."
   ]
  },
  {
   "cell_type": "code",
   "execution_count": 9,
   "metadata": {
    "execution": {
     "iopub.execute_input": "2024-01-31T12:09:45.497021Z",
     "iopub.status.busy": "2024-01-31T12:09:45.496602Z",
     "iopub.status.idle": "2024-01-31T12:09:45.632679Z",
     "shell.execute_reply": "2024-01-31T12:09:45.632103Z"
    },
    "id": "mkiM9HJox-e8"
   },
   "outputs": [
    {
     "data": {
      "text/html": [
       "<div>\n",
       "<style scoped>\n",
       "    .dataframe tbody tr th:only-of-type {\n",
       "        vertical-align: middle;\n",
       "    }\n",
       "\n",
       "    .dataframe tbody tr th {\n",
       "        vertical-align: top;\n",
       "    }\n",
       "\n",
       "    .dataframe thead th {\n",
       "        text-align: right;\n",
       "    }\n",
       "</style>\n",
       "<table border=\"1\" class=\"dataframe\">\n",
       "  <thead>\n",
       "    <tr style=\"text-align: right;\">\n",
       "      <th></th>\n",
       "      <th>relevance</th>\n",
       "      <th>group</th>\n",
       "      <th>f_1</th>\n",
       "      <th>f_2</th>\n",
       "      <th>f_3</th>\n",
       "      <th>f_4</th>\n",
       "      <th>f_5</th>\n",
       "      <th>f_6</th>\n",
       "      <th>f_7</th>\n",
       "      <th>f_8</th>\n",
       "      <th>...</th>\n",
       "      <th>f_16</th>\n",
       "      <th>f_17</th>\n",
       "      <th>f_18</th>\n",
       "      <th>f_19</th>\n",
       "      <th>f_20</th>\n",
       "      <th>f_21</th>\n",
       "      <th>f_22</th>\n",
       "      <th>f_23</th>\n",
       "      <th>f_24</th>\n",
       "      <th>f_25</th>\n",
       "    </tr>\n",
       "  </thead>\n",
       "  <tbody>\n",
       "    <tr>\n",
       "      <th>0</th>\n",
       "      <td>2</td>\n",
       "      <td>g_1</td>\n",
       "      <td>3.0</td>\n",
       "      <td>2.079442</td>\n",
       "      <td>0.272727</td>\n",
       "      <td>0.261034</td>\n",
       "      <td>37.330565</td>\n",
       "      <td>11.431241</td>\n",
       "      <td>37.29975</td>\n",
       "      <td>1.138657</td>\n",
       "      <td>...</td>\n",
       "      <td>9.340024</td>\n",
       "      <td>24.808785</td>\n",
       "      <td>0.393091</td>\n",
       "      <td>57.416517</td>\n",
       "      <td>3.294893</td>\n",
       "      <td>25.0231</td>\n",
       "      <td>3.219799</td>\n",
       "      <td>-3.87098</td>\n",
       "      <td>-3.90273</td>\n",
       "      <td>-3.87512</td>\n",
       "    </tr>\n",
       "    <tr>\n",
       "      <th>1</th>\n",
       "      <td>0</td>\n",
       "      <td>g_1</td>\n",
       "      <td>3.0</td>\n",
       "      <td>2.079442</td>\n",
       "      <td>0.428571</td>\n",
       "      <td>0.400594</td>\n",
       "      <td>37.330565</td>\n",
       "      <td>11.431241</td>\n",
       "      <td>37.29975</td>\n",
       "      <td>1.814480</td>\n",
       "      <td>...</td>\n",
       "      <td>9.340024</td>\n",
       "      <td>24.808785</td>\n",
       "      <td>0.349205</td>\n",
       "      <td>43.240626</td>\n",
       "      <td>2.654724</td>\n",
       "      <td>23.4903</td>\n",
       "      <td>3.156588</td>\n",
       "      <td>-3.96838</td>\n",
       "      <td>-4.00865</td>\n",
       "      <td>-3.98670</td>\n",
       "    </tr>\n",
       "    <tr>\n",
       "      <th>2</th>\n",
       "      <td>2</td>\n",
       "      <td>g_1</td>\n",
       "      <td>0.0</td>\n",
       "      <td>0.000000</td>\n",
       "      <td>0.000000</td>\n",
       "      <td>0.000000</td>\n",
       "      <td>37.330565</td>\n",
       "      <td>11.431241</td>\n",
       "      <td>37.29975</td>\n",
       "      <td>0.000000</td>\n",
       "      <td>...</td>\n",
       "      <td>9.340024</td>\n",
       "      <td>24.808785</td>\n",
       "      <td>0.240319</td>\n",
       "      <td>25.816989</td>\n",
       "      <td>1.551342</td>\n",
       "      <td>15.8650</td>\n",
       "      <td>2.764115</td>\n",
       "      <td>-4.28166</td>\n",
       "      <td>-4.33313</td>\n",
       "      <td>-4.44161</td>\n",
       "    </tr>\n",
       "  </tbody>\n",
       "</table>\n",
       "<p>3 rows × 27 columns</p>\n",
       "</div>"
      ],
      "text/plain": [
       "   relevance group  f_1       f_2       f_3       f_4        f_5        f_6  \\\n",
       "0          2   g_1  3.0  2.079442  0.272727  0.261034  37.330565  11.431241   \n",
       "1          0   g_1  3.0  2.079442  0.428571  0.400594  37.330565  11.431241   \n",
       "2          2   g_1  0.0  0.000000  0.000000  0.000000  37.330565  11.431241   \n",
       "\n",
       "        f_7       f_8  ...      f_16       f_17      f_18       f_19  \\\n",
       "0  37.29975  1.138657  ...  9.340024  24.808785  0.393091  57.416517   \n",
       "1  37.29975  1.814480  ...  9.340024  24.808785  0.349205  43.240626   \n",
       "2  37.29975  0.000000  ...  9.340024  24.808785  0.240319  25.816989   \n",
       "\n",
       "       f_20     f_21      f_22     f_23     f_24     f_25  \n",
       "0  3.294893  25.0231  3.219799 -3.87098 -3.90273 -3.87512  \n",
       "1  2.654724  23.4903  3.156588 -3.96838 -4.00865 -3.98670  \n",
       "2  1.551342  15.8650  2.764115 -4.28166 -4.33313 -4.44161  \n",
       "\n",
       "[3 rows x 27 columns]"
      ]
     },
     "execution_count": 9,
     "metadata": {},
     "output_type": "execute_result"
    }
   ],
   "source": [
    "def convert_libsvm_to_csv(src_path, dst_path):\n",
    "  \"\"\"Converts a libsvm ranking dataset into a flat csv file.\n",
    "  \n",
    "  Note: This code is specific to the LETOR3 dataset.\n",
    "  \"\"\"\n",
    "  dst_handle = open(dst_path, \"w\")\n",
    "  first_line = True\n",
    "  for src_line in open(src_path,\"r\"):\n",
    "    # Note: The last 3 items are comments.\n",
    "    items = src_line.split(\" \")[:-3]\n",
    "    relevance = items[0]\n",
    "    group = items[1].split(\":\")[1]\n",
    "    features = [ item.split(\":\") for item in items[2:]]\n",
    "\n",
    "    if first_line:\n",
    "      # Csv header\n",
    "      dst_handle.write(\"relevance,group,\" + \",\".join([\"f_\" + feature[0] for feature in features]) + \"\\n\")\n",
    "      first_line = False\n",
    "    dst_handle.write(relevance + \",g_\" + group + \",\" + (\",\".join([feature[1] for feature in features])) + \"\\n\")\n",
    "  dst_handle.close()\n",
    "\n",
    "# Convert the dataset.\n",
    "csv_dataset_path=\"/tmp/ohsumed.csv\"\n",
    "convert_libsvm_to_csv(raw_dataset_path, csv_dataset_path)\n",
    "\n",
    "# Load a dataset into a Pandas Dataframe.\n",
    "dataset_df = pd.read_csv(csv_dataset_path)\n",
    "\n",
    "# Display the first 3 examples.\n",
    "dataset_df.head(3)"
   ]
  },
  {
   "cell_type": "markdown",
   "metadata": {
    "id": "jdelXEgw6bsq"
   },
   "source": [
    "In this dataset, each row represents a pair of query/document (called \"group\"). The \"relevance\" tells how much the query matches the document.\n",
    "\n",
    "The features of the query and the document are merged together in \"f1-25\". The exact definition of the features is not known, but it would be omething like:\n",
    "\n",
    "- Number of words in queries\n",
    "- Number of common words between the query and the document\n",
    "- Cosinus similarity between an embedding of the query and an embedding of the document.\n",
    "- ...\n",
    "\n",
    "Let's convert the Pandas Dataframe into a TensorFlow Dataset:"
   ]
  },
  {
   "cell_type": "code",
   "execution_count": 10,
   "metadata": {
    "execution": {
     "iopub.execute_input": "2024-01-31T12:09:45.636229Z",
     "iopub.status.busy": "2024-01-31T12:09:45.635644Z",
     "iopub.status.idle": "2024-01-31T12:09:47.940509Z",
     "shell.execute_reply": "2024-01-31T12:09:47.939747Z"
    },
    "id": "5QMbBkCEXxu_"
   },
   "outputs": [],
   "source": [
    "dataset_ds = tfdf.keras.pd_dataframe_to_tf_dataset(dataset_df, label=\"relevance\", task=tfdf.keras.Task.RANKING)"
   ]
  },
  {
   "cell_type": "markdown",
   "metadata": {
    "id": "sOPVcfs_7xxf"
   },
   "source": [
    "Let's configure and train our Ranking model."
   ]
  },
  {
   "cell_type": "code",
   "execution_count": 11,
   "metadata": {
    "execution": {
     "iopub.execute_input": "2024-01-31T12:09:47.944971Z",
     "iopub.status.busy": "2024-01-31T12:09:47.944342Z",
     "iopub.status.idle": "2024-01-31T12:09:56.544584Z",
     "shell.execute_reply": "2024-01-31T12:09:56.543892Z"
    },
    "id": "Ba1gb75SX1rr"
   },
   "outputs": [
    {
     "data": {
      "application/javascript": [
       "google.colab.output.setIframeHeight(0, true, {maxHeight: 400})"
      ],
      "text/plain": [
       "<IPython.core.display.Javascript object>"
      ]
     },
     "metadata": {},
     "output_type": "display_data"
    },
    {
     "name": "stdout",
     "output_type": "stream",
     "text": [
      "Warning: The `num_threads` constructor argument is not set and the number of CPU is os.cpu_count()=32 > 32. Setting num_threads to 32. Set num_threads manually to use more than 32 cpus.\n"
     ]
    },
    {
     "name": "stderr",
     "output_type": "stream",
     "text": [
      "WARNING:absl:The `num_threads` constructor argument is not set and the number of CPU is os.cpu_count()=32 > 32. Setting num_threads to 32. Set num_threads manually to use more than 32 cpus.\n"
     ]
    },
    {
     "name": "stdout",
     "output_type": "stream",
     "text": [
      "Use /tmpfs/tmp/tmps8z5naxq as temporary training directory\n"
     ]
    },
    {
     "name": "stdout",
     "output_type": "stream",
     "text": [
      "Reading training dataset...\n"
     ]
    },
    {
     "name": "stderr",
     "output_type": "stream",
     "text": [
      "[WARNING 24-01-31 12:09:47.9677 UTC gradient_boosted_trees.cc:1886] \"goss_alpha\" set but \"sampling_method\" not equal to \"GOSS\".\n",
      "[WARNING 24-01-31 12:09:47.9677 UTC gradient_boosted_trees.cc:1897] \"goss_beta\" set but \"sampling_method\" not equal to \"GOSS\".\n",
      "[WARNING 24-01-31 12:09:47.9677 UTC gradient_boosted_trees.cc:1911] \"selective_gradient_boosting_ratio\" set but \"sampling_method\" not equal to \"SELGB\".\n"
     ]
    },
    {
     "name": "stdout",
     "output_type": "stream",
     "text": [
      "Training dataset read in 0:00:03.787268. Found 9219 examples.\n"
     ]
    },
    {
     "name": "stdout",
     "output_type": "stream",
     "text": [
      "Training model...\n"
     ]
    },
    {
     "name": "stdout",
     "output_type": "stream",
     "text": [
      "Model trained in 0:00:00.744883\n"
     ]
    },
    {
     "name": "stdout",
     "output_type": "stream",
     "text": [
      "Compiling model...\n"
     ]
    },
    {
     "name": "stderr",
     "output_type": "stream",
     "text": [
      "[INFO 24-01-31 12:09:52.5221 UTC kernel.cc:1233] Loading model from path /tmpfs/tmp/tmps8z5naxq/model/ with prefix 13431959a63d4d94\n",
      "[INFO 24-01-31 12:09:52.5233 UTC quick_scorer_extended.cc:903] The binary was compiled without AVX2 support, but your CPU supports it. Enable it for faster model inference.\n",
      "[INFO 24-01-31 12:09:52.5234 UTC abstract_model.cc:1344] Engine \"GradientBoostedTreesQuickScorerExtended\" built\n",
      "[INFO 24-01-31 12:09:52.5234 UTC kernel.cc:1061] Use fast generic engine\n"
     ]
    },
    {
     "name": "stdout",
     "output_type": "stream",
     "text": [
      "Model compiled.\n"
     ]
    },
    {
     "data": {
      "text/plain": [
       "<tf_keras.src.callbacks.History at 0x7f96a34464f0>"
      ]
     },
     "execution_count": 11,
     "metadata": {},
     "output_type": "execute_result"
    }
   ],
   "source": [
    "%set_cell_height 400\n",
    "\n",
    "model = tfdf.keras.GradientBoostedTreesModel(\n",
    "    task=tfdf.keras.Task.RANKING,\n",
    "    ranking_group=\"group\",\n",
    "    num_trees=50)\n",
    "\n",
    "model.fit(dataset_ds)"
   ]
  },
  {
   "cell_type": "markdown",
   "metadata": {
    "id": "kz9kdege8T_y"
   },
   "source": [
    "We can now look at the quality of the model on the validation dataset. By default, TF-DF trains ranking models to optimize the [NDCG](https://en.wikipedia.org/wiki/Discounted_cumulative_gain). The NDCG is a value between 0 and 1, where 1 is the perfect score. For this reason, -NDCG is the model loss."
   ]
  },
  {
   "cell_type": "code",
   "execution_count": 12,
   "metadata": {
    "execution": {
     "iopub.execute_input": "2024-01-31T12:09:56.548291Z",
     "iopub.status.busy": "2024-01-31T12:09:56.547728Z",
     "iopub.status.idle": "2024-01-31T12:09:57.096931Z",
     "shell.execute_reply": "2024-01-31T12:09:57.096289Z"
    },
    "id": "lt5qysPs8zex"
   },
   "outputs": [
    {
     "data": {
      "image/png": "[encoded data removed]",
      "text/plain": [
       "<Figure size 1200x400 with 2 Axes>"
      ]
     },
     "metadata": {},
     "output_type": "display_data"
    }
   ],
   "source": [
    "import matplotlib.pyplot as plt\n",
    "\n",
    "logs = model.make_inspector().training_logs()\n",
    "\n",
    "plt.figure(figsize=(12, 4))\n",
    "\n",
    "plt.subplot(1, 2, 1)\n",
    "plt.plot([log.num_trees for log in logs], [log.evaluation.ndcg for log in logs])\n",
    "plt.xlabel(\"Number of trees\")\n",
    "plt.ylabel(\"NDCG (validation)\")\n",
    "\n",
    "plt.subplot(1, 2, 2)\n",
    "plt.plot([log.num_trees for log in logs], [log.evaluation.loss for log in logs])\n",
    "plt.xlabel(\"Number of trees\")\n",
    "plt.ylabel(\"Loss (validation)\")\n",
    "\n",
    "plt.show()"
   ]
  },
  {
   "cell_type": "markdown",
   "metadata": {
    "id": "eq1E_26Y8rtQ"
   },
   "source": [
    "As for all TF-DF models, you can also look at the model report (Note: The model report also contains the training logs):"
   ]
  },
  {
   "cell_type": "code",
   "execution_count": 13,
   "metadata": {
    "execution": {
     "iopub.execute_input": "2024-01-31T12:09:57.101073Z",
     "iopub.status.busy": "2024-01-31T12:09:57.100364Z",
     "iopub.status.idle": "2024-01-31T12:09:57.111091Z",
     "shell.execute_reply": "2024-01-31T12:09:57.110465Z"
    },
    "id": "L4N1R8fM4jFh"
   },
   "outputs": [
    {
     "data": {
      "application/javascript": [
       "google.colab.output.setIframeHeight(0, true, {maxHeight: 400})"
      ],
      "text/plain": [
       "<IPython.core.display.Javascript object>"
      ]
     },
     "metadata": {},
     "output_type": "display_data"
    },
    {
     "name": "stdout",
     "output_type": "stream",
     "text": [
      "Model: \"gradient_boosted_trees_model\"\n"
     ]
    },
    {
     "name": "stdout",
     "output_type": "stream",
     "text": [
      "_________________________________________________________________\n"
     ]
    },
    {
     "name": "stdout",
     "output_type": "stream",
     "text": [
      " Layer (type)                Output Shape              Param #   \n"
     ]
    },
    {
     "name": "stdout",
     "output_type": "stream",
     "text": [
      "=================================================================\n"
     ]
    },
    {
     "name": "stdout",
     "output_type": "stream",
     "text": [
      "=================================================================\n"
     ]
    },
    {
     "name": "stdout",
     "output_type": "stream",
     "text": [
      "Total params: 1 (1.00 Byte)\n"
     ]
    },
    {
     "name": "stdout",
     "output_type": "stream",
     "text": [
      "Trainable params: 0 (0.00 Byte)\n"
     ]
    },
    {
     "name": "stdout",
     "output_type": "stream",
     "text": [
      "Non-trainable params: 1 (1.00 Byte)\n"
     ]
    },
    {
     "name": "stdout",
     "output_type": "stream",
     "text": [
      "_________________________________________________________________\n"
     ]
    },
    {
     "name": "stdout",
     "output_type": "stream",
     "text": [
      "Type: \"GRADIENT_BOOSTED_TREES\"\n",
      "Task: RANKING\n",
      "Label: \"__LABEL\"\n",
      "Rank group: \"group\"\n",
      "\n",
      "Input Features (25):\n",
      "\tf_1\n",
      "\tf_10\n",
      "\tf_11\n",
      "\tf_12\n",
      "\tf_13\n",
      "\tf_14\n",
      "\tf_15\n",
      "\tf_16\n",
      "\tf_17\n",
      "\tf_18\n",
      "\tf_19\n",
      "\tf_2\n",
      "\tf_20\n",
      "\tf_21\n",
      "\tf_22\n",
      "\tf_23\n",
      "\tf_24\n",
      "\tf_25\n",
      "\tf_3\n",
      "\tf_4\n",
      "\tf_5\n",
      "\tf_6\n",
      "\tf_7\n",
      "\tf_8\n",
      "\tf_9\n",
      "\n",
      "No weights\n",
      "\n",
      "Variable Importance: INV_MEAN_MIN_DEPTH:\n",
      "    1.  \"f_9\"  0.326164 ################\n",
      "    2.  \"f_3\"  0.318071 ###############\n",
      "    3.  \"f_8\"  0.308922 #############\n",
      "    4.  \"f_4\"  0.271175 #########\n",
      "    5. \"f_19\"  0.221570 ###\n",
      "    6. \"f_10\"  0.215666 ##\n",
      "    7. \"f_11\"  0.206509 #\n",
      "    8. \"f_22\"  0.204742 #\n",
      "    9. \"f_25\"  0.204497 #\n",
      "   10. \"f_23\"  0.203238 \n",
      "   11. \"f_21\"  0.200830 \n",
      "   12. \"f_24\"  0.200445 \n",
      "   13. \"f_12\"  0.198840 \n",
      "   14. \"f_18\"  0.197676 \n",
      "   15. \"f_20\"  0.196634 \n",
      "   16.  \"f_6\"  0.196085 \n",
      "   17. \"f_16\"  0.196061 \n",
      "   18.  \"f_2\"  0.195683 \n",
      "   19.  \"f_5\"  0.195683 \n",
      "   20. \"f_13\"  0.195559 \n",
      "   21. \"f_17\"  0.195559 \n",
      "\n",
      "Variable Importance: NUM_AS_ROOT:\n",
      "    1. \"f_3\"  4.000000 ################\n",
      "    2. \"f_4\"  4.000000 ################\n",
      "    3. \"f_8\"  3.000000 ##########\n",
      "    4. \"f_9\"  1.000000 \n",
      "\n",
      "Variable Importance: NUM_NODES:\n",
      "    1.  \"f_8\" 25.000000 ################\n",
      "    2. \"f_19\" 18.000000 ###########\n",
      "    3. \"f_10\" 15.000000 #########\n",
      "    4.  \"f_9\" 14.000000 ########\n",
      "    5.  \"f_3\" 13.000000 ########\n",
      "    6. \"f_23\"  7.000000 ####\n",
      "    7. \"f_24\"  6.000000 ###\n",
      "    8. \"f_11\"  5.000000 ##\n",
      "    9. \"f_21\"  5.000000 ##\n",
      "   10. \"f_25\"  5.000000 ##\n",
      "   11.  \"f_4\"  5.000000 ##\n",
      "   12. \"f_22\"  4.000000 ##\n",
      "   13. \"f_12\"  3.000000 #\n",
      "   14. \"f_20\"  3.000000 #\n",
      "   15. \"f_16\"  2.000000 \n",
      "   16.  \"f_6\"  2.000000 \n",
      "   17. \"f_13\"  1.000000 \n",
      "   18. \"f_17\"  1.000000 \n",
      "   19. \"f_18\"  1.000000 \n",
      "   20.  \"f_2\"  1.000000 \n",
      "   21.  \"f_5\"  1.000000 \n",
      "\n",
      "Variable Importance: SUM_SCORE:\n",
      "    1.  \"f_8\" 10779.340861 ################\n",
      "    2.  \"f_9\" 8831.772410 #############\n",
      "    3.  \"f_3\" 4526.101184 ######\n",
      "    4.  \"f_4\" 4360.245403 ######\n",
      "    5. \"f_19\" 2325.288894 ###\n",
      "    6. \"f_10\" 1881.848369 ##\n",
      "    7. \"f_21\" 1674.980191 ##\n",
      "    8. \"f_11\" 1127.632256 #\n",
      "    9. \"f_23\" 1021.834252 #\n",
      "   10. \"f_24\" 914.851512 #\n",
      "   11. \"f_22\" 885.619576 #\n",
      "   12. \"f_25\" 748.665007 #\n",
      "   13. \"f_20\" 310.610858 \n",
      "   14. \"f_16\" 298.972842 \n",
      "   15.  \"f_6\" 212.376573 \n",
      "   16. \"f_12\" 130.725240 \n",
      "   17.  \"f_2\" 112.124991 \n",
      "   18. \"f_18\" 86.341193 \n",
      "   19.  \"f_5\" 65.103908 \n",
      "   20. \"f_13\" 57.966947 \n",
      "   21. \"f_17\" 21.930388 \n",
      "\n",
      "\n",
      "\n",
      "Loss: LAMBDA_MART_NDCG5\n",
      "Validation loss value: -0.438692\n",
      "Number of trees per iteration: 1\n",
      "Node format: NOT_SET\n",
      "Number of trees: 12\n",
      "Total number of nodes: 286\n",
      "\n",
      "Number of nodes by tree:\n",
      "Count: 12 Average: 23.8333 StdDev: 3.50793\n",
      "Min: 17 Max: 29 Ignored: 0\n",
      "----------------------------------------------\n",
      "[ 17, 18) 1   8.33%   8.33% ###\n",
      "[ 18, 19) 0   0.00%   8.33%\n",
      "[ 19, 20) 1   8.33%  16.67% ###\n",
      "[ 20, 21) 0   0.00%  16.67%\n",
      "[ 21, 22) 2  16.67%  33.33% #######\n",
      "[ 22, 23) 0   0.00%  33.33%\n",
      "[ 23, 24) 1   8.33%  41.67% ###\n",
      "[ 24, 25) 0   0.00%  41.67%\n",
      "[ 25, 26) 3  25.00%  66.67% ##########\n",
      "[ 26, 27) 0   0.00%  66.67%\n",
      "[ 27, 28) 3  25.00%  91.67% ##########\n",
      "[ 28, 29) 0   0.00%  91.67%\n",
      "[ 29, 29] 1   8.33% 100.00% ###\n",
      "\n",
      "Depth by leafs:\n",
      "Count: 149 Average: 4.14094 StdDev: 1.08696\n",
      "Min: 1 Max: 5 Ignored: 0\n",
      "----------------------------------------------\n",
      "[ 1, 2)  2   1.34%   1.34%\n",
      "[ 2, 3) 18  12.08%  13.42% ##\n",
      "[ 3, 4) 13   8.72%  22.15% ##\n",
      "[ 4, 5) 40  26.85%  48.99% #####\n",
      "[ 5, 5] 76  51.01% 100.00% ##########\n",
      "\n",
      "Number of training obs by leaf:\n",
      "Count: 149 Average: 673.691 StdDev: 2015.44\n",
      "Min: 5 Max: 8211 Ignored: 0\n",
      "----------------------------------------------\n",
      "[    5,  415) 127  85.23%  85.23% ##########\n",
      "[  415,  825)   6   4.03%  89.26%\n",
      "[  825, 1236)   2   1.34%  90.60%\n",
      "[ 1236, 1646)   0   0.00%  90.60%\n",
      "[ 1646, 2056)   0   0.00%  90.60%\n",
      "[ 2056, 2467)   1   0.67%  91.28%\n",
      "[ 2467, 2877)   0   0.00%  91.28%\n",
      "[ 2877, 3287)   0   0.00%  91.28%\n",
      "[ 3287, 3698)   1   0.67%  91.95%\n",
      "[ 3698, 4108)   0   0.00%  91.95%\n",
      "[ 4108, 4518)   0   0.00%  91.95%\n",
      "[ 4518, 4929)   1   0.67%  92.62%\n",
      "[ 4929, 5339)   0   0.00%  92.62%\n",
      "[ 5339, 5749)   0   0.00%  92.62%\n",
      "[ 5749, 6160)   1   0.67%  93.29%\n",
      "[ 6160, 6570)   0   0.00%  93.29%\n",
      "[ 6570, 6980)   0   0.00%  93.29%\n",
      "[ 6980, 7391)   0   0.00%  93.29%\n",
      "[ 7391, 7801)   8   5.37%  98.66% #\n",
      "[ 7801, 8211]   2   1.34% 100.00%\n",
      "\n",
      "Attribute in nodes:\n",
      "\t25 : f_8 [NUMERICAL]\n",
      "\t18 : f_19 [NUMERICAL]\n",
      "\t15 : f_10 [NUMERICAL]\n",
      "\t14 : f_9 [NUMERICAL]\n",
      "\t13 : f_3 [NUMERICAL]\n",
      "\t7 : f_23 [NUMERICAL]\n",
      "\t6 : f_24 [NUMERICAL]\n",
      "\t5 : f_4 [NUMERICAL]\n",
      "\t5 : f_25 [NUMERICAL]\n",
      "\t5 : f_21 [NUMERICAL]\n",
      "\t5 : f_11 [NUMERICAL]\n",
      "\t4 : f_22 [NUMERICAL]\n",
      "\t3 : f_20 [NUMERICAL]\n",
      "\t3 : f_12 [NUMERICAL]\n",
      "\t2 : f_6 [NUMERICAL]\n",
      "\t2 : f_16 [NUMERICAL]\n",
      "\t1 : f_5 [NUMERICAL]\n",
      "\t1 : f_2 [NUMERICAL]\n",
      "\t1 : f_18 [NUMERICAL]\n",
      "\t1 : f_17 [NUMERICAL]\n",
      "\t1 : f_13 [NUMERICAL]\n",
      "\n",
      "Attribute in nodes with depth <= 0:\n",
      "\t4 : f_4 [NUMERICAL]\n",
      "\t4 : f_3 [NUMERICAL]\n",
      "\t3 : f_8 [NUMERICAL]\n",
      "\t1 : f_9 [NUMERICAL]\n",
      "\n",
      "Attribute in nodes with depth <= 1:\n",
      "\t11 : f_9 [NUMERICAL]\n",
      "\t9 : f_8 [NUMERICAL]\n",
      "\t4 : f_4 [NUMERICAL]\n",
      "\t4 : f_3 [NUMERICAL]\n",
      "\t1 : f_25 [NUMERICAL]\n",
      "\t1 : f_24 [NUMERICAL]\n",
      "\t1 : f_23 [NUMERICAL]\n",
      "\t1 : f_22 [NUMERICAL]\n",
      "\t1 : f_19 [NUMERICAL]\n",
      "\t1 : f_11 [NUMERICAL]\n",
      "\n",
      "Attribute in nodes with depth <= 2:\n",
      "\t15 : f_8 [NUMERICAL]\n",
      "\t12 : f_9 [NUMERICAL]\n",
      "\t11 : f_3 [NUMERICAL]\n",
      "\t6 : f_19 [NUMERICAL]\n",
      "\t5 : f_4 [NUMERICAL]\n",
      "\t2 : f_25 [NUMERICAL]\n",
      "\t2 : f_11 [NUMERICAL]\n",
      "\t2 : f_10 [NUMERICAL]\n",
      "\t1 : f_24 [NUMERICAL]\n",
      "\t1 : f_23 [NUMERICAL]\n",
      "\t1 : f_22 [NUMERICAL]\n",
      "\t1 : f_18 [NUMERICAL]\n",
      "\t1 : f_17 [NUMERICAL]\n",
      "\n",
      "Attribute in nodes with depth <= 3:\n",
      "\t22 : f_8 [NUMERICAL]\n",
      "\t13 : f_9 [NUMERICAL]\n",
      "\t11 : f_3 [NUMERICAL]\n",
      "\t10 : f_19 [NUMERICAL]\n",
      "\t9 : f_10 [NUMERICAL]\n",
      "\t5 : f_4 [NUMERICAL]\n",
      "\t5 : f_23 [NUMERICAL]\n",
      "\t5 : f_11 [NUMERICAL]\n",
      "\t4 : f_25 [NUMERICAL]\n",
      "\t4 : f_22 [NUMERICAL]\n",
      "\t4 : f_21 [NUMERICAL]\n",
      "\t3 : f_24 [NUMERICAL]\n",
      "\t2 : f_12 [NUMERICAL]\n",
      "\t1 : f_18 [NUMERICAL]\n",
      "\t1 : f_17 [NUMERICAL]\n",
      "\n",
      "Attribute in nodes with depth <= 5:\n",
      "\t25 : f_8 [NUMERICAL]\n",
      "\t18 : f_19 [NUMERICAL]\n",
      "\t15 : f_10 [NUMERICAL]\n",
      "\t14 : f_9 [NUMERICAL]\n",
      "\t13 : f_3 [NUMERICAL]\n",
      "\t7 : f_23 [NUMERICAL]\n",
      "\t6 : f_24 [NUMERICAL]\n",
      "\t5 : f_4 [NUMERICAL]\n",
      "\t5 : f_25 [NUMERICAL]\n",
      "\t5 : f_21 [NUMERICAL]\n",
      "\t5 : f_11 [NUMERICAL]\n",
      "\t4 : f_22 [NUMERICAL]\n",
      "\t3 : f_20 [NUMERICAL]\n",
      "\t3 : f_12 [NUMERICAL]\n",
      "\t2 : f_6 [NUMERICAL]\n",
      "\t2 : f_16 [NUMERICAL]\n",
      "\t1 : f_5 [NUMERICAL]\n",
      "\t1 : f_2 [NUMERICAL]\n",
      "\t1 : f_18 [NUMERICAL]\n",
      "\t1 : f_17 [NUMERICAL]\n",
      "\t1 : f_13 [NUMERICAL]\n",
      "\n",
      "Condition type in nodes:\n",
      "\t137 : HigherCondition\n",
      "Condition type in nodes with depth <= 0:\n",
      "\t12 : HigherCondition\n",
      "Condition type in nodes with depth <= 1:\n",
      "\t34 : HigherCondition\n",
      "Condition type in nodes with depth <= 2:\n",
      "\t60 : HigherCondition\n",
      "Condition type in nodes with depth <= 3:\n",
      "\t99 : HigherCondition\n",
      "Condition type in nodes with depth <= 5:\n",
      "\t137 : HigherCondition\n",
      "\n",
      "Training logs:\n",
      "Number of iteration to final model: 12\n",
      "\tIter:1 train-loss:-0.346669 valid-loss:-0.262935  train-NDCG@5:0.346669 valid-NDCG@5:0.262935\n",
      "\tIter:2 train-loss:-0.412635 valid-loss:-0.335301  train-NDCG@5:0.412635 valid-NDCG@5:0.335301\n",
      "\tIter:3 train-loss:-0.468270 valid-loss:-0.341295  train-NDCG@5:0.468270 valid-NDCG@5:0.341295\n",
      "\tIter:4 train-loss:-0.481511 valid-loss:-0.301897  train-NDCG@5:0.481511 valid-NDCG@5:0.301897\n",
      "\tIter:5 train-loss:-0.473165 valid-loss:-0.394670  train-NDCG@5:0.473165 valid-NDCG@5:0.394670\n",
      "\tIter:6 train-loss:-0.496260 valid-loss:-0.415201  train-NDCG@5:0.496260 valid-NDCG@5:0.415201\n",
      "\tIter:16 train-loss:-0.526791 valid-loss:-0.380900  train-NDCG@5:0.526791 valid-NDCG@5:0.380900\n",
      "\tIter:26 train-loss:-0.560398 valid-loss:-0.367496  train-NDCG@5:0.560398 valid-NDCG@5:0.367496\n",
      "\tIter:36 train-loss:-0.584252 valid-loss:-0.341845  train-NDCG@5:0.584252 valid-NDCG@5:0.341845\n",
      "\n"
     ]
    }
   ],
   "source": [
    "%set_cell_height 400\n",
    "model.summary()"
   ]
  },
  {
   "cell_type": "markdown",
   "metadata": {
    "id": "gCWwJwkw9aHB"
   },
   "source": [
    "And if you are curious, you can also plot the model:"
   ]
  },
  {
   "cell_type": "code",
   "execution_count": 14,
   "metadata": {
    "execution": {
     "iopub.execute_input": "2024-01-31T12:09:57.116208Z",
     "iopub.status.busy": "2024-01-31T12:09:57.115680Z",
     "iopub.status.idle": "2024-01-31T12:09:57.122439Z",
     "shell.execute_reply": "2024-01-31T12:09:57.121889Z"
    },
    "id": "8wdUhz9X9cbI"
   },
   "outputs": [
    {
     "data": {
      "text/html": [
       "\n",
       "<script src=\"https://d3js.org/d3.v6.min.js\"></script>\n",
       "<div id=\"tree_plot_8a9a772cdd9c484ba25e51b67d8175f7\"></div>\n",
       "<script>\n",
       "/*\n",
       " * Copyright 2021 Google LLC.\n",
       " * Licensed under the Apache License, Version 2.0 (the \"License\");\n",
       " * you may not use this file except in compliance with the License.\n",
       " * You may obtain a copy of the License at\n",
       " *\n",
       " *     https://www.apache.org/licenses/LICENSE-2.0\n",
       " *\n",
       " * Unless required by applicable law or agreed to in writing, software\n",
       " * distributed under the License is distributed on an \"AS IS\" BASIS,\n",
       " * WITHOUT WARRANTIES OR CONDITIONS OF ANY KIND, either express or implied.\n",
       " * See the License for the specific language governing permissions and\n",
       " * limitations under the License.\n",
       " */\n",
       "\n",
       "/**\n",
       " *  Plotting of decision trees generated by TF-DF.\n",
       " *\n",
       " *  A tree is a recursive structure of node objects.\n",
       " *  A node contains one or more of the following components:\n",
       " *\n",
       " *    - A value: Representing the output of the node. If the node is not a leaf,\n",
       " *      the value is only present for analysis i.e. it is not used for\n",
       " *      predictions.\n",
       " *\n",
       " *    - A condition : For non-leaf nodes, the condition (also known as split)\n",
       " *      defines a binary test to branch to the positive or negative child.\n",
       " *\n",
       " *    - An explanation: Generally a plot showing the relation between the label\n",
       " *      and the condition to give insights about the effect of the condition.\n",
       " *\n",
       " *    - Two children : For non-leaf nodes, the children nodes. The first\n",
       " *      children (i.e. \"node.children[0]\") is the negative children (drawn in\n",
       " *      red). The second children is the positive one (drawn in green).\n",
       " *\n",
       " */\n",
       "\n",
       "/**\n",
       " * Plots a single decision tree into a DOM element.\n",
       " * @param {!options} options Dictionary of configurations.\n",
       " * @param {!tree} raw_tree Recursive tree structure.\n",
       " * @param {string} canvas_id Id of the output dom element.\n",
       " */\n",
       "function display_tree(options, raw_tree, canvas_id) {\n",
       "  console.log(options);\n",
       "\n",
       "  // Determine the node placement.\n",
       "  const tree_struct = d3.tree().nodeSize(\n",
       "      [options.node_y_offset, options.node_x_offset])(d3.hierarchy(raw_tree));\n",
       "\n",
       "  // Boundaries of the node placement.\n",
       "  let x_min = Infinity;\n",
       "  let x_max = -x_min;\n",
       "  let y_min = Infinity;\n",
       "  let y_max = -x_min;\n",
       "\n",
       "  tree_struct.each(d => {\n",
       "    if (d.x > x_max) x_max = d.x;\n",
       "    if (d.x < x_min) x_min = d.x;\n",
       "    if (d.y > y_max) y_max = d.y;\n",
       "    if (d.y < y_min) y_min = d.y;\n",
       "  });\n",
       "\n",
       "  // Size of the plot.\n",
       "  const width = y_max - y_min + options.node_x_size + options.margin * 2;\n",
       "  const height = x_max - x_min + options.node_y_size + options.margin * 2 +\n",
       "      options.node_y_offset - options.node_y_size;\n",
       "\n",
       "  const plot = d3.select(canvas_id);\n",
       "\n",
       "  // Tool tip\n",
       "  options.tooltip = plot.append('div')\n",
       "                        .attr('width', 100)\n",
       "                        .attr('height', 100)\n",
       "                        .style('padding', '4px')\n",
       "                        .style('background', '#fff')\n",
       "                        .style('box-shadow', '4px 4px 0px rgba(0,0,0,0.1)')\n",
       "                        .style('border', '1px solid black')\n",
       "                        .style('font-family', 'sans-serif')\n",
       "                        .style('font-size', options.font_size)\n",
       "                        .style('position', 'absolute')\n",
       "                        .style('z-index', '10')\n",
       "                        .attr('pointer-events', 'none')\n",
       "                        .style('display', 'none');\n",
       "\n",
       "  // Create canvas\n",
       "  const svg = plot.append('svg').attr('width', width).attr('height', height);\n",
       "  const graph =\n",
       "      svg.style('overflow', 'visible')\n",
       "          .append('g')\n",
       "          .attr('font-family', 'sans-serif')\n",
       "          .attr('font-size', options.font_size)\n",
       "          .attr(\n",
       "              'transform',\n",
       "              () => `translate(${options.margin},${\n",
       "                  - x_min + options.node_y_offset / 2 + options.margin})`);\n",
       "\n",
       "  // Plot bounding box.\n",
       "  if (options.show_plot_bounding_box) {\n",
       "    svg.append('rect')\n",
       "        .attr('width', width)\n",
       "        .attr('height', height)\n",
       "        .attr('fill', 'none')\n",
       "        .attr('stroke-width', 1.0)\n",
       "        .attr('stroke', 'black');\n",
       "  }\n",
       "\n",
       "  // Draw the edges.\n",
       "  display_edges(options, graph, tree_struct);\n",
       "\n",
       "  // Draw the nodes.\n",
       "  display_nodes(options, graph, tree_struct);\n",
       "}\n",
       "\n",
       "/**\n",
       " * Draw the nodes of the tree.\n",
       " * @param {!options} options Dictionary of configurations.\n",
       " * @param {!graph} graph D3 search handle containing the graph.\n",
       " * @param {!tree_struct} tree_struct Structure of the tree (node placement,\n",
       " *     data, etc.).\n",
       " */\n",
       "function display_nodes(options, graph, tree_struct) {\n",
       "  const nodes = graph.append('g')\n",
       "                    .selectAll('g')\n",
       "                    .data(tree_struct.descendants())\n",
       "                    .join('g')\n",
       "                    .attr('transform', d => `translate(${d.y},${d.x})`);\n",
       "\n",
       "  nodes.append('rect')\n",
       "      .attr('x', 0.5)\n",
       "      .attr('y', 0.5)\n",
       "      .attr('width', options.node_x_size)\n",
       "      .attr('height', options.node_y_size)\n",
       "      .attr('stroke', 'lightgrey')\n",
       "      .attr('stroke-width', 1)\n",
       "      .attr('fill', 'white')\n",
       "      .attr('y', -options.node_y_size / 2);\n",
       "\n",
       "  // Brackets on the right of condition nodes without children.\n",
       "  non_leaf_node_without_children =\n",
       "      nodes.filter(node => node.data.condition != null && node.children == null)\n",
       "          .append('g')\n",
       "          .attr('transform', `translate(${options.node_x_size},0)`);\n",
       "\n",
       "  non_leaf_node_without_children.append('path')\n",
       "      .attr('d', 'M0,0 C 10,0 0,10 10,10')\n",
       "      .attr('fill', 'none')\n",
       "      .attr('stroke-width', 1.0)\n",
       "      .attr('stroke', '#F00');\n",
       "\n",
       "  non_leaf_node_without_children.append('path')\n",
       "      .attr('d', 'M0,0 C 10,0 0,-10 10,-10')\n",
       "      .attr('fill', 'none')\n",
       "      .attr('stroke-width', 1.0)\n",
       "      .attr('stroke', '#0F0');\n",
       "\n",
       "  const node_content = nodes.append('g').attr(\n",
       "      'transform',\n",
       "      `translate(0,${options.node_padding - options.node_y_size / 2})`);\n",
       "\n",
       "  node_content.append(node => create_node_element(options, node));\n",
       "}\n",
       "\n",
       "/**\n",
       " * Creates the D3 content for a single node.\n",
       " * @param {!options} options Dictionary of configurations.\n",
       " * @param {!node} node Node to draw.\n",
       " * @return {!d3} D3 content.\n",
       " */\n",
       "function create_node_element(options, node) {\n",
       "  // Output accumulator.\n",
       "  let output = {\n",
       "    // Content to draw.\n",
       "    content: d3.create('svg:g'),\n",
       "    // Vertical offset to the next element to draw.\n",
       "    vertical_offset: 0\n",
       "  };\n",
       "\n",
       "  // Conditions.\n",
       "  if (node.data.condition != null) {\n",
       "    display_condition(options, node.data.condition, output);\n",
       "  }\n",
       "\n",
       "  // Values.\n",
       "  if (node.data.value != null) {\n",
       "    display_value(options, node.data.value, output);\n",
       "  }\n",
       "\n",
       "  // Explanations.\n",
       "  if (node.data.explanation != null) {\n",
       "    display_explanation(options, node.data.explanation, output);\n",
       "  }\n",
       "\n",
       "  return output.content.node();\n",
       "}\n",
       "\n",
       "\n",
       "/**\n",
       " * Adds a single line of text inside of a node.\n",
       " * @param {!options} options Dictionary of configurations.\n",
       " * @param {string} text Text to display.\n",
       " * @param {!output} output Output display accumulator.\n",
       " */\n",
       "function display_node_text(options, text, output) {\n",
       "  output.content.append('text')\n",
       "      .attr('x', options.node_padding)\n",
       "      .attr('y', output.vertical_offset)\n",
       "      .attr('alignment-baseline', 'hanging')\n",
       "      .text(text);\n",
       "  output.vertical_offset += 10;\n",
       "}\n",
       "\n",
       "/**\n",
       " * Adds a single line of text inside of a node with a tooltip.\n",
       " * @param {!options} options Dictionary of configurations.\n",
       " * @param {string} text Text to display.\n",
       " * @param {string} tooltip Text in the Tooltip.\n",
       " * @param {!output} output Output display accumulator.\n",
       " */\n",
       "function display_node_text_with_tooltip(options, text, tooltip, output) {\n",
       "  const item = output.content.append('text')\n",
       "                   .attr('x', options.node_padding)\n",
       "                   .attr('alignment-baseline', 'hanging')\n",
       "                   .text(text);\n",
       "\n",
       "  add_tooltip(options, item, () => tooltip);\n",
       "  output.vertical_offset += 10;\n",
       "}\n",
       "\n",
       "/**\n",
       " * Adds a tooltip to a dom element.\n",
       " * @param {!options} options Dictionary of configurations.\n",
       " * @param {!dom} target Dom element to equip with a tooltip.\n",
       " * @param {!func} get_content Generates the html content of the tooltip.\n",
       " */\n",
       "function add_tooltip(options, target, get_content) {\n",
       "  function show(d) {\n",
       "    options.tooltip.style('display', 'block');\n",
       "    options.tooltip.html(get_content());\n",
       "  }\n",
       "\n",
       "  function hide(d) {\n",
       "    options.tooltip.style('display', 'none');\n",
       "  }\n",
       "\n",
       "  function move(d) {\n",
       "    options.tooltip.style('display', 'block');\n",
       "    options.tooltip.style('left', (d.pageX + 5) + 'px');\n",
       "    options.tooltip.style('top', d.pageY + 'px');\n",
       "  }\n",
       "\n",
       "  target.on('mouseover', show);\n",
       "  target.on('mouseout', hide);\n",
       "  target.on('mousemove', move);\n",
       "}\n",
       "\n",
       "/**\n",
       " * Adds a condition inside of a node.\n",
       " * @param {!options} options Dictionary of configurations.\n",
       " * @param {!condition} condition Condition to display.\n",
       " * @param {!output} output Output display accumulator.\n",
       " */\n",
       "function display_condition(options, condition, output) {\n",
       "  threshold_format = d3.format('r');\n",
       "\n",
       "  if (condition.type === 'IS_MISSING') {\n",
       "    display_node_text(options, `${condition.attribute} is missing`, output);\n",
       "    return;\n",
       "  }\n",
       "\n",
       "  if (condition.type === 'IS_TRUE') {\n",
       "    display_node_text(options, `${condition.attribute} is true`, output);\n",
       "    return;\n",
       "  }\n",
       "\n",
       "  if (condition.type === 'NUMERICAL_IS_HIGHER_THAN') {\n",
       "    format = d3.format('r');\n",
       "    display_node_text(\n",
       "        options,\n",
       "        `${condition.attribute} >= ${threshold_format(condition.threshold)}`,\n",
       "        output);\n",
       "    return;\n",
       "  }\n",
       "\n",
       "  if (condition.type === 'CATEGORICAL_IS_IN') {\n",
       "    display_node_text_with_tooltip(\n",
       "        options, `${condition.attribute} in [...]`,\n",
       "        `${condition.attribute} in [${condition.mask}]`, output);\n",
       "    return;\n",
       "  }\n",
       "\n",
       "  if (condition.type === 'CATEGORICAL_SET_CONTAINS') {\n",
       "    display_node_text_with_tooltip(\n",
       "        options, `${condition.attribute} intersect [...]`,\n",
       "        `${condition.attribute} intersect [${condition.mask}]`, output);\n",
       "    return;\n",
       "  }\n",
       "\n",
       "  if (condition.type === 'NUMERICAL_SPARSE_OBLIQUE') {\n",
       "    display_node_text_with_tooltip(\n",
       "        options, `Sparse oblique split...`,\n",
       "        `[${condition.attributes}]*[${condition.weights}]>=${\n",
       "            threshold_format(condition.threshold)}`,\n",
       "        output);\n",
       "    return;\n",
       "  }\n",
       "\n",
       "  display_node_text(\n",
       "      options, `Non supported condition ${condition.type}`, output);\n",
       "}\n",
       "\n",
       "/**\n",
       " * Adds a value inside of a node.\n",
       " * @param {!options} options Dictionary of configurations.\n",
       " * @param {!value} value Value to display.\n",
       " * @param {!output} output Output display accumulator.\n",
       " */\n",
       "function display_value(options, value, output) {\n",
       "  if (value.type === 'PROBABILITY') {\n",
       "    const left_margin = 0;\n",
       "    const right_margin = 50;\n",
       "    const plot_width = options.node_x_size - options.node_padding * 2 -\n",
       "        left_margin - right_margin;\n",
       "\n",
       "    let cusum = Array.from(d3.cumsum(value.distribution));\n",
       "    cusum.unshift(0);\n",
       "    const distribution_plot = output.content.append('g').attr(\n",
       "        'transform', `translate(0,${output.vertical_offset + 0.5})`);\n",
       "\n",
       "    distribution_plot.selectAll('rect')\n",
       "        .data(value.distribution)\n",
       "        .join('rect')\n",
       "        .attr('height', 10)\n",
       "        .attr(\n",
       "            'x',\n",
       "            (d, i) =>\n",
       "                (cusum[i] * plot_width + left_margin + options.node_padding))\n",
       "        .attr('width', (d, i) => d * plot_width)\n",
       "        .style('fill', (d, i) => d3.schemeSet1[i]);\n",
       "\n",
       "    const num_examples =\n",
       "        output.content.append('g')\n",
       "            .attr('transform', `translate(0,${output.vertical_offset})`)\n",
       "            .append('text')\n",
       "            .attr('x', options.node_x_size - options.node_padding)\n",
       "            .attr('alignment-baseline', 'hanging')\n",
       "            .attr('text-anchor', 'end')\n",
       "            .text(`(${value.num_examples})`);\n",
       "\n",
       "    const distribution_details = d3.create('ul');\n",
       "    distribution_details.selectAll('li')\n",
       "        .data(value.distribution)\n",
       "        .join('li')\n",
       "        .append('span')\n",
       "        .text(\n",
       "            (d, i) =>\n",
       "                'class ' + i + ': ' + d3.format('.3%')(value.distribution[i]));\n",
       "\n",
       "    add_tooltip(options, distribution_plot, () => distribution_details.html());\n",
       "    add_tooltip(options, num_examples, () => 'Number of examples');\n",
       "\n",
       "    output.vertical_offset += 10;\n",
       "    return;\n",
       "  }\n",
       "\n",
       "  if (value.type === 'REGRESSION') {\n",
       "    display_node_text(\n",
       "        options,\n",
       "        'value: ' + d3.format('r')(value.value) + ` (` +\n",
       "            d3.format('.6')(value.num_examples) + `)`,\n",
       "        output);\n",
       "    return;\n",
       "  }\n",
       "\n",
       "  if (value.type === 'UPLIFT') {\n",
       "    display_node_text(\n",
       "        options,\n",
       "        'effect: ' + d3.format('r')(value.treatment_effect) + ` (` +\n",
       "            d3.format('.6')(value.num_examples) + `)`,\n",
       "        output);\n",
       "    return;\n",
       "  }\n",
       "\n",
       "  display_node_text(options, `Non supported value ${value.type}`, output);\n",
       "}\n",
       "\n",
       "/**\n",
       " * Adds an explanation inside of a node.\n",
       " * @param {!options} options Dictionary of configurations.\n",
       " * @param {!explanation} explanation Explanation to display.\n",
       " * @param {!output} output Output display accumulator.\n",
       " */\n",
       "function display_explanation(options, explanation, output) {\n",
       "  // Margin before the explanation.\n",
       "  output.vertical_offset += 10;\n",
       "\n",
       "  display_node_text(\n",
       "      options, `Non supported explanation ${explanation.type}`, output);\n",
       "}\n",
       "\n",
       "\n",
       "/**\n",
       " * Draw the edges of the tree.\n",
       " * @param {!options} options Dictionary of configurations.\n",
       " * @param {!graph} graph D3 search handle containing the graph.\n",
       " * @param {!tree_struct} tree_struct Structure of the tree (node placement,\n",
       " *     data, etc.).\n",
       " */\n",
       "function display_edges(options, graph, tree_struct) {\n",
       "  // Draw an edge between a parent and a child node with a bezier.\n",
       "  function draw_single_edge(d) {\n",
       "    return 'M' + (d.source.y + options.node_x_size) + ',' + d.source.x + ' C' +\n",
       "        (d.source.y + options.node_x_size + options.edge_rounding) + ',' +\n",
       "        d.source.x + ' ' + (d.target.y - options.edge_rounding) + ',' +\n",
       "        d.target.x + ' ' + d.target.y + ',' + d.target.x;\n",
       "  }\n",
       "\n",
       "  graph.append('g')\n",
       "      .attr('fill', 'none')\n",
       "      .attr('stroke-width', 1.2)\n",
       "      .selectAll('path')\n",
       "      .data(tree_struct.links())\n",
       "      .join('path')\n",
       "      .attr('d', draw_single_edge)\n",
       "      .attr(\n",
       "          'stroke', d => (d.target === d.source.children[0]) ? '#0F0' : '#F00');\n",
       "}\n",
       "\n",
       "display_tree({\"margin\": 10, \"node_x_size\": 160, \"node_y_size\": 28, \"node_x_offset\": 180, \"node_y_offset\": 33, \"font_size\": 10, \"edge_rounding\": 20, \"node_padding\": 2, \"show_plot_bounding_box\": false}, {\"value\": {\"type\": \"REGRESSION\", \"value\": 1.1403852084868049e-08, \"num_examples\": 8365.0, \"standard_deviation\": 1.0916302004218401}, \"condition\": {\"type\": \"NUMERICAL_IS_HIGHER_THAN\", \"attribute\": \"f_8\", \"threshold\": 3.4935169219970703}, \"children\": [{\"value\": {\"type\": \"REGRESSION\", \"value\": 0.20000000298023224, \"num_examples\": 5.0, \"standard_deviation\": 10.890856193034367}}, {\"value\": {\"type\": \"REGRESSION\", \"value\": -0.0024064122699201107, \"num_examples\": 8360.0, \"standard_deviation\": 1.050017420353196}, \"condition\": {\"type\": \"NUMERICAL_IS_HIGHER_THAN\", \"attribute\": \"f_8\", \"threshold\": 2.7679028511047363}, \"children\": [{\"value\": {\"type\": \"REGRESSION\", \"value\": 0.189948171377182, \"num_examples\": 23.0, \"standard_deviation\": 4.192734995883616}, \"condition\": {\"type\": \"NUMERICAL_IS_HIGHER_THAN\", \"attribute\": \"f_25\", \"threshold\": -4.108095169067383}, \"children\": [{\"value\": {\"type\": \"REGRESSION\", \"value\": 0.156146839261055, \"num_examples\": 18.0, \"standard_deviation\": 0.25010476915884056}, \"condition\": {\"type\": \"NUMERICAL_IS_HIGHER_THAN\", \"attribute\": \"f_19\", \"threshold\": 33.230445861816406}}, {\"value\": {\"type\": \"REGRESSION\", \"value\": 0.19655971229076385, \"num_examples\": 5.0, \"standard_deviation\": 7.882545843900897}}]}, {\"value\": {\"type\": \"REGRESSION\", \"value\": -0.0049870857037603855, \"num_examples\": 8337.0, \"standard_deviation\": 1.025938917684628}, \"condition\": {\"type\": \"NUMERICAL_IS_HIGHER_THAN\", \"attribute\": \"f_9\", \"threshold\": 30.149837493896484}, \"children\": [{\"value\": {\"type\": \"REGRESSION\", \"value\": 0.20000000298023224, \"num_examples\": 6.0, \"standard_deviation\": 3.859335854414536}}, {\"value\": {\"type\": \"REGRESSION\", \"value\": -0.0061759622767567635, \"num_examples\": 8331.0, \"standard_deviation\": 1.0193262525324194}, \"condition\": {\"type\": \"NUMERICAL_IS_HIGHER_THAN\", \"attribute\": \"f_8\", \"threshold\": 0.4886942207813263}}]}]}]}, \"#tree_plot_8a9a772cdd9c484ba25e51b67d8175f7\")\n",
       "</script>\n"
      ],
      "text/plain": [
       "<IPython.core.display.HTML object>"
      ]
     },
     "execution_count": 14,
     "metadata": {},
     "output_type": "execute_result"
    }
   ],
   "source": [
    "tfdf.model_plotter.plot_model_in_colab(model, tree_idx=0, max_depth=3)"
   ]
  },
  {
   "cell_type": "markdown",
   "metadata": {
    "id": "DjViB8SK1BrY"
   },
   "source": [
    "## Predicting with a ranking model\n",
    "\n",
    "For an incoming query, we can use our ranking model to predict the relevance of\n",
    "a stack of documents. In practice this means that for each query, we must come\n",
    "up with a set of documents that may or may not be relevant to the query. We call\n",
    "these documents our **candidate documents**. For each pair\n",
    "query/candidate document, we can compute the same features used during training.\n",
    "This is our **serving dataset**.\n",
    "\n",
    "Going back to the example from the beginning of this tutorial, the serving\n",
    "dataset might look like this:\n",
    "\n",
    "query  | document_id | feature_1 | feature_2\n",
    "------ | ----------- | --------- | --------- \n",
    "fish   | 32          | 0.3       | blue     \n",
    "fish   | 33          | 1.0       | green     \n",
    "fish   | 34          | 0.4       | blue       \n",
    "fish   | 35          | NA        | brown       \n",
    "\n",
    "Observe that *relevance* is not part of the serving dataset, since this is what\n",
    "the model is trying to predict.\n",
    "\n",
    "The serving dataset is fed to the TF-DF model and assigns a relevance score to\n",
    "each document.\n",
    "\n",
    "query  | document_id | feature_1 | feature_2 | relevance\n",
    "------ | ----------- | --------- | --------- | ---------\n",
    "fish   | 32          | 0.3       | blue      | 0.325\n",
    "fish   | 33          | 1.0       | green     | 0.125\n",
    "fish   | 34          | 0.4       | blue      | 0.155\n",
    "fish   | 35          | NA        | brown     | 0.593\n",
    "\n",
    "This means that the document with document_id 35 is predicted to be most\n",
    "relevant for query \"fish\"."
   ]
  },
  {
   "cell_type": "markdown",
   "metadata": {
    "id": "WXBPhvfr1BrY"
   },
   "source": [
    "Let's try to do this with our real model."
   ]
  },
  {
   "cell_type": "code",
   "execution_count": 15,
   "metadata": {
    "execution": {
     "iopub.execute_input": "2024-01-31T12:09:57.125394Z",
     "iopub.status.busy": "2024-01-31T12:09:57.125155Z",
     "iopub.status.idle": "2024-01-31T12:09:57.250950Z",
     "shell.execute_reply": "2024-01-31T12:09:57.250319Z"
    },
    "id": "cArmmZZ81BrY"
   },
   "outputs": [
    {
     "data": {
      "text/html": [
       "<div>\n",
       "<style scoped>\n",
       "    .dataframe tbody tr th:only-of-type {\n",
       "        vertical-align: middle;\n",
       "    }\n",
       "\n",
       "    .dataframe tbody tr th {\n",
       "        vertical-align: top;\n",
       "    }\n",
       "\n",
       "    .dataframe thead th {\n",
       "        text-align: right;\n",
       "    }\n",
       "</style>\n",
       "<table border=\"1\" class=\"dataframe\">\n",
       "  <thead>\n",
       "    <tr style=\"text-align: right;\">\n",
       "      <th></th>\n",
       "      <th>relevance</th>\n",
       "      <th>group</th>\n",
       "      <th>f_1</th>\n",
       "      <th>f_2</th>\n",
       "      <th>f_3</th>\n",
       "      <th>f_4</th>\n",
       "      <th>f_5</th>\n",
       "      <th>f_6</th>\n",
       "      <th>f_7</th>\n",
       "      <th>f_8</th>\n",
       "      <th>...</th>\n",
       "      <th>f_16</th>\n",
       "      <th>f_17</th>\n",
       "      <th>f_18</th>\n",
       "      <th>f_19</th>\n",
       "      <th>f_20</th>\n",
       "      <th>f_21</th>\n",
       "      <th>f_22</th>\n",
       "      <th>f_23</th>\n",
       "      <th>f_24</th>\n",
       "      <th>f_25</th>\n",
       "    </tr>\n",
       "  </thead>\n",
       "  <tbody>\n",
       "    <tr>\n",
       "      <th>0</th>\n",
       "      <td>2</td>\n",
       "      <td>g_1</td>\n",
       "      <td>3.0</td>\n",
       "      <td>2.079442</td>\n",
       "      <td>0.272727</td>\n",
       "      <td>0.261034</td>\n",
       "      <td>37.330565</td>\n",
       "      <td>11.431241</td>\n",
       "      <td>37.29975</td>\n",
       "      <td>1.138657</td>\n",
       "      <td>...</td>\n",
       "      <td>9.340024</td>\n",
       "      <td>24.808785</td>\n",
       "      <td>0.393091</td>\n",
       "      <td>57.416517</td>\n",
       "      <td>3.294893</td>\n",
       "      <td>25.0231</td>\n",
       "      <td>3.219799</td>\n",
       "      <td>-3.87098</td>\n",
       "      <td>-3.90273</td>\n",
       "      <td>-3.87512</td>\n",
       "    </tr>\n",
       "    <tr>\n",
       "      <th>1</th>\n",
       "      <td>0</td>\n",
       "      <td>g_1</td>\n",
       "      <td>3.0</td>\n",
       "      <td>2.079442</td>\n",
       "      <td>0.428571</td>\n",
       "      <td>0.400594</td>\n",
       "      <td>37.330565</td>\n",
       "      <td>11.431241</td>\n",
       "      <td>37.29975</td>\n",
       "      <td>1.814480</td>\n",
       "      <td>...</td>\n",
       "      <td>9.340024</td>\n",
       "      <td>24.808785</td>\n",
       "      <td>0.349205</td>\n",
       "      <td>43.240626</td>\n",
       "      <td>2.654724</td>\n",
       "      <td>23.4903</td>\n",
       "      <td>3.156588</td>\n",
       "      <td>-3.96838</td>\n",
       "      <td>-4.00865</td>\n",
       "      <td>-3.98670</td>\n",
       "    </tr>\n",
       "    <tr>\n",
       "      <th>2</th>\n",
       "      <td>2</td>\n",
       "      <td>g_1</td>\n",
       "      <td>0.0</td>\n",
       "      <td>0.000000</td>\n",
       "      <td>0.000000</td>\n",
       "      <td>0.000000</td>\n",
       "      <td>37.330565</td>\n",
       "      <td>11.431241</td>\n",
       "      <td>37.29975</td>\n",
       "      <td>0.000000</td>\n",
       "      <td>...</td>\n",
       "      <td>9.340024</td>\n",
       "      <td>24.808785</td>\n",
       "      <td>0.240319</td>\n",
       "      <td>25.816989</td>\n",
       "      <td>1.551342</td>\n",
       "      <td>15.8650</td>\n",
       "      <td>2.764115</td>\n",
       "      <td>-4.28166</td>\n",
       "      <td>-4.33313</td>\n",
       "      <td>-4.44161</td>\n",
       "    </tr>\n",
       "  </tbody>\n",
       "</table>\n",
       "<p>3 rows × 27 columns</p>\n",
       "</div>"
      ],
      "text/plain": [
       "   relevance group  f_1       f_2       f_3       f_4        f_5        f_6  \\\n",
       "0          2   g_1  3.0  2.079442  0.272727  0.261034  37.330565  11.431241   \n",
       "1          0   g_1  3.0  2.079442  0.428571  0.400594  37.330565  11.431241   \n",
       "2          2   g_1  0.0  0.000000  0.000000  0.000000  37.330565  11.431241   \n",
       "\n",
       "        f_7       f_8  ...      f_16       f_17      f_18       f_19  \\\n",
       "0  37.29975  1.138657  ...  9.340024  24.808785  0.393091  57.416517   \n",
       "1  37.29975  1.814480  ...  9.340024  24.808785  0.349205  43.240626   \n",
       "2  37.29975  0.000000  ...  9.340024  24.808785  0.240319  25.816989   \n",
       "\n",
       "       f_20     f_21      f_22     f_23     f_24     f_25  \n",
       "0  3.294893  25.0231  3.219799 -3.87098 -3.90273 -3.87512  \n",
       "1  2.654724  23.4903  3.156588 -3.96838 -4.00865 -3.98670  \n",
       "2  1.551342  15.8650  2.764115 -4.28166 -4.33313 -4.44161  \n",
       "\n",
       "[3 rows x 27 columns]"
      ]
     },
     "execution_count": 15,
     "metadata": {},
     "output_type": "execute_result"
    }
   ],
   "source": [
    "# Path to a test dataset using libsvm format.\n",
    "test_dataset_path = os.path.join(os.path.dirname(archive_path),\"OHSUMED/Data/Fold1/testset.txt\")\n",
    "# Convert the dataset.\n",
    "csv_test_dataset_path=\"/tmp/ohsumed_test.csv\"\n",
    "convert_libsvm_to_csv(raw_dataset_path, csv_test_dataset_path)\n",
    "\n",
    "# Load a dataset into a Pandas Dataframe.\n",
    "test_dataset_df = pd.read_csv(csv_test_dataset_path)\n",
    "\n",
    "# Display the first 3 examples.\n",
    "test_dataset_df.head(3)"
   ]
  },
  {
   "cell_type": "markdown",
   "metadata": {
    "id": "SXty9G-P1BrY"
   },
   "source": [
    "Suppose our query is \"g_5\" and the test dataset already contains the candidate\n",
    "documents for this query."
   ]
  },
  {
   "cell_type": "code",
   "execution_count": 16,
   "metadata": {
    "execution": {
     "iopub.execute_input": "2024-01-31T12:09:57.254697Z",
     "iopub.status.busy": "2024-01-31T12:09:57.254054Z",
     "iopub.status.idle": "2024-01-31T12:09:57.295063Z",
     "shell.execute_reply": "2024-01-31T12:09:57.294464Z"
    },
    "id": "IBfLDHig1BrY"
   },
   "outputs": [],
   "source": [
    "# Filter by \"g_5\"\n",
    "serving_dataset_df = test_dataset_df[test_dataset_df['group'] == 'g_5']\n",
    "# Remove the columns for group and relevance, not needed for predictions.\n",
    "serving_dataset_df = serving_dataset_df.drop(['relevance', 'group'], axis=1)\n",
    "# Convert to a Tensorflow dataset\n",
    "serving_dataset_ds = tfdf.keras.pd_dataframe_to_tf_dataset(serving_dataset_df, task=tfdf.keras.Task.RANKING)"
   ]
  },
  {
   "cell_type": "code",
   "execution_count": 17,
   "metadata": {
    "execution": {
     "iopub.execute_input": "2024-01-31T12:09:57.298484Z",
     "iopub.status.busy": "2024-01-31T12:09:57.298027Z",
     "iopub.status.idle": "2024-01-31T12:09:57.479888Z",
     "shell.execute_reply": "2024-01-31T12:09:57.479159Z"
    },
    "id": "_EzlVuk01BrY"
   },
   "outputs": [
    {
     "name": "stdout",
     "output_type": "stream",
     "text": [
      "\r",
      "1/1 [==============================] - ETA: 0s"
     ]
    },
    {
     "name": "stdout",
     "output_type": "stream",
     "text": [
      "\b\b\b\b\b\b\b\b\b\b\b\b\b\b\b\b\b\b\b\b\b\b\b\b\b\b\b\b\b\b\b\b\b\b\b\b\b\b\b\b\b\b\b\b\b\b\r",
      "1/1 [==============================] - 0s 172ms/step\n"
     ]
    }
   ],
   "source": [
    "# Run predictions with on all candidate documents\n",
    "predictions = model.predict(serving_dataset_ds)"
   ]
  },
  {
   "cell_type": "markdown",
   "metadata": {
    "id": "LRqRnruM1BrY"
   },
   "source": [
    "We can use add the predictions to the dataframe and use them to find the \n",
    "documents with the highest scores. "
   ]
  },
  {
   "cell_type": "code",
   "execution_count": 18,
   "metadata": {
    "execution": {
     "iopub.execute_input": "2024-01-31T12:09:57.483515Z",
     "iopub.status.busy": "2024-01-31T12:09:57.482928Z",
     "iopub.status.idle": "2024-01-31T12:09:57.501926Z",
     "shell.execute_reply": "2024-01-31T12:09:57.501287Z"
    },
    "id": "IrkLkIWG1BrY"
   },
   "outputs": [
    {
     "data": {
      "text/html": [
       "<div>\n",
       "<style scoped>\n",
       "    .dataframe tbody tr th:only-of-type {\n",
       "        vertical-align: middle;\n",
       "    }\n",
       "\n",
       "    .dataframe tbody tr th {\n",
       "        vertical-align: top;\n",
       "    }\n",
       "\n",
       "    .dataframe thead th {\n",
       "        text-align: right;\n",
       "    }\n",
       "</style>\n",
       "<table border=\"1\" class=\"dataframe\">\n",
       "  <thead>\n",
       "    <tr style=\"text-align: right;\">\n",
       "      <th></th>\n",
       "      <th>f_1</th>\n",
       "      <th>f_2</th>\n",
       "      <th>f_3</th>\n",
       "      <th>f_4</th>\n",
       "      <th>f_5</th>\n",
       "      <th>f_6</th>\n",
       "      <th>f_7</th>\n",
       "      <th>f_8</th>\n",
       "      <th>f_9</th>\n",
       "      <th>f_10</th>\n",
       "      <th>...</th>\n",
       "      <th>f_17</th>\n",
       "      <th>f_18</th>\n",
       "      <th>f_19</th>\n",
       "      <th>f_20</th>\n",
       "      <th>f_21</th>\n",
       "      <th>f_22</th>\n",
       "      <th>f_23</th>\n",
       "      <th>f_24</th>\n",
       "      <th>f_25</th>\n",
       "      <th>prediction_score</th>\n",
       "    </tr>\n",
       "  </thead>\n",
       "  <tbody>\n",
       "    <tr>\n",
       "      <th>642</th>\n",
       "      <td>2.0</td>\n",
       "      <td>1.386294</td>\n",
       "      <td>0.666667</td>\n",
       "      <td>0.575364</td>\n",
       "      <td>29.447117</td>\n",
       "      <td>8.435116</td>\n",
       "      <td>29.448021</td>\n",
       "      <td>2.207135</td>\n",
       "      <td>12.292170</td>\n",
       "      <td>10.101899</td>\n",
       "      <td>...</td>\n",
       "      <td>21.208715</td>\n",
       "      <td>0.523845</td>\n",
       "      <td>77.852148</td>\n",
       "      <td>7.659101</td>\n",
       "      <td>30.2660</td>\n",
       "      <td>3.410025</td>\n",
       "      <td>-3.03908</td>\n",
       "      <td>-3.19282</td>\n",
       "      <td>-2.87112</td>\n",
       "      <td>0.965342</td>\n",
       "    </tr>\n",
       "    <tr>\n",
       "      <th>685</th>\n",
       "      <td>3.0</td>\n",
       "      <td>2.079442</td>\n",
       "      <td>0.750000</td>\n",
       "      <td>0.669431</td>\n",
       "      <td>29.447117</td>\n",
       "      <td>8.435116</td>\n",
       "      <td>29.448021</td>\n",
       "      <td>3.060164</td>\n",
       "      <td>21.795657</td>\n",
       "      <td>17.652746</td>\n",
       "      <td>...</td>\n",
       "      <td>21.208715</td>\n",
       "      <td>0.793681</td>\n",
       "      <td>39.623271</td>\n",
       "      <td>8.513801</td>\n",
       "      <td>33.9830</td>\n",
       "      <td>3.525860</td>\n",
       "      <td>-2.84235</td>\n",
       "      <td>-2.81360</td>\n",
       "      <td>-2.59920</td>\n",
       "      <td>0.893874</td>\n",
       "    </tr>\n",
       "    <tr>\n",
       "      <th>646</th>\n",
       "      <td>4.0</td>\n",
       "      <td>2.772589</td>\n",
       "      <td>0.285714</td>\n",
       "      <td>0.275971</td>\n",
       "      <td>29.447117</td>\n",
       "      <td>8.435116</td>\n",
       "      <td>29.448021</td>\n",
       "      <td>1.421063</td>\n",
       "      <td>24.550338</td>\n",
       "      <td>14.727974</td>\n",
       "      <td>...</td>\n",
       "      <td>21.208715</td>\n",
       "      <td>0.602963</td>\n",
       "      <td>84.868108</td>\n",
       "      <td>7.767931</td>\n",
       "      <td>31.0268</td>\n",
       "      <td>3.434851</td>\n",
       "      <td>-3.19269</td>\n",
       "      <td>-3.31166</td>\n",
       "      <td>-3.14901</td>\n",
       "      <td>0.258856</td>\n",
       "    </tr>\n",
       "    <tr>\n",
       "      <th>684</th>\n",
       "      <td>4.0</td>\n",
       "      <td>2.484907</td>\n",
       "      <td>0.333333</td>\n",
       "      <td>0.314236</td>\n",
       "      <td>29.447117</td>\n",
       "      <td>8.435116</td>\n",
       "      <td>29.448021</td>\n",
       "      <td>1.730304</td>\n",
       "      <td>29.299744</td>\n",
       "      <td>15.114793</td>\n",
       "      <td>...</td>\n",
       "      <td>21.208715</td>\n",
       "      <td>0.692899</td>\n",
       "      <td>71.279648</td>\n",
       "      <td>8.148804</td>\n",
       "      <td>36.5645</td>\n",
       "      <td>3.599078</td>\n",
       "      <td>-2.16625</td>\n",
       "      <td>-2.43823</td>\n",
       "      <td>-1.94658</td>\n",
       "      <td>0.258856</td>\n",
       "    </tr>\n",
       "    <tr>\n",
       "      <th>640</th>\n",
       "      <td>3.0</td>\n",
       "      <td>2.079442</td>\n",
       "      <td>0.428571</td>\n",
       "      <td>0.400594</td>\n",
       "      <td>29.447117</td>\n",
       "      <td>8.435116</td>\n",
       "      <td>29.448021</td>\n",
       "      <td>2.107361</td>\n",
       "      <td>21.795657</td>\n",
       "      <td>15.999891</td>\n",
       "      <td>...</td>\n",
       "      <td>21.208715</td>\n",
       "      <td>0.000000</td>\n",
       "      <td>0.000000</td>\n",
       "      <td>0.000000</td>\n",
       "      <td>30.6422</td>\n",
       "      <td>3.422378</td>\n",
       "      <td>-3.20997</td>\n",
       "      <td>-2.59768</td>\n",
       "      <td>-2.59768</td>\n",
       "      <td>0.258856</td>\n",
       "    </tr>\n",
       "  </tbody>\n",
       "</table>\n",
       "<p>5 rows × 26 columns</p>\n",
       "</div>"
      ],
      "text/plain": [
       "     f_1       f_2       f_3       f_4        f_5       f_6        f_7  \\\n",
       "642  2.0  1.386294  0.666667  0.575364  29.447117  8.435116  29.448021   \n",
       "685  3.0  2.079442  0.750000  0.669431  29.447117  8.435116  29.448021   \n",
       "646  4.0  2.772589  0.285714  0.275971  29.447117  8.435116  29.448021   \n",
       "684  4.0  2.484907  0.333333  0.314236  29.447117  8.435116  29.448021   \n",
       "640  3.0  2.079442  0.428571  0.400594  29.447117  8.435116  29.448021   \n",
       "\n",
       "          f_8        f_9       f_10  ...       f_17      f_18       f_19  \\\n",
       "642  2.207135  12.292170  10.101899  ...  21.208715  0.523845  77.852148   \n",
       "685  3.060164  21.795657  17.652746  ...  21.208715  0.793681  39.623271   \n",
       "646  1.421063  24.550338  14.727974  ...  21.208715  0.602963  84.868108   \n",
       "684  1.730304  29.299744  15.114793  ...  21.208715  0.692899  71.279648   \n",
       "640  2.107361  21.795657  15.999891  ...  21.208715  0.000000   0.000000   \n",
       "\n",
       "         f_20     f_21      f_22     f_23     f_24     f_25  prediction_score  \n",
       "642  7.659101  30.2660  3.410025 -3.03908 -3.19282 -2.87112          0.965342  \n",
       "685  8.513801  33.9830  3.525860 -2.84235 -2.81360 -2.59920          0.893874  \n",
       "646  7.767931  31.0268  3.434851 -3.19269 -3.31166 -3.14901          0.258856  \n",
       "684  8.148804  36.5645  3.599078 -2.16625 -2.43823 -1.94658          0.258856  \n",
       "640  0.000000  30.6422  3.422378 -3.20997 -2.59768 -2.59768          0.258856  \n",
       "\n",
       "[5 rows x 26 columns]"
      ]
     },
     "execution_count": 18,
     "metadata": {},
     "output_type": "execute_result"
    }
   ],
   "source": [
    "serving_dataset_df['prediction_score'] = predictions\n",
    "serving_dataset_df.sort_values(by=['prediction_score'], ascending=False).head()"
   ]
  }
 ],
 "metadata": {
  "colab": {
   "name": "ranking_colab.ipynb",
   "provenance": [],
   "toc_visible": true
  },
  "kernelspec": {
   "display_name": "Python 3",
   "name": "python3"
  },
  "language_info": {
   "codemirror_mode": {
    "name": "ipython",
    "version": 3
   },
   "file_extension": ".py",
   "mimetype": "text/x-python",
   "name": "python",
   "nbconvert_exporter": "python",
   "pygments_lexer": "ipython3",
   "version": "3.9.18"
  }
 },
 "nbformat": 4,
 "nbformat_minor": 0
}
