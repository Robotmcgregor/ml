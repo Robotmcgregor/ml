{
 "cells": [
  {
   "cell_type": "code",
   "execution_count": 1,
   "metadata": {},
   "outputs": [],
   "source": [
    "%matplotlib inline\n",
    "import pandas as pd\n",
    "import numpy as np\n",
    "import matplotlib.pyplot as plt\n",
    "import geopandas as gpd\n",
    "pd.set_option('chained_assignment',None)\n",
    "from __future__ import division"
   ]
  },
  {
   "cell_type": "code",
   "execution_count": 4,
   "metadata": {},
   "outputs": [
    {
     "name": "stdout",
     "output_type": "stream",
     "text": [
      " Volume in drive C is System\n",
      " Volume Serial Number is 12FA-D4D7\n",
      "\n",
      " Directory of C:\\Users\\grants\\code\\old_growth\\sen2_l8\\zonal_stats\\s2_10m_combined\n",
      "\n",
      "26/04/2019  03:23 PM    <DIR>          .\n",
      "26/04/2019  03:23 PM    <DIR>          ..\n",
      "26/04/2019  03:23 PM    <DIR>          .ipynb_checkpoints\n",
      "18/02/2019  02:14 PM            22,736 Band_Importance_Score.pdf\n",
      "03/02/2019  12:24 PM            13,657 combine_s2_10m_datasets.ipynb\n",
      "18/02/2019  08:56 AM       359,516,453 combined_data_S2_10m_int32_clean.csv\n",
      "10/03/2019  10:33 AM    <DIR>          final_model_10m\n",
      "10/03/2019  10:52 AM           130,899 fix_for_the_stuff_up.ipynb\n",
      "07/04/2019  11:56 AM            36,737 make_int32_bit_training_and_validation_data_s2.ipynb\n",
      "18/04/2019  08:10 AM            14,787 make_training_val_shp_files.ipynb\n",
      "26/04/2019  03:23 PM                72 Number_of_predictor_variables.ipynb\n",
      "18/02/2019  12:50 PM       178,621,529 sent2_training_data_10m_f.csv\n",
      "07/04/2019  11:53 AM       175,520,039 sent2_training_data_10m_msavi_fix.csv\n",
      "17/02/2019  07:23 AM       106,441,957 sent2_training_data_10m_surf_ref_bands_only.csv\n",
      "18/02/2019  12:51 PM        44,633,846 sent2_val_data_10m_f.csv\n",
      "07/04/2019  11:54 AM        45,162,890 sent2_val_data_10m_msavi_fix.csv\n",
      "18/02/2019  02:15 PM           274,323 Sklearn_random_forest_regression_Code_Sentinel-2_combined_10m.ipynb\n",
      "21/02/2019  06:51 PM    <DIR>          stage01_02\n",
      "12/04/2019  04:31 PM    <DIR>          stage03\n",
      "03/03/2019  12:04 PM            13,221 summary_s2_10m_validation01_results.xlsx\n",
      "18/02/2019  09:02 AM                10 Train_Sentinel-2_10m_data_GCS_WGS84.cpg\n",
      "18/02/2019  09:04 AM        49,432,577 Train_Sentinel-2_10m_data_GCS_WGS84.dbf\n",
      "18/02/2019  09:02 AM               143 Train_Sentinel-2_10m_data_GCS_WGS84.prj\n",
      "18/02/2019  09:04 AM         4,144,100 Train_Sentinel-2_10m_data_GCS_WGS84.shp\n",
      "26/04/2019  11:06 AM                 0 Train_Sentinel-2_10m_data_GCS_WGS84.shp.FA6111.8924.6512.sr.lock\n",
      "18/02/2019  09:04 AM         1,184,100 Train_Sentinel-2_10m_data_GCS_WGS84.shx\n",
      "18/02/2019  09:38 AM             1,798 train_val_data_split.ipynb\n",
      "18/02/2019  08:58 AM             7,158 Untitled.ipynb\n",
      "18/02/2019  09:04 AM                10 Val_Sentinel-2_10m_data_GCS_WGS84.cpg\n",
      "18/02/2019  09:05 AM        12,358,577 Val_Sentinel-2_10m_data_GCS_WGS84.dbf\n",
      "18/02/2019  09:04 AM               143 Val_Sentinel-2_10m_data_GCS_WGS84.prj\n",
      "18/02/2019  09:05 AM         1,036,100 Val_Sentinel-2_10m_data_GCS_WGS84.shp\n",
      "26/04/2019  11:06 AM                 0 Val_Sentinel-2_10m_data_GCS_WGS84.shp.FA6111.8924.6512.sr.lock\n",
      "18/02/2019  09:05 AM           296,100 Val_Sentinel-2_10m_data_GCS_WGS84.shx\n",
      "18/02/2019  09:05 AM           303,104 Val_Sentinel-2_10m_data_GCS_WGS84.site.atx\n",
      "23/01/2019  05:23 AM           115,492 Validation_Sentinel-2.ipynb\n",
      "              30 File(s)    979,282,558 bytes\n",
      "               6 Dir(s)   1,176,997,888 bytes free\n"
     ]
    }
   ],
   "source": [
    "ls"
   ]
  },
  {
   "cell_type": "code",
   "execution_count": 7,
   "metadata": {},
   "outputs": [
    {
     "name": "stdout",
     "output_type": "stream",
     "text": [
      "['Unnamed: 0', 'site', 'x', 'y', 'zone', 'chm', 'std_1', 'Min_1', 'Max_1', 'count_1', 'perc5_1', 'perc10_1', 'perc25_1', 'perc50_1', 'perc75_1', 'perc80_1', 'perc95_1', 'perc99_1', 'cov', 'psB2a', 'psB3a', 'psB4a', 'psB5a', 'psB6a', 'psB7a', 'psB8a', 'psB9a', 'psB10a', 'psB2d', 'psB3d', 'psB4d', 'psB5d', 'psB6d', 'psB7d', 'psB8d', 'psB9d', 'psB10d', 'ratio32a', 'ratio42a', 'ratio43a', 'ratio52a', 'ratio53a', 'ratio54a', 'ratio62a', 'ratio63a', 'ratio64a', 'ratio65a', 'ratio72a', 'ratio73a', 'ratio74a', 'ratio75a', 'ratio76a', 'ratio82a', 'ratio83a', 'ratio84a', 'ratio85a', 'ratio86a', 'ratio87a', 'ratio92a', 'ratio93a', 'ratio94a', 'ratio95a', 'ratio96a', 'ratio97a', 'ratio98a', 'ratio102a', 'ratio103a', 'ratio104a', 'ratio105a', 'ratio106a', 'ratio107a', 'ratio108a', 'ratio109a', 'GSAVIa', 'GNDVIa', 'CVIa', 'NDGIa', 'RIa', 'NBRa', 'NDIIa', 'GDVIa', 'MSAVIa', 'DVIa', 'SAVIa', 'NDVIa', 'MSRa', 'CIgreena', 'NDRE1a', 'NDRE2a', 'CIrededgea', 'ratio32d', 'ratio42d', 'ratio43d', 'ratio52d', 'ratio53d', 'ratio54d', 'ratio62d', 'ratio63d', 'ratio64d', 'ratio65d', 'ratio72d', 'ratio73d', 'ratio74d', 'ratio75d', 'ratio76d', 'ratio82d', 'ratio83d', 'ratio84d', 'ratio85d', 'ratio86d', 'ratio87d', 'ratio92d', 'ratio93d', 'ratio94d', 'ratio95d', 'ratio96d', 'ratio97d', 'ratio98d', 'ratio102d', 'ratio103d', 'ratio104d', 'ratio105d', 'ratio106d', 'ratio107d', 'ratio108d', 'ratio109d', 'GSAVId', 'GNDVId', 'CVId', 'NDGId', 'RId', 'NBRd', 'NDIId', 'GDVId', 'MSAVId', 'DVId', 'SAVId', 'NDVId', 'MSRd', 'CIgreend', 'NDRE1d', 'NDRE2d', 'CIrededged']\n"
     ]
    }
   ],
   "source": [
    "df = pd.read_csv(\"sent2_training_data_10m_msavi_fix.csv\",header=0)\n",
    "print (list(df))"
   ]
  },
  {
   "cell_type": "code",
   "execution_count": 8,
   "metadata": {},
   "outputs": [
    {
     "name": "stdout",
     "output_type": "stream",
     "text": [
      "124\n"
     ]
    }
   ],
   "source": [
    "varlist = ['psB2a', 'psB3a', 'psB4a', 'psB5a', 'psB6a', 'psB7a', 'psB8a', 'psB9a', 'psB10a', 'psB2d', 'psB3d', 'psB4d', \n",
    "           'psB5d', 'psB6d', 'psB7d', 'psB8d', 'psB9d', 'psB10d', 'ratio32a', 'ratio42a', 'ratio43a', 'ratio52a', \n",
    "           'ratio53a', 'ratio54a', 'ratio62a', 'ratio63a', 'ratio64a', 'ratio65a', 'ratio72a', 'ratio73a', 'ratio74a', \n",
    "           'ratio75a', 'ratio76a', 'ratio82a', 'ratio83a', 'ratio84a', 'ratio85a', 'ratio86a', 'ratio87a', 'ratio92a', \n",
    "           'ratio93a', 'ratio94a', 'ratio95a', 'ratio96a', 'ratio97a', 'ratio98a', 'ratio102a', 'ratio103a', 'ratio104a', \n",
    "           'ratio105a', 'ratio106a', 'ratio107a', 'ratio108a', 'ratio109a', 'GSAVIa', 'GNDVIa', 'CVIa', 'NDGIa', 'RIa',\n",
    "           'NBRa', 'NDIIa', 'GDVIa', 'MSAVIa', 'DVIa', 'SAVIa', 'NDVIa', 'MSRa', 'CIgreena', 'NDRE1a', 'NDRE2a', \n",
    "           'CIrededgea', 'ratio32d', 'ratio42d', 'ratio43d', 'ratio52d', 'ratio53d', 'ratio54d', 'ratio62d', 'ratio63d', \n",
    "           'ratio64d', 'ratio65d', 'ratio72d', 'ratio73d', 'ratio74d', 'ratio75d', 'ratio76d', 'ratio82d', 'ratio83d', \n",
    "           'ratio84d', 'ratio85d', 'ratio86d', 'ratio87d', 'ratio92d', 'ratio93d', 'ratio94d', 'ratio95d', 'ratio96d', \n",
    "           'ratio97d', 'ratio98d', 'ratio102d', 'ratio103d', 'ratio104d', 'ratio105d', 'ratio106d', 'ratio107d', \n",
    "           'ratio108d', 'ratio109d', 'GSAVId', 'GNDVId', 'CVId', 'NDGId', 'RId', 'NBRd', 'NDIId', 'GDVId', 'MSAVId',\n",
    "           'DVId', 'SAVId', 'NDVId', 'MSRd', 'CIgreend', 'NDRE1d', 'NDRE2d', 'CIrededged']\n",
    "\n",
    "print (len(varlist))"
   ]
  },
  {
   "cell_type": "code",
   "execution_count": 17,
   "metadata": {},
   "outputs": [
    {
     "name": "stdout",
     "output_type": "stream",
     "text": [
      "['Unnamed: 0', 'site', 'x', 'y', 'chm', 'std_1', 'Min_1', 'Max_1', 'count_1', 'perc5_1', 'perc10_1', 'perc25_1', 'perc50_1', 'perc75_1', 'perc80_1', 'perc95_1', 'perc99_1', 'cov', 'psB1a', 'psB2a', 'psB3a', 'psB4a', 'psB5a', 'psB6a', 'psB1d', 'psB2d', 'psB3d', 'psB4d', 'psB5d', 'psB6d', 'ratio32a', 'ratio42a', 'ratio43a', 'ratio52a', 'ratio53a', 'ratio54a', 'ratio62a', 'ratio63a', 'ratio64a', 'ratio65a', 'GSAVIa', 'GNDVIa', 'CVIa', 'NDGIa', 'RIa', 'NBRa', 'NDIIa', 'GDVIa', 'MSAVIa', 'DVIa', 'SAVIa', 'NDVIa', 'MSRa', 'ratio32d', 'ratio42d', 'ratio43d', 'ratio52d', 'ratio53d', 'ratio54d', 'ratio62d', 'ratio63d', 'ratio64d', 'ratio65d', 'GSAVId', 'GNDVId', 'CVId', 'NDGId', 'RId', 'NBRd', 'NDIId', 'GDVId', 'MSAVId', 'DVId', 'SAVId', 'NDVId', 'MSRd', 'zone']\n"
     ]
    }
   ],
   "source": [
    "df2 = pd.read_csv(\"C:/Users/grants/code/old_growth\\sen2_l8\\l8_combined\\l8_model_dev/combined_training_data_l8_int_version_2.csv\",header=0)\n",
    "print (list(df2))"
   ]
  },
  {
   "cell_type": "code",
   "execution_count": 19,
   "metadata": {},
   "outputs": [
    {
     "name": "stdout",
     "output_type": "stream",
     "text": [
      "56\n"
     ]
    }
   ],
   "source": [
    "l8_var = ['psB2a', 'psB3a', 'psB4a', 'psB5a', 'psB6a',  'psB2d', 'psB3d', 'psB4d', 'psB5d', 'psB6d', 'ratio32a', 'ratio42a', 'ratio43a', 'ratio52a', 'ratio53a', 'ratio54a', 'ratio62a', 'ratio63a', 'ratio64a', 'ratio65a', 'GSAVIa', 'GNDVIa', 'CVIa', 'NDGIa', 'RIa', 'NBRa', 'NDIIa', 'GDVIa', 'MSAVIa', 'DVIa', 'SAVIa', 'NDVIa', 'MSRa', 'ratio32d', 'ratio42d', 'ratio43d', 'ratio52d', 'ratio53d', 'ratio54d', 'ratio62d', 'ratio63d', 'ratio64d', 'ratio65d', 'GSAVId', 'GNDVId', 'CVId', 'NDGId', 'RId', 'NBRd', 'NDIId', 'GDVId', 'MSAVId', 'DVId', 'SAVId', 'NDVId', 'MSRd',]\n",
    "print (len(l8_var))"
   ]
  },
  {
   "cell_type": "code",
   "execution_count": null,
   "metadata": {},
   "outputs": [],
   "source": []
  },
  {
   "cell_type": "code",
   "execution_count": null,
   "metadata": {},
   "outputs": [],
   "source": []
  }
 ],
 "metadata": {
  "kernelspec": {
   "display_name": "Python 3",
   "language": "python",
   "name": "python3"
  },
  "language_info": {
   "codemirror_mode": {
    "name": "ipython",
    "version": 3
   },
   "file_extension": ".py",
   "mimetype": "text/x-python",
   "name": "python",
   "nbconvert_exporter": "python",
   "pygments_lexer": "ipython3",
   "version": "3.5.4"
  }
 },
 "nbformat": 4,
 "nbformat_minor": 2
}
