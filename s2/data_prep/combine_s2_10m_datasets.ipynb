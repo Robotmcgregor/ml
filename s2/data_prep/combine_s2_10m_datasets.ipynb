{
 "cells": [
  {
   "cell_type": "code",
   "execution_count": 2,
   "metadata": {
    "collapsed": true
   },
   "outputs": [],
   "source": [
    "%matplotlib inline\n",
    "import pandas as pd\n",
    "import numpy as np\n",
    "import matplotlib.pyplot as plt\n",
    "pd.set_option('chained_assignment',None) "
   ]
  },
  {
   "cell_type": "code",
   "execution_count": 3,
   "metadata": {},
   "outputs": [
    {
     "name": "stdout",
     "output_type": "stream",
     "text": [
      "['Unnamed: 0', 'site', 'x', 'y', 'chm', 'std_1', 'Min_1', 'Max_1', 'count_1', 'perc5_1', 'perc10_1', 'perc25_1', 'perc50_1', 'perc75_1', 'perc80_1', 'perc95_1', 'perc99_1', 'cov', 'psB1a', 'psB2a', 'psB3a', 'psB4a', 'psB5a', 'psB6a', 'psB7a', 'psB8a', 'psB9a', 'psB10a', 'ratio32a', 'ratio42a', 'ratio43a', 'ratio52a', 'ratio53a', 'ratio54a', 'ratio62a', 'ratio63a', 'ratio64a', 'ratio65a', 'ratio109a', 'GSAVIa', 'GNDVIa', 'CVIa', 'NDGIa', 'RIa', 'NBRa', 'NDIIa', 'GDVIa', 'MSAVIa', 'DVIa', 'SAVIa', 'NDVIa', 'MSRa', 'CIgreena', 'NDRE1a', 'NDRE2a', 'CIrededgea', 'psB1d', 'psB2d', 'psB3d', 'psB4d', 'psB5d', 'psB6d', 'psB7d', 'psB8d', 'psB9d', 'psB10d', 'ratio32d', 'ratio42d', 'ratio43d', 'ratio52d', 'ratio53d', 'ratio54d', 'ratio62d', 'ratio63d', 'ratio64d', 'ratio65d', 'ratio109d', 'GSAVId', 'GNDVId', 'CVId', 'NDGId', 'RId', 'NBRd', 'NDIId', 'GDVId', 'MSAVId', 'DVId', 'SAVId', 'NDVId', 'MSRd', 'CIgreend', 'NDRE1d', 'NDRE2d', 'CIrededged', 'zone']\n",
      "(303141, 95)\n",
      "['Unnamed: 0', 'site', 'x', 'y', 'chm', 'std_1', 'Min_1', 'Max_1', 'count_1', 'perc5_1', 'perc10_1', 'perc25_1', 'perc50_1', 'perc75_1', 'perc80_1', 'perc95_1', 'perc99_1', 'cov', 'psB1a', 'psB2a', 'psB3a', 'psB4a', 'psB5a', 'psB6a', 'psB7a', 'psB8a', 'psB9a', 'psB10a', 'ratio32a', 'ratio42a', 'ratio43a', 'ratio52a', 'ratio53a', 'ratio54a', 'ratio62a', 'ratio63a', 'ratio64a', 'ratio65a', 'ratio109a', 'GSAVIa', 'GNDVIa', 'CVIa', 'NDGIa', 'RIa', 'NBRa', 'NDIIa', 'GDVIa', 'MSAVIa', 'DVIa', 'SAVIa', 'NDVIa', 'MSRa', 'CIgreena', 'NDRE1a', 'NDRE2a', 'CIrededgea', 'psB1d', 'psB2d', 'psB3d', 'psB4d', 'psB5d', 'psB6d', 'psB7d', 'psB8d', 'psB9d', 'psB10d', 'ratio32d', 'ratio42d', 'ratio43d', 'ratio52d', 'ratio53d', 'ratio54d', 'ratio62d', 'ratio63d', 'ratio64d', 'ratio65d', 'ratio109d', 'GSAVId', 'GNDVId', 'CVId', 'NDGId', 'RId', 'NBRd', 'NDIId', 'GDVId', 'MSAVId', 'DVId', 'SAVId', 'NDVId', 'MSRd', 'CIgreend', 'NDRE1d', 'NDRE2d', 'CIrededged', 'zone']\n",
      "(50399, 95)\n",
      "['Unnamed: 0', 'site', 'x', 'y', 'chm', 'std_1', 'Min_1', 'Max_1', 'count_1', 'perc5_1', 'perc10_1', 'perc25_1', 'perc50_1', 'perc75_1', 'perc80_1', 'perc95_1', 'perc99_1', 'cov', 'psB1a', 'psB2a', 'psB3a', 'psB4a', 'psB5a', 'psB6a', 'psB7a', 'psB8a', 'psB9a', 'psB10a', 'ratio32a', 'ratio42a', 'ratio43a', 'ratio52a', 'ratio53a', 'ratio54a', 'ratio62a', 'ratio63a', 'ratio64a', 'ratio65a', 'ratio109a', 'GSAVIa', 'GNDVIa', 'CVIa', 'NDGIa', 'RIa', 'NBRa', 'NDIIa', 'GDVIa', 'MSAVIa', 'DVIa', 'SAVIa', 'NDVIa', 'MSRa', 'CIgreena', 'NDRE1a', 'NDRE2a', 'CIrededgea', 'psB1d', 'psB2d', 'psB3d', 'psB4d', 'psB5d', 'psB6d', 'psB7d', 'psB8d', 'psB9d', 'psB10d', 'ratio32d', 'ratio42d', 'ratio43d', 'ratio52d', 'ratio53d', 'ratio54d', 'ratio62d', 'ratio63d', 'ratio64d', 'ratio65d', 'ratio109d', 'GSAVId', 'GNDVId', 'CVId', 'NDGId', 'RId', 'NBRd', 'NDIId', 'GDVId', 'MSAVId', 'DVId', 'SAVId', 'NDVId', 'MSRd', 'CIgreend', 'NDRE1d', 'NDRE2d', 'CIrededged', 'zone']\n",
      "(21163, 95)\n",
      "['Unnamed: 0', 'site', 'x', 'y', 'chm', 'std_1', 'Min_1', 'Max_1', 'count_1', 'perc5_1', 'perc10_1', 'perc25_1', 'perc50_1', 'perc75_1', 'perc80_1', 'perc95_1', 'perc99_1', 'cov', 'psB1a', 'psB2a', 'psB3a', 'psB4a', 'psB5a', 'psB6a', 'psB7a', 'psB8a', 'psB9a', 'psB10a', 'ratio32a', 'ratio42a', 'ratio43a', 'ratio52a', 'ratio53a', 'ratio54a', 'ratio62a', 'ratio63a', 'ratio64a', 'ratio65a', 'ratio109a', 'GSAVIa', 'GNDVIa', 'CVIa', 'NDGIa', 'RIa', 'NBRa', 'NDIIa', 'GDVIa', 'MSAVIa', 'DVIa', 'SAVIa', 'NDVIa', 'MSRa', 'CIgreena', 'NDRE1a', 'NDRE2a', 'CIrededgea', 'psB1d', 'psB2d', 'psB3d', 'psB4d', 'psB5d', 'psB6d', 'psB7d', 'psB8d', 'psB9d', 'psB10d', 'ratio32d', 'ratio42d', 'ratio43d', 'ratio52d', 'ratio53d', 'ratio54d', 'ratio62d', 'ratio63d', 'ratio64d', 'ratio65d', 'ratio109d', 'GSAVId', 'GNDVId', 'CVId', 'NDGId', 'RId', 'NBRd', 'NDIId', 'GDVId', 'MSAVId', 'DVId', 'SAVId', 'NDVId', 'MSRd', 'CIgreend', 'NDRE1d', 'NDRE2d', 'CIrededged', 'zone']\n",
      "(18182, 95)\n",
      "['Unnamed: 0', 'site', 'x', 'y', 'chm', 'std_1', 'Min_1', 'Max_1', 'count_1', 'perc5_1', 'perc10_1', 'perc25_1', 'perc50_1', 'perc75_1', 'perc80_1', 'perc95_1', 'perc99_1', 'cov', 'psB1a', 'psB2a', 'psB3a', 'psB4a', 'psB5a', 'psB6a', 'psB7a', 'psB8a', 'psB9a', 'psB10a', 'ratio32a', 'ratio42a', 'ratio43a', 'ratio52a', 'ratio53a', 'ratio54a', 'ratio62a', 'ratio63a', 'ratio64a', 'ratio65a', 'ratio109a', 'GSAVIa', 'GNDVIa', 'CVIa', 'NDGIa', 'RIa', 'NBRa', 'NDIIa', 'GDVIa', 'MSAVIa', 'DVIa', 'SAVIa', 'NDVIa', 'MSRa', 'CIgreena', 'NDRE1a', 'NDRE2a', 'CIrededgea', 'psB1d', 'psB2d', 'psB3d', 'psB4d', 'psB5d', 'psB6d', 'psB7d', 'psB8d', 'psB9d', 'psB10d', 'ratio32d', 'ratio42d', 'ratio43d', 'ratio52d', 'ratio53d', 'ratio54d', 'ratio62d', 'ratio63d', 'ratio64d', 'ratio65d', 'ratio109d', 'GSAVId', 'GNDVId', 'CVId', 'NDGId', 'RId', 'NBRd', 'NDIId', 'GDVId', 'MSAVId', 'DVId', 'SAVId', 'NDVId', 'MSRd', 'CIgreend', 'NDRE1d', 'NDRE2d', 'CIrededged', 'zone']\n",
      "(11768, 95)\n"
     ]
    }
   ],
   "source": [
    "df = pd.read_csv('C:/Users/grants/code/old_growth/sen2_l8/zonal_stats/er2018/er2018_10m/er2018_s2_10m_TrainVal_data.csv', header=0)\n",
    "df['zone'] = '52'\n",
    "print list(df)\n",
    "print (df.shape)\n",
    "#print df\n",
    "df2 = pd.read_csv('C:/Users/grants/code/old_growth/sen2_l8/zonal_stats/ka2017/ka2017_10m/ka2017_s2_10m_TrainVal_data.csv', header=0)\n",
    "df2['zone'] = '52'\n",
    "print list(df2)\n",
    "print (df2.shape)\n",
    "\n",
    "df4 = pd.read_csv('C:/Users/grants/code/old_growth/sen2_l8/zonal_stats/gr2017/gr2017_10m/gr2017_s2_10m_TrainVal_data.csv', header=0)\n",
    "df4['zone'] = '53'\n",
    "print list(df4)\n",
    "print (df4.shape)\n",
    "\n",
    "\n",
    "df5 = pd.read_csv('C:/Users/grants/code/old_growth/sen2_l8/zonal_stats/gu1_2017/gul1_2017_10m/gul01_s2_10m_TrainVal_data.csv', header=0)\n",
    "df5['zone'] = '53'\n",
    "print list(df5)\n",
    "print (df5.shape)\n",
    "\n",
    "df6 = pd.read_csv('C:/Users/grants/code/old_growth/sen2_l8/zonal_stats/gu2_2017/gul2_2017_10m/gul02_s2_10m_TrainVal_data.csv', header=0)\n",
    "df6['zone'] = '53'\n",
    "print list(df6)\n",
    "print (df6.shape)"
   ]
  },
  {
   "cell_type": "code",
   "execution_count": 4,
   "metadata": {},
   "outputs": [
    {
     "name": "stdout",
     "output_type": "stream",
     "text": [
      "['Unnamed: 0', 'site', 'x', 'y', 'chm', 'std_1', 'Min_1', 'Max_1', 'count_1', 'perc5_1', 'perc10_1', 'perc25_1', 'perc50_1', 'perc75_1', 'perc80_1', 'perc95_1', 'perc99_1', 'cov', 'psB1a', 'psB2a', 'psB3a', 'psB4a', 'psB5a', 'psB6a', 'psB7a', 'psB8a', 'psB9a', 'psB10a', 'ratio32a', 'ratio42a', 'ratio43a', 'ratio52a', 'ratio53a', 'ratio54a', 'ratio62a', 'ratio63a', 'ratio64a', 'ratio65a', 'ratio109a', 'GSAVIa', 'GNDVIa', 'CVIa', 'NDGIa', 'RIa', 'NBRa', 'NDIIa', 'GDVIa', 'MSAVIa', 'DVIa', 'SAVIa', 'NDVIa', 'MSRa', 'CIgreena', 'NDRE1a', 'NDRE2a', 'CIrededgea', 'psB1d', 'psB2d', 'psB3d', 'psB4d', 'psB5d', 'psB6d', 'psB7d', 'psB8d', 'psB9d', 'psB10d', 'ratio32d', 'ratio42d', 'ratio43d', 'ratio52d', 'ratio53d', 'ratio54d', 'ratio62d', 'ratio63d', 'ratio64d', 'ratio65d', 'ratio109d', 'GSAVId', 'GNDVId', 'CVId', 'NDGId', 'RId', 'NBRd', 'NDIId', 'GDVId', 'MSAVId', 'DVId', 'SAVId', 'NDVId', 'MSRd', 'CIgreend', 'NDRE1d', 'NDRE2d', 'CIrededged', 'zone']\n",
      "------------\n",
      "['Unnamed: 0', 'site', 'x', 'y', 'chm', 'std_1', 'Min_1', 'Max_1', 'count_1', 'perc5_1', 'perc10_1', 'perc25_1', 'perc50_1', 'perc75_1', 'perc80_1', 'perc95_1', 'perc99_1', 'cov', 'psB1a', 'psB2a', 'psB3a', 'psB4a', 'psB5a', 'psB6a', 'psB7a', 'psB8a', 'psB9a', 'psB10a', 'ratio32a', 'ratio42a', 'ratio43a', 'ratio52a', 'ratio53a', 'ratio54a', 'ratio62a', 'ratio63a', 'ratio64a', 'ratio65a', 'ratio109a', 'GSAVIa', 'GNDVIa', 'CVIa', 'NDGIa', 'RIa', 'NBRa', 'NDIIa', 'GDVIa', 'MSAVIa', 'DVIa', 'SAVIa', 'NDVIa', 'MSRa', 'CIgreena', 'NDRE1a', 'NDRE2a', 'CIrededgea', 'psB1d', 'psB2d', 'psB3d', 'psB4d', 'psB5d', 'psB6d', 'psB7d', 'psB8d', 'psB9d', 'psB10d', 'ratio32d', 'ratio42d', 'ratio43d', 'ratio52d', 'ratio53d', 'ratio54d', 'ratio62d', 'ratio63d', 'ratio64d', 'ratio65d', 'ratio109d', 'GSAVId', 'GNDVId', 'CVId', 'NDGId', 'RId', 'NBRd', 'NDIId', 'GDVId', 'MSAVId', 'DVId', 'SAVId', 'NDVId', 'MSRd', 'CIgreend', 'NDRE1d', 'NDRE2d', 'CIrededged', 'zone']\n",
      "------------\n",
      "['Unnamed: 0', 'site', 'x', 'y', 'chm', 'std_1', 'Min_1', 'Max_1', 'count_1', 'perc5_1', 'perc10_1', 'perc25_1', 'perc50_1', 'perc75_1', 'perc80_1', 'perc95_1', 'perc99_1', 'cov', 'psB1a', 'psB2a', 'psB3a', 'psB4a', 'psB5a', 'psB6a', 'psB7a', 'psB8a', 'psB9a', 'psB10a', 'ratio32a', 'ratio42a', 'ratio43a', 'ratio52a', 'ratio53a', 'ratio54a', 'ratio62a', 'ratio63a', 'ratio64a', 'ratio65a', 'ratio109a', 'GSAVIa', 'GNDVIa', 'CVIa', 'NDGIa', 'RIa', 'NBRa', 'NDIIa', 'GDVIa', 'MSAVIa', 'DVIa', 'SAVIa', 'NDVIa', 'MSRa', 'CIgreena', 'NDRE1a', 'NDRE2a', 'CIrededgea', 'psB1d', 'psB2d', 'psB3d', 'psB4d', 'psB5d', 'psB6d', 'psB7d', 'psB8d', 'psB9d', 'psB10d', 'ratio32d', 'ratio42d', 'ratio43d', 'ratio52d', 'ratio53d', 'ratio54d', 'ratio62d', 'ratio63d', 'ratio64d', 'ratio65d', 'ratio109d', 'GSAVId', 'GNDVId', 'CVId', 'NDGId', 'RId', 'NBRd', 'NDIId', 'GDVId', 'MSAVId', 'DVId', 'SAVId', 'NDVId', 'MSRd', 'CIgreend', 'NDRE1d', 'NDRE2d', 'CIrededged', 'zone']\n",
      "------------\n",
      "['Unnamed: 0', 'site', 'x', 'y', 'chm', 'std_1', 'Min_1', 'Max_1', 'count_1', 'perc5_1', 'perc10_1', 'perc25_1', 'perc50_1', 'perc75_1', 'perc80_1', 'perc95_1', 'perc99_1', 'cov', 'psB1a', 'psB2a', 'psB3a', 'psB4a', 'psB5a', 'psB6a', 'psB7a', 'psB8a', 'psB9a', 'psB10a', 'ratio32a', 'ratio42a', 'ratio43a', 'ratio52a', 'ratio53a', 'ratio54a', 'ratio62a', 'ratio63a', 'ratio64a', 'ratio65a', 'ratio109a', 'GSAVIa', 'GNDVIa', 'CVIa', 'NDGIa', 'RIa', 'NBRa', 'NDIIa', 'GDVIa', 'MSAVIa', 'DVIa', 'SAVIa', 'NDVIa', 'MSRa', 'CIgreena', 'NDRE1a', 'NDRE2a', 'CIrededgea', 'psB1d', 'psB2d', 'psB3d', 'psB4d', 'psB5d', 'psB6d', 'psB7d', 'psB8d', 'psB9d', 'psB10d', 'ratio32d', 'ratio42d', 'ratio43d', 'ratio52d', 'ratio53d', 'ratio54d', 'ratio62d', 'ratio63d', 'ratio64d', 'ratio65d', 'ratio109d', 'GSAVId', 'GNDVId', 'CVId', 'NDGId', 'RId', 'NBRd', 'NDIId', 'GDVId', 'MSAVId', 'DVId', 'SAVId', 'NDVId', 'MSRd', 'CIgreend', 'NDRE1d', 'NDRE2d', 'CIrededged', 'zone']\n",
      "(404653, 95)\n"
     ]
    }
   ],
   "source": [
    "df7 = df.append(df2, ignore_index=True)\n",
    "print list(df7)\n",
    "print '------------'\n",
    "df8 = df7.append(df4, ignore_index=True)\n",
    "print list(df8)\n",
    "print '------------'\n",
    "df9 = df8.append(df5, ignore_index=True)\n",
    "print list(df9)\n",
    "print '------------'\n",
    "df10 = df9.append(df6, ignore_index=True)\n",
    "print list(df10)\n",
    "print df10.shape"
   ]
  },
  {
   "cell_type": "code",
   "execution_count": 5,
   "metadata": {},
   "outputs": [
    {
     "name": "stdout",
     "output_type": "stream",
     "text": [
      "(42397, 95)\n",
      "(326054, 95)\n",
      "(368451, 95)\n",
      "(368451, 95)\n"
     ]
    }
   ],
   "source": [
    "kd_o = df10[(df10['chm'] <= 0.0)] # & (kd['count_1'] >= 50.0)]\n",
    "print kd_o.shape\n",
    "#kd_oS = kd_o.sample(10000)\n",
    "\n",
    "kd_t = df10[(df10['chm'] >= 0.5)  & (df10['count_1'] >= 50.0)]\n",
    "print kd_t.shape\n",
    "\n",
    "frames = [kd_o, kd_t]\n",
    "jD = pd.concat(frames)\n",
    "print jD.shape\n",
    "\n",
    "jDa = jD.replace([np.inf, -np.inf], np.nan).copy()\n",
    "df1a = jDa.dropna()\n",
    "print df1a.shape"
   ]
  },
  {
   "cell_type": "code",
   "execution_count": 6,
   "metadata": {
    "collapsed": true
   },
   "outputs": [],
   "source": [
    "# reset the index so that it has unique values for each record\n",
    "df1a.index = pd.RangeIndex(len(df1a.index))"
   ]
  },
  {
   "cell_type": "code",
   "execution_count": 7,
   "metadata": {},
   "outputs": [
    {
     "name": "stdout",
     "output_type": "stream",
     "text": [
      "(368451, 95)\n",
      "(294761, 95)\n",
      "(73690, 95)\n"
     ]
    }
   ],
   "source": [
    "# select out 80 % to use as training data and 20 % for validation\n",
    "train=df1a.sample(frac=0.8)\n",
    "val=df1a.drop(train.index)\n",
    "print df1a.shape\n",
    "print train.shape\n",
    "print val.shape"
   ]
  },
  {
   "cell_type": "code",
   "execution_count": 8,
   "metadata": {
    "collapsed": true
   },
   "outputs": [],
   "source": [
    "# save the training and validation data to csv files \n",
    "train.to_csv(\"sent2_training_data_10m.csv\")\n",
    "val.to_csv(\"sent2_val_data_10m.csv\")"
   ]
  },
  {
   "cell_type": "code",
   "execution_count": null,
   "metadata": {
    "collapsed": true
   },
   "outputs": [],
   "source": []
  }
 ],
 "metadata": {
  "anaconda-cloud": {},
  "kernelspec": {
   "display_name": "Python 3",
   "language": "python",
   "name": "python3"
  },
  "language_info": {
   "codemirror_mode": {
    "name": "ipython",
    "version": 3
   },
   "file_extension": ".py",
   "mimetype": "text/x-python",
   "name": "python",
   "nbconvert_exporter": "python",
   "pygments_lexer": "ipython3",
   "version": "3.5.4"
  }
 },
 "nbformat": 4,
 "nbformat_minor": 1
}
