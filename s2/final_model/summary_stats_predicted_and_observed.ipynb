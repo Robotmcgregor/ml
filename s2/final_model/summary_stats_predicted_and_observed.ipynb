{
 "cells": [
  {
   "cell_type": "code",
   "execution_count": 1,
   "metadata": {},
   "outputs": [
    {
     "name": "stdout",
     "output_type": "stream",
     "text": [
      "Populating the interactive namespace from numpy and matplotlib\n"
     ]
    }
   ],
   "source": [
    "%pylab inline\n",
    "import os\n",
    "import glob\n",
    "import pandas as pd\n",
    "import numpy as np\n",
    "import matplotlib.pyplot as plt\n",
    "from pandas.tools.plotting import scatter_matrix\n",
    "from scipy.stats import gaussian_kde\n",
    "from pydoc import help\n",
    "from scipy.stats.stats import pearsonr\n",
    "from sklearn.metrics import explained_variance_score\n",
    "from scipy.stats import wilcoxon\n",
    "import warnings\n",
    "warnings.filterwarnings('ignore')\n",
    "from __future__ import print_function, division"
   ]
  },
  {
   "cell_type": "code",
   "execution_count": 2,
   "metadata": {},
   "outputs": [
    {
     "name": "stdout",
     "output_type": "stream",
     "text": [
      "['Unnamed: 0', 'predicted', 'observed']\n",
      "['Unnamed: 0', 'pr_h99', 'ob_h99']\n"
     ]
    }
   ],
   "source": [
    "h99 = pd.read_csv('./h99_10m/s2_10m_h99_predicted_observed_n24.csv', header=0)\n",
    "print (list(h99))\n",
    "h99.columns=['Unnamed: 0','pr_h99', 'ob_h99']\n",
    "print (list(h99))"
   ]
  },
  {
   "cell_type": "code",
   "execution_count": 3,
   "metadata": {},
   "outputs": [
    {
     "name": "stdout",
     "output_type": "stream",
     "text": [
      "['Unnamed: 0', 'predicted', 'observed']\n",
      "['Unnamed: 0', 'pr_h95', 'ob_h95']\n"
     ]
    }
   ],
   "source": [
    "h95 = pd.read_csv('./h95_10m/s2_10m_h95_predicted_observed.csv', header=0)\n",
    "print (list(h95))\n",
    "h95.columns=['Unnamed: 0','pr_h95', 'ob_h95']\n",
    "print (list(h95))"
   ]
  },
  {
   "cell_type": "code",
   "execution_count": 5,
   "metadata": {},
   "outputs": [
    {
     "name": "stdout",
     "output_type": "stream",
     "text": [
      "['Unnamed: 0', 'predicted', 'observed']\n",
      "['Unnamed: 0', 'pr_h75', 'ob_h75']\n"
     ]
    }
   ],
   "source": [
    "h75 = pd.read_csv('./h75_10m/s2_10m_h75_predicted_observed.csv', header=0)\n",
    "print (list(h75))\n",
    "h75.columns=['Unnamed: 0','pr_h75', 'ob_h75']\n",
    "print (list(h75))"
   ]
  },
  {
   "cell_type": "code",
   "execution_count": 6,
   "metadata": {},
   "outputs": [
    {
     "name": "stdout",
     "output_type": "stream",
     "text": [
      "['Unnamed: 0', 'predicted', 'observed']\n",
      "['Unnamed: 0', 'pr_h25', 'ob_h25']\n"
     ]
    }
   ],
   "source": [
    "h25 = pd.read_csv('./h25_10m/s2_10m_h25_predicted_observed.csv', header=0)\n",
    "print (list(h25))\n",
    "h25.columns=['Unnamed: 0','pr_h25', 'ob_h25']\n",
    "print (list(h25))"
   ]
  },
  {
   "cell_type": "code",
   "execution_count": 8,
   "metadata": {},
   "outputs": [
    {
     "name": "stdout",
     "output_type": "stream",
     "text": [
      "['Unnamed: 0', 'predicted', 'observed']\n",
      "['Unnamed: 0', 'pr_hmc', 'ob_hmc']\n"
     ]
    }
   ],
   "source": [
    "hmc = pd.read_csv('./mch_10m/s2_10m_mch_predicted_observed.csv', header=0)\n",
    "print (list(hmc))\n",
    "hmc.columns=['Unnamed: 0','pr_hmc', 'ob_hmc']\n",
    "print (list(hmc))"
   ]
  },
  {
   "cell_type": "code",
   "execution_count": 11,
   "metadata": {},
   "outputs": [
    {
     "name": "stdout",
     "output_type": "stream",
     "text": [
      "['Unnamed: 0', 'predicted', 'observed']\n",
      "['Unnamed: 0', 'pr_hsd', 'ob_hsd']\n"
     ]
    }
   ],
   "source": [
    "hsd = pd.read_csv('./h_std_10m/s2_10m_hsd_predicted_observed.csv', header=0)\n",
    "print (list(hsd))\n",
    "hsd.columns=['Unnamed: 0','pr_hsd', 'ob_hsd']\n",
    "print (list(hsd))"
   ]
  },
  {
   "cell_type": "code",
   "execution_count": 12,
   "metadata": {},
   "outputs": [
    {
     "name": "stdout",
     "output_type": "stream",
     "text": [
      "['Unnamed: 0', 'predicted', 'observed']\n",
      "['Unnamed: 0', 'pr_hcv', 'ob_hcv']\n"
     ]
    }
   ],
   "source": [
    "hcv = pd.read_csv('./h_cov_10m/s2_10m_hcv_predicted_observed.csv', header=0)\n",
    "print (list(hcv))\n",
    "hcv.columns=['Unnamed: 0','pr_hcv', 'ob_hcv']\n",
    "print (list(hcv))"
   ]
  },
  {
   "cell_type": "code",
   "execution_count": 13,
   "metadata": {},
   "outputs": [],
   "source": [
    "ndf = pd.concat([h99,h95,h75,h25,hmc, hsd, hcv], axis=1)\n",
    "ndf.to_csv()"
   ]
  },
  {
   "cell_type": "code",
   "execution_count": 15,
   "metadata": {},
   "outputs": [
    {
     "name": "stdout",
     "output_type": "stream",
     "text": [
      "(37000, 14)\n"
     ]
    }
   ],
   "source": [
    "ndf2=ndf[['ob_h99','ob_h95','ob_h75','ob_h25','ob_hmc','ob_hsd','ob_hcv','pr_h99','pr_h95','pr_h75','pr_h25',\n",
    "          'pr_hmc','pr_hsd','pr_hcv',]]\n",
    "print (ndf2.shape)"
   ]
  },
  {
   "cell_type": "code",
   "execution_count": 16,
   "metadata": {},
   "outputs": [],
   "source": [
    "summary = ndf2.describe()"
   ]
  },
  {
   "cell_type": "code",
   "execution_count": 17,
   "metadata": {},
   "outputs": [],
   "source": [
    "ndf2.to_csv('s2_10m_validation01_results.csv')"
   ]
  },
  {
   "cell_type": "code",
   "execution_count": 18,
   "metadata": {},
   "outputs": [],
   "source": [
    "summary.to_csv('summary_s2_10m_validation01_results.csv')"
   ]
  },
  {
   "cell_type": "code",
   "execution_count": 19,
   "metadata": {},
   "outputs": [
    {
     "name": "stdout",
     "output_type": "stream",
     "text": [
      "Populating the interactive namespace from numpy and matplotlib\n"
     ]
    }
   ],
   "source": [
    "%pylab inline\n",
    "\n",
    "import pandas as pd\n",
    "import math\n",
    "import numpy as np\n",
    "from random import sample\n",
    "import matplotlib.pyplot as plt\n",
    "import csv\n",
    "import glob\n",
    "import os"
   ]
  },
  {
   "cell_type": "code",
   "execution_count": 34,
   "metadata": {},
   "outputs": [
    {
     "name": "stdout",
     "output_type": "stream",
     "text": [
      "['Unnamed: 0', 'pr_h99', 'ob_h99', 'Unnamed: 0', 'pr_h95', 'ob_h95', 'Unnamed: 0', 'pr_h75', 'ob_h75', 'Unnamed: 0', 'pr_h25', 'ob_h25', 'Unnamed: 0', 'pr_hmc', 'ob_hmc', 'Unnamed: 0', 'pr_hsd', 'ob_hsd', 'Unnamed: 0', 'pr_hcv', 'ob_hcv']\n"
     ]
    }
   ],
   "source": [
    "print (list(ndf))"
   ]
  },
  {
   "cell_type": "code",
   "execution_count": null,
   "metadata": {},
   "outputs": [],
   "source": []
  },
  {
   "cell_type": "code",
   "execution_count": 40,
   "metadata": {},
   "outputs": [],
   "source": [
    "data2 = ndf2[['pr_h99', 'ob_h99','pr_h95', 'ob_h95', 'pr_h75', 'ob_h75', 'pr_h25', 'ob_h25','pr_hmc', 'ob_hmc','pr_hsd', 'ob_hsd', 'pr_hcv', 'ob_hcv' ]]\n",
    "data2.to_csv('s2_10_val01_summaryStats_for_boxPlots.csv')"
   ]
  },
  {
   "cell_type": "code",
   "execution_count": 38,
   "metadata": {},
   "outputs": [
    {
     "data": {
      "image/png": "[encoded data removed]",
      "text/plain": [
       "<matplotlib.figure.Figure at 0xc67c588>"
      ]
     },
     "metadata": {
      "needs_background": "light"
     },
     "output_type": "display_data"
    }
   ],
   "source": [
    "meanprop = dict(color='k')\n",
    "patch_artist=True\n",
    "# set color and plot the box plot \n",
    "color =  dict(boxes='black', whiskers='black', medians='black', caps='black')\n",
    "barplot = data2.plot(kind='box',color=color, showmeans=True,figsize=(20,8),meanprops=meanprop) # , \n",
    "\n",
    "# axis font size\n",
    "values = ['pr_h99', 'ob_h99','pr_h95', 'ob_h95', 'pr_h75', 'ob_h75', 'pr_h25', 'ob_h25','pr_hmc', 'ob_hmc',]\n",
    "barplot.set_xticklabels(values,fontsize=12)\n",
    "\n",
    "# need to comment out the y label values when first creating the plot to see what the range of values are for the r2Vals string\n",
    "#r2Vals = ['2.8','3.0', '3.2','3.4','3.6','3.8','4.0','4.2', '4.4']\n",
    "#barplot.set_yticklabels(r2Vals,fontsize=22)\n",
    "\n",
    "# axis labels \n",
    "barplot.set_ylabel(\"hmc (m)\",fontsize = 12)\n",
    "#barplot.set_xlabel('Summary stats_predicted and Observed',fontsize = 22)\n",
    "\n",
    "# export the figure to as png at 600 dpi\n",
    "fig = barplot.get_figure()\n",
    "\n",
    "fig.savefig('bar_graph_n_estimatorsRMSE.png',dpi=600)"
   ]
  },
  {
   "cell_type": "code",
   "execution_count": 29,
   "metadata": {},
   "outputs": [
    {
     "name": "stdout",
     "output_type": "stream",
     "text": [
      "Populating the interactive namespace from numpy and matplotlib\n"
     ]
    }
   ],
   "source": [
    "%pylab inline\n",
    "import pandas as pd\n",
    "import numpy as np\n",
    "import matplotlib.pyplot as plt\n",
    "from pandas.tools.plotting import scatter_matrix\n",
    "from scipy.stats import gaussian_kde\n",
    "from pydoc import help\n",
    "from scipy.stats.stats import pearsonr\n",
    "from scipy.stats import itemfreq\n",
    "from sklearn.metrics import explained_variance_score\n",
    "from scipy.stats import wilcoxon\n",
    "from sklearn.linear_model import Ridge\n",
    "from sklearn.linear_model import LinearRegression"
   ]
  },
  {
   "cell_type": "code",
   "execution_count": 31,
   "metadata": {},
   "outputs": [
    {
     "name": "stdout",
     "output_type": "stream",
     "text": [
      "37000\n"
     ]
    },
    {
     "data": {
      "image/png": "[encoded data removed]",
      "text/plain": [
       "<matplotlib.figure.Figure at 0xc3061d0>"
      ]
     },
     "metadata": {
      "needs_background": "light"
     },
     "output_type": "display_data"
    }
   ],
   "source": [
    "l7chm = ndf2['ob_hmc'].values\n",
    "maxVal = l7chm.max()\n",
    "result = itemfreq(l7chm)\n",
    "    \n",
    "nS = str(len(l7chm))\n",
    "print (nS)\n",
    "\n",
    "df1 = pd.DataFrame(result, columns = ['MEAN_chmL7', 'Count'])\n",
    "SumC = df1['Count'].sum()\n",
    "df1['percCount'] = (df1['Count']/SumC)*100\n",
    "df1['cumuPerc'] = df1.percCount.cumsum()\n",
    "x1 = df1['MEAN_chmL7']\n",
    "y1 = df1['cumuPerc']\n",
    "\n",
    "\n",
    "l8chm = ndf2['pr_hmc'].values\n",
    "maxVal2 = l8chm.max()\n",
    "result2 = itemfreq(l8chm)\n",
    "\n",
    "df2 = pd.DataFrame(result2, columns = ['MEAN_chmL8', 'Count'])\n",
    "SumC2 = df2['Count'].sum()\n",
    "df2['percCount'] = (df2['Count']/SumC2)*100\n",
    "df2['cumuPerc'] = df2.percCount.cumsum()\n",
    "x2 = df2['MEAN_chmL8']\n",
    "y2 = df2['cumuPerc']\n",
    "\n",
    "\n",
    "# text for the x and y axis\n",
    "    \n",
    "#plt.title(\"2013\" , fontsize=12)\n",
    "plt.ylabel('Cumulative frequency',fontsize=12)\n",
    "plt.xlabel('Mean canopy height (m)',fontsize=12)\n",
    " \n",
    "    \n",
    "plt.ylim(0, 100)\n",
    "\n",
    "plt.plot(x1, y1, color='black', linestyle=\"--\",linewidth=1.5 ,label='Landsat-7 ETM+')\n",
    "plt.plot(x2, y2, color='black', linestyle=':',linewidth=1.5 ,label='Landsat-8 OLI' )\n",
    "    \n",
    "plt.legend(loc=4)\n",
    "    \n",
    "plt.tight_layout()\n",
    "plt.savefig('l7-l8_106068_2013_cumu_freq_dist.pdf',figsize=(15,15),dpi=600)\n",
    "plt.show()"
   ]
  },
  {
   "cell_type": "code",
   "execution_count": null,
   "metadata": {},
   "outputs": [],
   "source": []
  }
 ],
 "metadata": {
  "kernelspec": {
   "display_name": "Python 3",
   "language": "python",
   "name": "python3"
  },
  "language_info": {
   "codemirror_mode": {
    "name": "ipython",
    "version": 3
   },
   "file_extension": ".py",
   "mimetype": "text/x-python",
   "name": "python",
   "nbconvert_exporter": "python",
   "pygments_lexer": "ipython3",
   "version": "3.5.4"
  }
 },
 "nbformat": 4,
 "nbformat_minor": 2
}
