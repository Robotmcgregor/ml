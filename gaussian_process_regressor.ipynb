{
 "cells": [
  {
   "cell_type": "markdown",
   "id": "19536de3",
   "metadata": {},
   "source": [
    "# Gaussian Process Regressor"
   ]
  },
  {
   "cell_type": "code",
   "execution_count": 12,
   "id": "7a0dce8e",
   "metadata": {},
   "outputs": [],
   "source": [
    "from sklearn.gaussian_process import GaussianProcessRegressor\n",
    "from sklearn.gaussian_process.kernels import RBF\n",
    "from sklearn.datasets import make_regression\n",
    "from sklearn.model_selection import train_test_split\n",
    "from sklearn.metrics import mean_squared_error\n",
    "from sklearn.datasets import load_diabetes\n",
    "from sklearn import metrics\n",
    "import numpy as np\n",
    "import pickle"
   ]
  },
  {
   "cell_type": "code",
   "execution_count": 3,
   "id": "a0266f28",
   "metadata": {},
   "outputs": [],
   "source": [
    "diabeties = load_diabetes()"
   ]
  },
  {
   "cell_type": "code",
   "execution_count": 7,
   "id": "f87fdc30",
   "metadata": {},
   "outputs": [
    {
     "name": "stdout",
     "output_type": "stream",
     "text": [
      "Mean Squared Error: 26548.584269662922\n"
     ]
    }
   ],
   "source": [
    "# Generate synthetic data\n",
    "X = diabeties.data\n",
    "Y = diabeties.target\n",
    "\n",
    "# Generate synthetic data\n",
    "#X, y = make_regression(n_samples=1000, n_features=10, noise=0.1, random_state=42)\n",
    "\n",
    "# Split data into training and testing sets\n",
    "X_train, X_test, y_train, y_test = train_test_split(X, Y, test_size=0.2, random_state=42)\n",
    "\n",
    "# Instantiate the GaussianProcessRegressor model with RBF kernel\n",
    "kernel = RBF(length_scale=1.0)\n",
    "gpr = GaussianProcessRegressor(kernel=kernel, random_state=42)\n",
    "\n",
    "# Fit the model to the training data\n",
    "gpr.fit(X_train, y_train)\n",
    "\n",
    "# Make predictions on the testing data\n",
    "y_pred = gpr.predict(X_test)\n",
    "\n",
    "# Evaluate the model\n",
    "mse = mean_squared_error(y_test, y_pred)\n",
    "print(\"Mean Squared Error:\", mse)"
   ]
  },
  {
   "cell_type": "markdown",
   "id": "3ef18bd2",
   "metadata": {},
   "source": [
    "Hyperparameter tuning for GaussianProcessRegressor involves finding the optimal values for parameters like the kernel parameters or other model-specific parameters. One common approach for hyperparameter tuning is to use cross-validation.\n",
    "\n",
    "Here's how you can perform hyperparameter tuning for GaussianProcessRegressor using cross-validation:"
   ]
  },
  {
   "cell_type": "code",
   "execution_count": 14,
   "id": "a1d16752",
   "metadata": {},
   "outputs": [
    {
     "name": "stdout",
     "output_type": "stream",
     "text": [
      "Best Parameters: {'alpha': 0.1, 'kernel': RBF(length_scale=0.1)}\n",
      "---Gaussian Process Regressor on diabeties dataset---\n",
      "R squared: 0.06  MSE: 4959.38 \n",
      "  RMSE: 70.42 \n",
      "\n"
     ]
    }
   ],
   "source": [
    "from sklearn.gaussian_process import GaussianProcessRegressor\n",
    "from sklearn.gaussian_process.kernels import RBF\n",
    "from sklearn.datasets import make_regression\n",
    "from sklearn.model_selection import train_test_split, GridSearchCV\n",
    "from sklearn.metrics import mean_squared_error\n",
    "\n",
    "# Generate synthetic data\n",
    "#X, y = make_regression(n_samples=1000, n_features=10, noise=0.1, random_state=42)\n",
    "\n",
    "# Split data into training and testing sets\n",
    "X_train, X_test, y_train, y_test = train_test_split(X, Y, test_size=0.2, random_state=42)\n",
    "\n",
    "# Define the parameter grid\n",
    "param_grid = {\n",
    "    'kernel': [RBF(length_scale=1.0), RBF(length_scale=0.1), RBF(length_scale=0.01), RBF(length_scale=0.001)],\n",
    "    'alpha': [1e-5, 1e-4, 1e-3, 1e-2, 1e-1]\n",
    "}\n",
    "\n",
    "# Instantiate the GaussianProcessRegressor model\n",
    "gpr = GaussianProcessRegressor(random_state=42)\n",
    "\n",
    "# Perform grid search with cross-validation\n",
    "grid_search = GridSearchCV(gpr, param_grid, cv=5, scoring='neg_mean_squared_error')\n",
    "grid_search.fit(X_train, y_train)\n",
    "\n",
    "# Get the best parameters\n",
    "best_params = grid_search.best_params_\n",
    "print(\"Best Parameters:\", best_params)\n",
    "\n",
    "# Evaluate the model with best parameters\n",
    "best_model = grid_search.best_estimator_\n",
    "y_pred = best_model.predict(X_test)\n",
    "# mse = mean_squared_error(y_test, y_pred)\n",
    "# print(\"Mean Squared Error:\", mse)\n",
    "\n",
    "err = metrics.mean_squared_error(y_test, best_model.predict(X_test))\n",
    "r2 = metrics.r2_score(y_test, best_model.predict(X_test))\n",
    "rmse = np.sqrt(err)\n",
    "\n",
    "print(\"---Gaussian Process Regressor on diabeties dataset---\")\n",
    "rmse = np.sqrt(err)\n",
    "print(\"R squared: %.2f\"%r2, ' MSE: %.2f \\n' %err, ' RMSE: %.2f \\n' %rmse) "
   ]
  },
  {
   "cell_type": "code",
   "execution_count": null,
   "id": "2af1fd40",
   "metadata": {},
   "outputs": [],
   "source": []
  }
 ],
 "metadata": {
  "kernelspec": {
   "display_name": "Python 3 (ipykernel)",
   "language": "python",
   "name": "python3"
  },
  "language_info": {
   "codemirror_mode": {
    "name": "ipython",
    "version": 3
   },
   "file_extension": ".py",
   "mimetype": "text/x-python",
   "name": "python",
   "nbconvert_exporter": "python",
   "pygments_lexer": "ipython3",
   "version": "3.7.0"
  }
 },
 "nbformat": 4,
 "nbformat_minor": 5
}
